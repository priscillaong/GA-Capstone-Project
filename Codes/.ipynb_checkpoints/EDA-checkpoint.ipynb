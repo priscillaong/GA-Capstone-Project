{
 "cells": [
  {
   "cell_type": "markdown",
   "id": "9bae2225",
   "metadata": {},
   "source": [
    "# Background"
   ]
  },
  {
   "cell_type": "markdown",
   "id": "8abe64e4",
   "metadata": {},
   "source": [
    "The dataset contains metadata for all 45,000 movies listed in the full MovieLens dataset released on or before July 2017. Movie features includes cast, plot keywords and vote counts/averages obtained via the TMDB Open API. It also contains 26 million ratings from 270,000 users for all 45,000 movies. Ratings are on a scale of 1-5 and have been obtained from the official GroupLens website.<br>\n",
    "\n",
    "[Source of dataset: Kaggle](https://www.kaggle.com/datasets/rounakbanik/the-movies-dataset)"
   ]
  },
  {
   "cell_type": "markdown",
   "id": "8dad8252",
   "metadata": {},
   "source": [
    "# Problem Statement"
   ]
  },
  {
   "cell_type": "markdown",
   "id": "2af6dffa",
   "metadata": {},
   "source": [
    "Recommender systems are used widely these days. It is used to provide better suggestions to customers which in turn drive sales and reduce churn rate to allow customer retention. <br>\n",
    "\n",
    "Netflix is one of the top movie streaming services in the world. About 80% of what their users watches come from their recommendation algorithms ([Source](https://recoai.net/netflix-recommendation-system-how-it-works/)). This shows that recommendator systems and algorithms are largely relied upon these days to recommend movies to users. <br>\n",
    "\n",
    "The aim of this project is to build various movie recommender systems and study how the different unsupervised learning algorithms/models make predictions before determining which might be a better system to rely on in production."
   ]
  },
  {
   "cell_type": "markdown",
   "id": "64df445a",
   "metadata": {},
   "source": [
    "# Data Dictionary"
   ]
  },
  {
   "cell_type": "markdown",
   "id": "c8a71c1a",
   "metadata": {},
   "source": [
    "|Feature|Type|Dataset|Description|\n",
    "|---|---|---|---|\n",
    "|adult|object|movies_metadata.csv|Indicates if movie is for Adults|\n",
    "|belongs_to_collection|object|movies_metadata.csv|Movie Series a movie belongs to|\n",
    "|budget|object|movies_metadata.csv|Budget of the movie in dollars|\n",
    "|genres|object|movies_metadata.csv|Genres associated with the movie|\n",
    "|homepage|object|movies_metadata.csv|Official homepage of the movie|\n",
    "|id|object|movies_metadata.csv|ID of movie|\n",
    "|imdb_id|object|movies_metadata.csv|IMDB ID of movie|\n",
    "|original_language|object|movies_metadata.csv|Language which the movie was shot in|\n",
    "|original_title|object|movies_metadata.csv|Original Title of movie|\n",
    "|overview|object|movies_metadata.csv|Brief Description of the movie|\n",
    "|popularity|object|movies_metadata.csv|Popularity score assigned by TMDB|\n",
    "|poster_path|object|movies_metadata.csv|URL of the poster image|\n",
    "|production_companies|object|movies_metadata.csv|Production Companies involved with making of the movie|\n",
    "|production_countries|object|movies_metadata.csv|Countries where the movie was shot/produced in|\n",
    "|release_date|object|movies_metadata.csv|Theatrical Release Date of the movie|\n",
    "|revenue|float|movies_metadata.csv|Total Revenue of the movie in dollars|\n",
    "|runtime|float|movies_metadata.csv|Runtime of the movie in minutes|\n",
    "|spoken_languages|object|movies_metadata.csv|Spoken Languages in the movie|\n",
    "|status|object|movies_metadata.csv|Status of the movie|\n",
    "|tagline|object|movies_metadata.csv|Tagline of the movie|\n",
    "|title|object|movies_metadata.csv|Official Title of the movie|\n",
    "|video|object|movies_metadata.csv|Indicates if there is a video present of the movie with IMDB|\n",
    "|vote_average|float|movies_metadata.csv|Average Rating of the movie|\n",
    "|vote_count|float|movies_metadata.csv|Number of votes by users, as counted by TMDB|\n",
    "|id|integer|keywords.csv|ID of movie|\n",
    "|keywords|object|keywords.csv|Movie Plot Keywords|\n",
    "|cast|object|credits.csv|Cast information|\n",
    "|crew|object|credits.csv|Crew information|\n",
    "|id|integer|credits.csv|ID of movie|\n",
    "|userId|integer|ratings.csv|userID|\n",
    "|movieId|integer|ratings.csv|ID of movie|\n",
    "|rating|float|ratings.csv|user rating of movie|\n",
    "|timestamp|integer|ratings.csv|timestamp of rating|\n",
    "|userId|integer|ratings_small.csv|userID|\n",
    "|movieId|integer|ratings_small.csv|ID of movie|\n",
    "|rating|float|ratings_small.csv|user rating of movie|\n",
    "|timestamp|integer|ratings_small.csv|timestamp of rating|\n",
    "\n",
    "*Note: ratings_small.csv is the subset of ratings.csv which contains 100,000 ratings from 700 users on 9,000 movies."
   ]
  },
  {
   "cell_type": "markdown",
   "id": "2dc76dda",
   "metadata": {},
   "source": [
    "# Data Cleaning"
   ]
  },
  {
   "cell_type": "code",
   "execution_count": 1,
   "id": "fd69df04",
   "metadata": {},
   "outputs": [],
   "source": [
    "#Import libraries\n",
    "import pandas as pd\n",
    "import numpy as np\n",
    "import datetime\n",
    "import ast\n",
    "import matplotlib.pyplot as plt\n",
    "import seaborn as sns\n",
    "import string\n",
    "import nltk\n",
    "import re\n",
    "from sklearn.feature_extraction.text import CountVectorizer\n",
    "\n",
    "#Suppress Warnings\n",
    "import warnings\n",
    "warnings.filterwarnings('ignore')\n",
    "\n",
    "#Adjust the max columns and rows displayed in the df\n",
    "pd.set_option(\"display.max_columns\", 25)\n",
    "pd.set_option(\"display.max_rows\", 25)"
   ]
  },
  {
   "cell_type": "code",
   "execution_count": 2,
   "id": "7464846d",
   "metadata": {},
   "outputs": [],
   "source": [
    "#Load data\n",
    "metadata = pd.read_csv('../Data/movies_metadata.csv')\n",
    "ratings = pd.read_csv('../Data/ratings.csv')\n",
    "ratings_small = pd.read_csv('../Data/ratings_small.csv')\n",
    "keywords = pd.read_csv('../Data/keywords.csv')\n",
    "credits = pd.read_csv('../Data/credits.csv')"
   ]
  },
  {
   "cell_type": "markdown",
   "id": "1fd0965f",
   "metadata": {},
   "source": [
    "## movie_metadata"
   ]
  },
  {
   "cell_type": "markdown",
   "id": "ad96270a",
   "metadata": {},
   "source": [
    "Take a look at the first 5 records"
   ]
  },
  {
   "cell_type": "code",
   "execution_count": 3,
   "id": "caa51940",
   "metadata": {},
   "outputs": [
    {
     "data": {
      "text/html": [
       "<div>\n",
       "<style scoped>\n",
       "    .dataframe tbody tr th:only-of-type {\n",
       "        vertical-align: middle;\n",
       "    }\n",
       "\n",
       "    .dataframe tbody tr th {\n",
       "        vertical-align: top;\n",
       "    }\n",
       "\n",
       "    .dataframe thead th {\n",
       "        text-align: right;\n",
       "    }\n",
       "</style>\n",
       "<table border=\"1\" class=\"dataframe\">\n",
       "  <thead>\n",
       "    <tr style=\"text-align: right;\">\n",
       "      <th></th>\n",
       "      <th>adult</th>\n",
       "      <th>belongs_to_collection</th>\n",
       "      <th>budget</th>\n",
       "      <th>genres</th>\n",
       "      <th>homepage</th>\n",
       "      <th>id</th>\n",
       "      <th>imdb_id</th>\n",
       "      <th>original_language</th>\n",
       "      <th>original_title</th>\n",
       "      <th>overview</th>\n",
       "      <th>popularity</th>\n",
       "      <th>poster_path</th>\n",
       "      <th>production_companies</th>\n",
       "      <th>production_countries</th>\n",
       "      <th>release_date</th>\n",
       "      <th>revenue</th>\n",
       "      <th>runtime</th>\n",
       "      <th>spoken_languages</th>\n",
       "      <th>status</th>\n",
       "      <th>tagline</th>\n",
       "      <th>title</th>\n",
       "      <th>video</th>\n",
       "      <th>vote_average</th>\n",
       "      <th>vote_count</th>\n",
       "    </tr>\n",
       "  </thead>\n",
       "  <tbody>\n",
       "    <tr>\n",
       "      <th>0</th>\n",
       "      <td>False</td>\n",
       "      <td>{'id': 10194, 'name': 'Toy Story Collection', ...</td>\n",
       "      <td>30000000</td>\n",
       "      <td>[{'id': 16, 'name': 'Animation'}, {'id': 35, '...</td>\n",
       "      <td>http://toystory.disney.com/toy-story</td>\n",
       "      <td>862</td>\n",
       "      <td>tt0114709</td>\n",
       "      <td>en</td>\n",
       "      <td>Toy Story</td>\n",
       "      <td>Led by Woody, Andy's toys live happily in his ...</td>\n",
       "      <td>21.946943</td>\n",
       "      <td>/rhIRbceoE9lR4veEXuwCC2wARtG.jpg</td>\n",
       "      <td>[{'name': 'Pixar Animation Studios', 'id': 3}]</td>\n",
       "      <td>[{'iso_3166_1': 'US', 'name': 'United States o...</td>\n",
       "      <td>1995-10-30</td>\n",
       "      <td>373554033.0</td>\n",
       "      <td>81.0</td>\n",
       "      <td>[{'iso_639_1': 'en', 'name': 'English'}]</td>\n",
       "      <td>Released</td>\n",
       "      <td>NaN</td>\n",
       "      <td>Toy Story</td>\n",
       "      <td>False</td>\n",
       "      <td>7.7</td>\n",
       "      <td>5415.0</td>\n",
       "    </tr>\n",
       "    <tr>\n",
       "      <th>1</th>\n",
       "      <td>False</td>\n",
       "      <td>NaN</td>\n",
       "      <td>65000000</td>\n",
       "      <td>[{'id': 12, 'name': 'Adventure'}, {'id': 14, '...</td>\n",
       "      <td>NaN</td>\n",
       "      <td>8844</td>\n",
       "      <td>tt0113497</td>\n",
       "      <td>en</td>\n",
       "      <td>Jumanji</td>\n",
       "      <td>When siblings Judy and Peter discover an encha...</td>\n",
       "      <td>17.015539</td>\n",
       "      <td>/vzmL6fP7aPKNKPRTFnZmiUfciyV.jpg</td>\n",
       "      <td>[{'name': 'TriStar Pictures', 'id': 559}, {'na...</td>\n",
       "      <td>[{'iso_3166_1': 'US', 'name': 'United States o...</td>\n",
       "      <td>1995-12-15</td>\n",
       "      <td>262797249.0</td>\n",
       "      <td>104.0</td>\n",
       "      <td>[{'iso_639_1': 'en', 'name': 'English'}, {'iso...</td>\n",
       "      <td>Released</td>\n",
       "      <td>Roll the dice and unleash the excitement!</td>\n",
       "      <td>Jumanji</td>\n",
       "      <td>False</td>\n",
       "      <td>6.9</td>\n",
       "      <td>2413.0</td>\n",
       "    </tr>\n",
       "    <tr>\n",
       "      <th>2</th>\n",
       "      <td>False</td>\n",
       "      <td>{'id': 119050, 'name': 'Grumpy Old Men Collect...</td>\n",
       "      <td>0</td>\n",
       "      <td>[{'id': 10749, 'name': 'Romance'}, {'id': 35, ...</td>\n",
       "      <td>NaN</td>\n",
       "      <td>15602</td>\n",
       "      <td>tt0113228</td>\n",
       "      <td>en</td>\n",
       "      <td>Grumpier Old Men</td>\n",
       "      <td>A family wedding reignites the ancient feud be...</td>\n",
       "      <td>11.7129</td>\n",
       "      <td>/6ksm1sjKMFLbO7UY2i6G1ju9SML.jpg</td>\n",
       "      <td>[{'name': 'Warner Bros.', 'id': 6194}, {'name'...</td>\n",
       "      <td>[{'iso_3166_1': 'US', 'name': 'United States o...</td>\n",
       "      <td>1995-12-22</td>\n",
       "      <td>0.0</td>\n",
       "      <td>101.0</td>\n",
       "      <td>[{'iso_639_1': 'en', 'name': 'English'}]</td>\n",
       "      <td>Released</td>\n",
       "      <td>Still Yelling. Still Fighting. Still Ready for...</td>\n",
       "      <td>Grumpier Old Men</td>\n",
       "      <td>False</td>\n",
       "      <td>6.5</td>\n",
       "      <td>92.0</td>\n",
       "    </tr>\n",
       "    <tr>\n",
       "      <th>3</th>\n",
       "      <td>False</td>\n",
       "      <td>NaN</td>\n",
       "      <td>16000000</td>\n",
       "      <td>[{'id': 35, 'name': 'Comedy'}, {'id': 18, 'nam...</td>\n",
       "      <td>NaN</td>\n",
       "      <td>31357</td>\n",
       "      <td>tt0114885</td>\n",
       "      <td>en</td>\n",
       "      <td>Waiting to Exhale</td>\n",
       "      <td>Cheated on, mistreated and stepped on, the wom...</td>\n",
       "      <td>3.859495</td>\n",
       "      <td>/16XOMpEaLWkrcPqSQqhTmeJuqQl.jpg</td>\n",
       "      <td>[{'name': 'Twentieth Century Fox Film Corporat...</td>\n",
       "      <td>[{'iso_3166_1': 'US', 'name': 'United States o...</td>\n",
       "      <td>1995-12-22</td>\n",
       "      <td>81452156.0</td>\n",
       "      <td>127.0</td>\n",
       "      <td>[{'iso_639_1': 'en', 'name': 'English'}]</td>\n",
       "      <td>Released</td>\n",
       "      <td>Friends are the people who let you be yourself...</td>\n",
       "      <td>Waiting to Exhale</td>\n",
       "      <td>False</td>\n",
       "      <td>6.1</td>\n",
       "      <td>34.0</td>\n",
       "    </tr>\n",
       "    <tr>\n",
       "      <th>4</th>\n",
       "      <td>False</td>\n",
       "      <td>{'id': 96871, 'name': 'Father of the Bride Col...</td>\n",
       "      <td>0</td>\n",
       "      <td>[{'id': 35, 'name': 'Comedy'}]</td>\n",
       "      <td>NaN</td>\n",
       "      <td>11862</td>\n",
       "      <td>tt0113041</td>\n",
       "      <td>en</td>\n",
       "      <td>Father of the Bride Part II</td>\n",
       "      <td>Just when George Banks has recovered from his ...</td>\n",
       "      <td>8.387519</td>\n",
       "      <td>/e64sOI48hQXyru7naBFyssKFxVd.jpg</td>\n",
       "      <td>[{'name': 'Sandollar Productions', 'id': 5842}...</td>\n",
       "      <td>[{'iso_3166_1': 'US', 'name': 'United States o...</td>\n",
       "      <td>1995-02-10</td>\n",
       "      <td>76578911.0</td>\n",
       "      <td>106.0</td>\n",
       "      <td>[{'iso_639_1': 'en', 'name': 'English'}]</td>\n",
       "      <td>Released</td>\n",
       "      <td>Just When His World Is Back To Normal... He's ...</td>\n",
       "      <td>Father of the Bride Part II</td>\n",
       "      <td>False</td>\n",
       "      <td>5.7</td>\n",
       "      <td>173.0</td>\n",
       "    </tr>\n",
       "  </tbody>\n",
       "</table>\n",
       "</div>"
      ],
      "text/plain": [
       "   adult                              belongs_to_collection    budget  \\\n",
       "0  False  {'id': 10194, 'name': 'Toy Story Collection', ...  30000000   \n",
       "1  False                                                NaN  65000000   \n",
       "2  False  {'id': 119050, 'name': 'Grumpy Old Men Collect...         0   \n",
       "3  False                                                NaN  16000000   \n",
       "4  False  {'id': 96871, 'name': 'Father of the Bride Col...         0   \n",
       "\n",
       "                                              genres  \\\n",
       "0  [{'id': 16, 'name': 'Animation'}, {'id': 35, '...   \n",
       "1  [{'id': 12, 'name': 'Adventure'}, {'id': 14, '...   \n",
       "2  [{'id': 10749, 'name': 'Romance'}, {'id': 35, ...   \n",
       "3  [{'id': 35, 'name': 'Comedy'}, {'id': 18, 'nam...   \n",
       "4                     [{'id': 35, 'name': 'Comedy'}]   \n",
       "\n",
       "                               homepage     id    imdb_id original_language  \\\n",
       "0  http://toystory.disney.com/toy-story    862  tt0114709                en   \n",
       "1                                   NaN   8844  tt0113497                en   \n",
       "2                                   NaN  15602  tt0113228                en   \n",
       "3                                   NaN  31357  tt0114885                en   \n",
       "4                                   NaN  11862  tt0113041                en   \n",
       "\n",
       "                original_title  \\\n",
       "0                    Toy Story   \n",
       "1                      Jumanji   \n",
       "2             Grumpier Old Men   \n",
       "3            Waiting to Exhale   \n",
       "4  Father of the Bride Part II   \n",
       "\n",
       "                                            overview popularity  \\\n",
       "0  Led by Woody, Andy's toys live happily in his ...  21.946943   \n",
       "1  When siblings Judy and Peter discover an encha...  17.015539   \n",
       "2  A family wedding reignites the ancient feud be...    11.7129   \n",
       "3  Cheated on, mistreated and stepped on, the wom...   3.859495   \n",
       "4  Just when George Banks has recovered from his ...   8.387519   \n",
       "\n",
       "                        poster_path  \\\n",
       "0  /rhIRbceoE9lR4veEXuwCC2wARtG.jpg   \n",
       "1  /vzmL6fP7aPKNKPRTFnZmiUfciyV.jpg   \n",
       "2  /6ksm1sjKMFLbO7UY2i6G1ju9SML.jpg   \n",
       "3  /16XOMpEaLWkrcPqSQqhTmeJuqQl.jpg   \n",
       "4  /e64sOI48hQXyru7naBFyssKFxVd.jpg   \n",
       "\n",
       "                                production_companies  \\\n",
       "0     [{'name': 'Pixar Animation Studios', 'id': 3}]   \n",
       "1  [{'name': 'TriStar Pictures', 'id': 559}, {'na...   \n",
       "2  [{'name': 'Warner Bros.', 'id': 6194}, {'name'...   \n",
       "3  [{'name': 'Twentieth Century Fox Film Corporat...   \n",
       "4  [{'name': 'Sandollar Productions', 'id': 5842}...   \n",
       "\n",
       "                                production_countries release_date  \\\n",
       "0  [{'iso_3166_1': 'US', 'name': 'United States o...   1995-10-30   \n",
       "1  [{'iso_3166_1': 'US', 'name': 'United States o...   1995-12-15   \n",
       "2  [{'iso_3166_1': 'US', 'name': 'United States o...   1995-12-22   \n",
       "3  [{'iso_3166_1': 'US', 'name': 'United States o...   1995-12-22   \n",
       "4  [{'iso_3166_1': 'US', 'name': 'United States o...   1995-02-10   \n",
       "\n",
       "       revenue  runtime                                   spoken_languages  \\\n",
       "0  373554033.0     81.0           [{'iso_639_1': 'en', 'name': 'English'}]   \n",
       "1  262797249.0    104.0  [{'iso_639_1': 'en', 'name': 'English'}, {'iso...   \n",
       "2          0.0    101.0           [{'iso_639_1': 'en', 'name': 'English'}]   \n",
       "3   81452156.0    127.0           [{'iso_639_1': 'en', 'name': 'English'}]   \n",
       "4   76578911.0    106.0           [{'iso_639_1': 'en', 'name': 'English'}]   \n",
       "\n",
       "     status                                            tagline  \\\n",
       "0  Released                                                NaN   \n",
       "1  Released          Roll the dice and unleash the excitement!   \n",
       "2  Released  Still Yelling. Still Fighting. Still Ready for...   \n",
       "3  Released  Friends are the people who let you be yourself...   \n",
       "4  Released  Just When His World Is Back To Normal... He's ...   \n",
       "\n",
       "                         title  video  vote_average  vote_count  \n",
       "0                    Toy Story  False           7.7      5415.0  \n",
       "1                      Jumanji  False           6.9      2413.0  \n",
       "2             Grumpier Old Men  False           6.5        92.0  \n",
       "3            Waiting to Exhale  False           6.1        34.0  \n",
       "4  Father of the Bride Part II  False           5.7       173.0  "
      ]
     },
     "execution_count": 3,
     "metadata": {},
     "output_type": "execute_result"
    }
   ],
   "source": [
    "metadata.head()"
   ]
  },
  {
   "cell_type": "markdown",
   "id": "8075e7fe",
   "metadata": {},
   "source": [
    "Take a look at the columns"
   ]
  },
  {
   "cell_type": "code",
   "execution_count": 4,
   "id": "9e2b9e68",
   "metadata": {},
   "outputs": [
    {
     "data": {
      "text/plain": [
       "Index(['adult', 'belongs_to_collection', 'budget', 'genres', 'homepage', 'id',\n",
       "       'imdb_id', 'original_language', 'original_title', 'overview',\n",
       "       'popularity', 'poster_path', 'production_companies',\n",
       "       'production_countries', 'release_date', 'revenue', 'runtime',\n",
       "       'spoken_languages', 'status', 'tagline', 'title', 'video',\n",
       "       'vote_average', 'vote_count'],\n",
       "      dtype='object')"
      ]
     },
     "execution_count": 4,
     "metadata": {},
     "output_type": "execute_result"
    }
   ],
   "source": [
    "metadata.columns"
   ]
  },
  {
   "cell_type": "markdown",
   "id": "9b9bf5cc",
   "metadata": {},
   "source": [
    "Take a look at the shape"
   ]
  },
  {
   "cell_type": "code",
   "execution_count": 5,
   "id": "64ddcf82",
   "metadata": {},
   "outputs": [
    {
     "data": {
      "text/plain": [
       "(45466, 24)"
      ]
     },
     "execution_count": 5,
     "metadata": {},
     "output_type": "execute_result"
    }
   ],
   "source": [
    "metadata.shape"
   ]
  },
  {
   "cell_type": "markdown",
   "id": "a3e48b3a",
   "metadata": {},
   "source": [
    "Take a look at the columns, null values and data types"
   ]
  },
  {
   "cell_type": "code",
   "execution_count": 6,
   "id": "873f815c",
   "metadata": {},
   "outputs": [
    {
     "name": "stdout",
     "output_type": "stream",
     "text": [
      "<class 'pandas.core.frame.DataFrame'>\n",
      "RangeIndex: 45466 entries, 0 to 45465\n",
      "Data columns (total 24 columns):\n",
      " #   Column                 Non-Null Count  Dtype  \n",
      "---  ------                 --------------  -----  \n",
      " 0   adult                  45466 non-null  object \n",
      " 1   belongs_to_collection  4494 non-null   object \n",
      " 2   budget                 45466 non-null  object \n",
      " 3   genres                 45466 non-null  object \n",
      " 4   homepage               7782 non-null   object \n",
      " 5   id                     45466 non-null  object \n",
      " 6   imdb_id                45449 non-null  object \n",
      " 7   original_language      45455 non-null  object \n",
      " 8   original_title         45466 non-null  object \n",
      " 9   overview               44512 non-null  object \n",
      " 10  popularity             45461 non-null  object \n",
      " 11  poster_path            45080 non-null  object \n",
      " 12  production_companies   45463 non-null  object \n",
      " 13  production_countries   45463 non-null  object \n",
      " 14  release_date           45379 non-null  object \n",
      " 15  revenue                45460 non-null  float64\n",
      " 16  runtime                45203 non-null  float64\n",
      " 17  spoken_languages       45460 non-null  object \n",
      " 18  status                 45379 non-null  object \n",
      " 19  tagline                20412 non-null  object \n",
      " 20  title                  45460 non-null  object \n",
      " 21  video                  45460 non-null  object \n",
      " 22  vote_average           45460 non-null  float64\n",
      " 23  vote_count             45460 non-null  float64\n",
      "dtypes: float64(4), object(20)\n",
      "memory usage: 8.3+ MB\n"
     ]
    }
   ],
   "source": [
    "metadata.info()"
   ]
  },
  {
   "cell_type": "markdown",
   "id": "1b1bd69a",
   "metadata": {},
   "source": [
    "To address the duplicates and delete them from the dataset first."
   ]
  },
  {
   "cell_type": "code",
   "execution_count": 7,
   "id": "ee0e6d76",
   "metadata": {},
   "outputs": [
    {
     "data": {
      "text/plain": [
       "13"
      ]
     },
     "execution_count": 7,
     "metadata": {},
     "output_type": "execute_result"
    }
   ],
   "source": [
    "metadata.duplicated().sum()"
   ]
  },
  {
   "cell_type": "code",
   "execution_count": 8,
   "id": "55593cd2",
   "metadata": {},
   "outputs": [],
   "source": [
    "metadata = metadata.drop_duplicates()"
   ]
  },
  {
   "cell_type": "markdown",
   "id": "a74b7c6a",
   "metadata": {},
   "source": [
    "We will now take a look at the features we will be using for EDA and our recommender and do some data cleaning on the columns if necesary and drop those features which are unnecessary."
   ]
  },
  {
   "cell_type": "markdown",
   "id": "5b283432",
   "metadata": {},
   "source": [
    "To select the features which we will be using in EDA and our recommender."
   ]
  },
  {
   "cell_type": "code",
   "execution_count": 9,
   "id": "669f7ff0",
   "metadata": {},
   "outputs": [],
   "source": [
    "metadata = metadata[['genres', 'id', 'overview', 'tagline', 'title', 'popularity', \n",
    "                     'release_date', 'vote_average', 'vote_count']]"
   ]
  },
  {
   "cell_type": "markdown",
   "id": "4185ae22",
   "metadata": {},
   "source": [
    "### id"
   ]
  },
  {
   "cell_type": "markdown",
   "id": "5b8760bf",
   "metadata": {},
   "source": [
    "Update id column to integer."
   ]
  },
  {
   "cell_type": "code",
   "execution_count": 10,
   "id": "f3f38c21",
   "metadata": {},
   "outputs": [
    {
     "data": {
      "text/html": [
       "<div>\n",
       "<style scoped>\n",
       "    .dataframe tbody tr th:only-of-type {\n",
       "        vertical-align: middle;\n",
       "    }\n",
       "\n",
       "    .dataframe tbody tr th {\n",
       "        vertical-align: top;\n",
       "    }\n",
       "\n",
       "    .dataframe thead th {\n",
       "        text-align: right;\n",
       "    }\n",
       "</style>\n",
       "<table border=\"1\" class=\"dataframe\">\n",
       "  <thead>\n",
       "    <tr style=\"text-align: right;\">\n",
       "      <th></th>\n",
       "      <th>genres</th>\n",
       "      <th>id</th>\n",
       "      <th>overview</th>\n",
       "      <th>tagline</th>\n",
       "      <th>title</th>\n",
       "      <th>popularity</th>\n",
       "      <th>release_date</th>\n",
       "      <th>vote_average</th>\n",
       "      <th>vote_count</th>\n",
       "    </tr>\n",
       "  </thead>\n",
       "  <tbody>\n",
       "    <tr>\n",
       "      <th>19730</th>\n",
       "      <td>[{'name': 'Carousel Productions', 'id': 11176}...</td>\n",
       "      <td>1997-08-20</td>\n",
       "      <td>Released</td>\n",
       "      <td>NaN</td>\n",
       "      <td>NaN</td>\n",
       "      <td>NaN</td>\n",
       "      <td>1</td>\n",
       "      <td>NaN</td>\n",
       "      <td>NaN</td>\n",
       "    </tr>\n",
       "    <tr>\n",
       "      <th>29503</th>\n",
       "      <td>[{'name': 'Aniplex', 'id': 2883}, {'name': 'Go...</td>\n",
       "      <td>2012-09-29</td>\n",
       "      <td>Released</td>\n",
       "      <td>NaN</td>\n",
       "      <td>NaN</td>\n",
       "      <td>NaN</td>\n",
       "      <td>12</td>\n",
       "      <td>NaN</td>\n",
       "      <td>NaN</td>\n",
       "    </tr>\n",
       "    <tr>\n",
       "      <th>35587</th>\n",
       "      <td>[{'name': 'Odyssey Media', 'id': 17161}, {'nam...</td>\n",
       "      <td>2014-01-01</td>\n",
       "      <td>Released</td>\n",
       "      <td>NaN</td>\n",
       "      <td>NaN</td>\n",
       "      <td>Beware Of Frost Bites</td>\n",
       "      <td>22</td>\n",
       "      <td>NaN</td>\n",
       "      <td>NaN</td>\n",
       "    </tr>\n",
       "  </tbody>\n",
       "</table>\n",
       "</div>"
      ],
      "text/plain": [
       "                                                  genres          id  \\\n",
       "19730  [{'name': 'Carousel Productions', 'id': 11176}...  1997-08-20   \n",
       "29503  [{'name': 'Aniplex', 'id': 2883}, {'name': 'Go...  2012-09-29   \n",
       "35587  [{'name': 'Odyssey Media', 'id': 17161}, {'nam...  2014-01-01   \n",
       "\n",
       "       overview tagline title             popularity release_date  \\\n",
       "19730  Released     NaN   NaN                    NaN            1   \n",
       "29503  Released     NaN   NaN                    NaN           12   \n",
       "35587  Released     NaN   NaN  Beware Of Frost Bites           22   \n",
       "\n",
       "       vote_average  vote_count  \n",
       "19730           NaN         NaN  \n",
       "29503           NaN         NaN  \n",
       "35587           NaN         NaN  "
      ]
     },
     "execution_count": 10,
     "metadata": {},
     "output_type": "execute_result"
    }
   ],
   "source": [
    "#id has a row with date in id column. To drop such rows\n",
    "metadata[metadata['id'].str.contains('-')]"
   ]
  },
  {
   "cell_type": "code",
   "execution_count": 11,
   "id": "a079b940",
   "metadata": {},
   "outputs": [],
   "source": [
    "metadata = metadata.drop([19730, 29503, 35587])"
   ]
  },
  {
   "cell_type": "code",
   "execution_count": 12,
   "id": "8b5f9847",
   "metadata": {},
   "outputs": [],
   "source": [
    "metadata['id'] = metadata['id'].astype(int)"
   ]
  },
  {
   "cell_type": "markdown",
   "id": "b8fc17ac",
   "metadata": {},
   "source": [
    "### popularity"
   ]
  },
  {
   "cell_type": "markdown",
   "id": "bbf03043",
   "metadata": {},
   "source": [
    "Popularity is currently an object type. To change to float type."
   ]
  },
  {
   "cell_type": "code",
   "execution_count": 13,
   "id": "0e97e93c",
   "metadata": {},
   "outputs": [],
   "source": [
    "metadata['popularity'] = metadata['popularity'].astype(float)"
   ]
  },
  {
   "cell_type": "markdown",
   "id": "2de4f6d4",
   "metadata": {},
   "source": [
    "### release_date"
   ]
  },
  {
   "cell_type": "markdown",
   "id": "366b1631",
   "metadata": {},
   "source": [
    "We want to extract the year of the release date."
   ]
  },
  {
   "cell_type": "code",
   "execution_count": 14,
   "id": "f187a749",
   "metadata": {},
   "outputs": [],
   "source": [
    "metadata['year'] = pd.to_datetime(metadata['release_date'], errors='coerce').apply(lambda x: str(x).split('-')[0] if x != np.nan else np.nan)"
   ]
  },
  {
   "cell_type": "code",
   "execution_count": 15,
   "id": "4a8c81a9",
   "metadata": {},
   "outputs": [],
   "source": [
    "#Save clean file as csv\n",
    "metadata.to_csv('../Data/movies_metadata_clean.csv', index=False)"
   ]
  },
  {
   "cell_type": "markdown",
   "id": "ac03f43f",
   "metadata": {},
   "source": [
    "## Ratings"
   ]
  },
  {
   "cell_type": "code",
   "execution_count": 16,
   "id": "764333ac",
   "metadata": {},
   "outputs": [
    {
     "data": {
      "text/html": [
       "<div>\n",
       "<style scoped>\n",
       "    .dataframe tbody tr th:only-of-type {\n",
       "        vertical-align: middle;\n",
       "    }\n",
       "\n",
       "    .dataframe tbody tr th {\n",
       "        vertical-align: top;\n",
       "    }\n",
       "\n",
       "    .dataframe thead th {\n",
       "        text-align: right;\n",
       "    }\n",
       "</style>\n",
       "<table border=\"1\" class=\"dataframe\">\n",
       "  <thead>\n",
       "    <tr style=\"text-align: right;\">\n",
       "      <th></th>\n",
       "      <th>userId</th>\n",
       "      <th>movieId</th>\n",
       "      <th>rating</th>\n",
       "      <th>timestamp</th>\n",
       "    </tr>\n",
       "  </thead>\n",
       "  <tbody>\n",
       "    <tr>\n",
       "      <th>0</th>\n",
       "      <td>1</td>\n",
       "      <td>110</td>\n",
       "      <td>1.0</td>\n",
       "      <td>1425941529</td>\n",
       "    </tr>\n",
       "    <tr>\n",
       "      <th>1</th>\n",
       "      <td>1</td>\n",
       "      <td>147</td>\n",
       "      <td>4.5</td>\n",
       "      <td>1425942435</td>\n",
       "    </tr>\n",
       "    <tr>\n",
       "      <th>2</th>\n",
       "      <td>1</td>\n",
       "      <td>858</td>\n",
       "      <td>5.0</td>\n",
       "      <td>1425941523</td>\n",
       "    </tr>\n",
       "    <tr>\n",
       "      <th>3</th>\n",
       "      <td>1</td>\n",
       "      <td>1221</td>\n",
       "      <td>5.0</td>\n",
       "      <td>1425941546</td>\n",
       "    </tr>\n",
       "    <tr>\n",
       "      <th>4</th>\n",
       "      <td>1</td>\n",
       "      <td>1246</td>\n",
       "      <td>5.0</td>\n",
       "      <td>1425941556</td>\n",
       "    </tr>\n",
       "  </tbody>\n",
       "</table>\n",
       "</div>"
      ],
      "text/plain": [
       "   userId  movieId  rating   timestamp\n",
       "0       1      110     1.0  1425941529\n",
       "1       1      147     4.5  1425942435\n",
       "2       1      858     5.0  1425941523\n",
       "3       1     1221     5.0  1425941546\n",
       "4       1     1246     5.0  1425941556"
      ]
     },
     "execution_count": 16,
     "metadata": {},
     "output_type": "execute_result"
    }
   ],
   "source": [
    "ratings.head()"
   ]
  },
  {
   "cell_type": "code",
   "execution_count": 17,
   "id": "0cde0d4b",
   "metadata": {},
   "outputs": [
    {
     "data": {
      "text/plain": [
       "(26024289, 4)"
      ]
     },
     "execution_count": 17,
     "metadata": {},
     "output_type": "execute_result"
    }
   ],
   "source": [
    "ratings.shape"
   ]
  },
  {
   "cell_type": "code",
   "execution_count": 18,
   "id": "ab186dc9",
   "metadata": {},
   "outputs": [
    {
     "name": "stdout",
     "output_type": "stream",
     "text": [
      "<class 'pandas.core.frame.DataFrame'>\n",
      "RangeIndex: 26024289 entries, 0 to 26024288\n",
      "Data columns (total 4 columns):\n",
      " #   Column     Dtype  \n",
      "---  ------     -----  \n",
      " 0   userId     int64  \n",
      " 1   movieId    int64  \n",
      " 2   rating     float64\n",
      " 3   timestamp  int64  \n",
      "dtypes: float64(1), int64(3)\n",
      "memory usage: 794.2 MB\n"
     ]
    }
   ],
   "source": [
    "ratings.info()"
   ]
  },
  {
   "cell_type": "code",
   "execution_count": 19,
   "id": "ee4280b0",
   "metadata": {},
   "outputs": [
    {
     "data": {
      "text/plain": [
       "userId       0\n",
       "movieId      0\n",
       "rating       0\n",
       "timestamp    0\n",
       "dtype: int64"
      ]
     },
     "execution_count": 19,
     "metadata": {},
     "output_type": "execute_result"
    }
   ],
   "source": [
    "#no null values\n",
    "ratings.isnull().sum()"
   ]
  },
  {
   "cell_type": "code",
   "execution_count": 20,
   "id": "26dc2beb",
   "metadata": {},
   "outputs": [
    {
     "data": {
      "text/plain": [
       "0"
      ]
     },
     "execution_count": 20,
     "metadata": {},
     "output_type": "execute_result"
    }
   ],
   "source": [
    "#no duplicates\n",
    "ratings.duplicated().sum()"
   ]
  },
  {
   "cell_type": "markdown",
   "id": "1f0bb395",
   "metadata": {},
   "source": [
    "## ratings_small"
   ]
  },
  {
   "cell_type": "code",
   "execution_count": 21,
   "id": "4f9c545a",
   "metadata": {},
   "outputs": [
    {
     "data": {
      "text/html": [
       "<div>\n",
       "<style scoped>\n",
       "    .dataframe tbody tr th:only-of-type {\n",
       "        vertical-align: middle;\n",
       "    }\n",
       "\n",
       "    .dataframe tbody tr th {\n",
       "        vertical-align: top;\n",
       "    }\n",
       "\n",
       "    .dataframe thead th {\n",
       "        text-align: right;\n",
       "    }\n",
       "</style>\n",
       "<table border=\"1\" class=\"dataframe\">\n",
       "  <thead>\n",
       "    <tr style=\"text-align: right;\">\n",
       "      <th></th>\n",
       "      <th>userId</th>\n",
       "      <th>movieId</th>\n",
       "      <th>rating</th>\n",
       "      <th>timestamp</th>\n",
       "    </tr>\n",
       "  </thead>\n",
       "  <tbody>\n",
       "    <tr>\n",
       "      <th>0</th>\n",
       "      <td>1</td>\n",
       "      <td>31</td>\n",
       "      <td>2.5</td>\n",
       "      <td>1260759144</td>\n",
       "    </tr>\n",
       "    <tr>\n",
       "      <th>1</th>\n",
       "      <td>1</td>\n",
       "      <td>1029</td>\n",
       "      <td>3.0</td>\n",
       "      <td>1260759179</td>\n",
       "    </tr>\n",
       "    <tr>\n",
       "      <th>2</th>\n",
       "      <td>1</td>\n",
       "      <td>1061</td>\n",
       "      <td>3.0</td>\n",
       "      <td>1260759182</td>\n",
       "    </tr>\n",
       "    <tr>\n",
       "      <th>3</th>\n",
       "      <td>1</td>\n",
       "      <td>1129</td>\n",
       "      <td>2.0</td>\n",
       "      <td>1260759185</td>\n",
       "    </tr>\n",
       "    <tr>\n",
       "      <th>4</th>\n",
       "      <td>1</td>\n",
       "      <td>1172</td>\n",
       "      <td>4.0</td>\n",
       "      <td>1260759205</td>\n",
       "    </tr>\n",
       "  </tbody>\n",
       "</table>\n",
       "</div>"
      ],
      "text/plain": [
       "   userId  movieId  rating   timestamp\n",
       "0       1       31     2.5  1260759144\n",
       "1       1     1029     3.0  1260759179\n",
       "2       1     1061     3.0  1260759182\n",
       "3       1     1129     2.0  1260759185\n",
       "4       1     1172     4.0  1260759205"
      ]
     },
     "execution_count": 21,
     "metadata": {},
     "output_type": "execute_result"
    }
   ],
   "source": [
    "ratings_small.head()"
   ]
  },
  {
   "cell_type": "code",
   "execution_count": 22,
   "id": "d3cc451c",
   "metadata": {},
   "outputs": [
    {
     "data": {
      "text/plain": [
       "(100004, 4)"
      ]
     },
     "execution_count": 22,
     "metadata": {},
     "output_type": "execute_result"
    }
   ],
   "source": [
    "ratings_small.shape"
   ]
  },
  {
   "cell_type": "code",
   "execution_count": 23,
   "id": "50ec2f15",
   "metadata": {},
   "outputs": [
    {
     "name": "stdout",
     "output_type": "stream",
     "text": [
      "<class 'pandas.core.frame.DataFrame'>\n",
      "RangeIndex: 100004 entries, 0 to 100003\n",
      "Data columns (total 4 columns):\n",
      " #   Column     Non-Null Count   Dtype  \n",
      "---  ------     --------------   -----  \n",
      " 0   userId     100004 non-null  int64  \n",
      " 1   movieId    100004 non-null  int64  \n",
      " 2   rating     100004 non-null  float64\n",
      " 3   timestamp  100004 non-null  int64  \n",
      "dtypes: float64(1), int64(3)\n",
      "memory usage: 3.1 MB\n"
     ]
    }
   ],
   "source": [
    "ratings_small.info()"
   ]
  },
  {
   "cell_type": "code",
   "execution_count": 24,
   "id": "5eb5a143",
   "metadata": {},
   "outputs": [
    {
     "data": {
      "text/plain": [
       "userId       0\n",
       "movieId      0\n",
       "rating       0\n",
       "timestamp    0\n",
       "dtype: int64"
      ]
     },
     "execution_count": 24,
     "metadata": {},
     "output_type": "execute_result"
    }
   ],
   "source": [
    "#no null values\n",
    "ratings_small.isnull().sum()"
   ]
  },
  {
   "cell_type": "code",
   "execution_count": 25,
   "id": "a8f28170",
   "metadata": {},
   "outputs": [
    {
     "data": {
      "text/plain": [
       "0"
      ]
     },
     "execution_count": 25,
     "metadata": {},
     "output_type": "execute_result"
    }
   ],
   "source": [
    "#no duplicates\n",
    "ratings_small.duplicated().sum()"
   ]
  },
  {
   "cell_type": "markdown",
   "id": "d53e2846",
   "metadata": {},
   "source": [
    "## Keywords"
   ]
  },
  {
   "cell_type": "code",
   "execution_count": 26,
   "id": "00911290",
   "metadata": {},
   "outputs": [
    {
     "data": {
      "text/html": [
       "<div>\n",
       "<style scoped>\n",
       "    .dataframe tbody tr th:only-of-type {\n",
       "        vertical-align: middle;\n",
       "    }\n",
       "\n",
       "    .dataframe tbody tr th {\n",
       "        vertical-align: top;\n",
       "    }\n",
       "\n",
       "    .dataframe thead th {\n",
       "        text-align: right;\n",
       "    }\n",
       "</style>\n",
       "<table border=\"1\" class=\"dataframe\">\n",
       "  <thead>\n",
       "    <tr style=\"text-align: right;\">\n",
       "      <th></th>\n",
       "      <th>id</th>\n",
       "      <th>keywords</th>\n",
       "    </tr>\n",
       "  </thead>\n",
       "  <tbody>\n",
       "    <tr>\n",
       "      <th>0</th>\n",
       "      <td>862</td>\n",
       "      <td>[{'id': 931, 'name': 'jealousy'}, {'id': 4290,...</td>\n",
       "    </tr>\n",
       "    <tr>\n",
       "      <th>1</th>\n",
       "      <td>8844</td>\n",
       "      <td>[{'id': 10090, 'name': 'board game'}, {'id': 1...</td>\n",
       "    </tr>\n",
       "    <tr>\n",
       "      <th>2</th>\n",
       "      <td>15602</td>\n",
       "      <td>[{'id': 1495, 'name': 'fishing'}, {'id': 12392...</td>\n",
       "    </tr>\n",
       "    <tr>\n",
       "      <th>3</th>\n",
       "      <td>31357</td>\n",
       "      <td>[{'id': 818, 'name': 'based on novel'}, {'id':...</td>\n",
       "    </tr>\n",
       "    <tr>\n",
       "      <th>4</th>\n",
       "      <td>11862</td>\n",
       "      <td>[{'id': 1009, 'name': 'baby'}, {'id': 1599, 'n...</td>\n",
       "    </tr>\n",
       "  </tbody>\n",
       "</table>\n",
       "</div>"
      ],
      "text/plain": [
       "      id                                           keywords\n",
       "0    862  [{'id': 931, 'name': 'jealousy'}, {'id': 4290,...\n",
       "1   8844  [{'id': 10090, 'name': 'board game'}, {'id': 1...\n",
       "2  15602  [{'id': 1495, 'name': 'fishing'}, {'id': 12392...\n",
       "3  31357  [{'id': 818, 'name': 'based on novel'}, {'id':...\n",
       "4  11862  [{'id': 1009, 'name': 'baby'}, {'id': 1599, 'n..."
      ]
     },
     "execution_count": 26,
     "metadata": {},
     "output_type": "execute_result"
    }
   ],
   "source": [
    "keywords.head()"
   ]
  },
  {
   "cell_type": "code",
   "execution_count": 27,
   "id": "0d981fa1",
   "metadata": {},
   "outputs": [
    {
     "data": {
      "text/plain": [
       "(46419, 2)"
      ]
     },
     "execution_count": 27,
     "metadata": {},
     "output_type": "execute_result"
    }
   ],
   "source": [
    "keywords.shape"
   ]
  },
  {
   "cell_type": "code",
   "execution_count": 28,
   "id": "76629689",
   "metadata": {},
   "outputs": [
    {
     "name": "stdout",
     "output_type": "stream",
     "text": [
      "<class 'pandas.core.frame.DataFrame'>\n",
      "RangeIndex: 46419 entries, 0 to 46418\n",
      "Data columns (total 2 columns):\n",
      " #   Column    Non-Null Count  Dtype \n",
      "---  ------    --------------  ----- \n",
      " 0   id        46419 non-null  int64 \n",
      " 1   keywords  46419 non-null  object\n",
      "dtypes: int64(1), object(1)\n",
      "memory usage: 725.4+ KB\n"
     ]
    }
   ],
   "source": [
    "keywords.info()"
   ]
  },
  {
   "cell_type": "code",
   "execution_count": 29,
   "id": "bfe7b03f",
   "metadata": {},
   "outputs": [
    {
     "data": {
      "text/plain": [
       "id          0\n",
       "keywords    0\n",
       "dtype: int64"
      ]
     },
     "execution_count": 29,
     "metadata": {},
     "output_type": "execute_result"
    }
   ],
   "source": [
    "#no null values\n",
    "keywords.isnull().sum()"
   ]
  },
  {
   "cell_type": "code",
   "execution_count": 30,
   "id": "11fd7e64",
   "metadata": {},
   "outputs": [
    {
     "data": {
      "text/plain": [
       "987"
      ]
     },
     "execution_count": 30,
     "metadata": {},
     "output_type": "execute_result"
    }
   ],
   "source": [
    "#duplicates\n",
    "keywords.duplicated().sum()"
   ]
  },
  {
   "cell_type": "code",
   "execution_count": 31,
   "id": "f00784a5",
   "metadata": {},
   "outputs": [],
   "source": [
    "#drop duplicates\n",
    "keywords = keywords.drop_duplicates()"
   ]
  },
  {
   "cell_type": "code",
   "execution_count": 32,
   "id": "de40f72e",
   "metadata": {},
   "outputs": [],
   "source": [
    "#Save clean file as csv\n",
    "keywords.to_csv('../Data/keywords_clean.csv', index=False)"
   ]
  },
  {
   "cell_type": "markdown",
   "id": "91601f90",
   "metadata": {},
   "source": [
    "## Credits"
   ]
  },
  {
   "cell_type": "code",
   "execution_count": 33,
   "id": "45a2260b",
   "metadata": {},
   "outputs": [
    {
     "data": {
      "text/html": [
       "<div>\n",
       "<style scoped>\n",
       "    .dataframe tbody tr th:only-of-type {\n",
       "        vertical-align: middle;\n",
       "    }\n",
       "\n",
       "    .dataframe tbody tr th {\n",
       "        vertical-align: top;\n",
       "    }\n",
       "\n",
       "    .dataframe thead th {\n",
       "        text-align: right;\n",
       "    }\n",
       "</style>\n",
       "<table border=\"1\" class=\"dataframe\">\n",
       "  <thead>\n",
       "    <tr style=\"text-align: right;\">\n",
       "      <th></th>\n",
       "      <th>cast</th>\n",
       "      <th>crew</th>\n",
       "      <th>id</th>\n",
       "    </tr>\n",
       "  </thead>\n",
       "  <tbody>\n",
       "    <tr>\n",
       "      <th>0</th>\n",
       "      <td>[{'cast_id': 14, 'character': 'Woody (voice)',...</td>\n",
       "      <td>[{'credit_id': '52fe4284c3a36847f8024f49', 'de...</td>\n",
       "      <td>862</td>\n",
       "    </tr>\n",
       "    <tr>\n",
       "      <th>1</th>\n",
       "      <td>[{'cast_id': 1, 'character': 'Alan Parrish', '...</td>\n",
       "      <td>[{'credit_id': '52fe44bfc3a36847f80a7cd1', 'de...</td>\n",
       "      <td>8844</td>\n",
       "    </tr>\n",
       "    <tr>\n",
       "      <th>2</th>\n",
       "      <td>[{'cast_id': 2, 'character': 'Max Goldman', 'c...</td>\n",
       "      <td>[{'credit_id': '52fe466a9251416c75077a89', 'de...</td>\n",
       "      <td>15602</td>\n",
       "    </tr>\n",
       "    <tr>\n",
       "      <th>3</th>\n",
       "      <td>[{'cast_id': 1, 'character': \"Savannah 'Vannah...</td>\n",
       "      <td>[{'credit_id': '52fe44779251416c91011acb', 'de...</td>\n",
       "      <td>31357</td>\n",
       "    </tr>\n",
       "    <tr>\n",
       "      <th>4</th>\n",
       "      <td>[{'cast_id': 1, 'character': 'George Banks', '...</td>\n",
       "      <td>[{'credit_id': '52fe44959251416c75039ed7', 'de...</td>\n",
       "      <td>11862</td>\n",
       "    </tr>\n",
       "  </tbody>\n",
       "</table>\n",
       "</div>"
      ],
      "text/plain": [
       "                                                cast  \\\n",
       "0  [{'cast_id': 14, 'character': 'Woody (voice)',...   \n",
       "1  [{'cast_id': 1, 'character': 'Alan Parrish', '...   \n",
       "2  [{'cast_id': 2, 'character': 'Max Goldman', 'c...   \n",
       "3  [{'cast_id': 1, 'character': \"Savannah 'Vannah...   \n",
       "4  [{'cast_id': 1, 'character': 'George Banks', '...   \n",
       "\n",
       "                                                crew     id  \n",
       "0  [{'credit_id': '52fe4284c3a36847f8024f49', 'de...    862  \n",
       "1  [{'credit_id': '52fe44bfc3a36847f80a7cd1', 'de...   8844  \n",
       "2  [{'credit_id': '52fe466a9251416c75077a89', 'de...  15602  \n",
       "3  [{'credit_id': '52fe44779251416c91011acb', 'de...  31357  \n",
       "4  [{'credit_id': '52fe44959251416c75039ed7', 'de...  11862  "
      ]
     },
     "execution_count": 33,
     "metadata": {},
     "output_type": "execute_result"
    }
   ],
   "source": [
    "credits.head()"
   ]
  },
  {
   "cell_type": "code",
   "execution_count": 34,
   "id": "b807e25e",
   "metadata": {},
   "outputs": [
    {
     "data": {
      "text/plain": [
       "(45476, 3)"
      ]
     },
     "execution_count": 34,
     "metadata": {},
     "output_type": "execute_result"
    }
   ],
   "source": [
    "credits.shape"
   ]
  },
  {
   "cell_type": "code",
   "execution_count": 35,
   "id": "6abb7d73",
   "metadata": {},
   "outputs": [
    {
     "name": "stdout",
     "output_type": "stream",
     "text": [
      "<class 'pandas.core.frame.DataFrame'>\n",
      "RangeIndex: 45476 entries, 0 to 45475\n",
      "Data columns (total 3 columns):\n",
      " #   Column  Non-Null Count  Dtype \n",
      "---  ------  --------------  ----- \n",
      " 0   cast    45476 non-null  object\n",
      " 1   crew    45476 non-null  object\n",
      " 2   id      45476 non-null  int64 \n",
      "dtypes: int64(1), object(2)\n",
      "memory usage: 1.0+ MB\n"
     ]
    }
   ],
   "source": [
    "credits.info()"
   ]
  },
  {
   "cell_type": "code",
   "execution_count": 36,
   "id": "ef64323e",
   "metadata": {},
   "outputs": [
    {
     "data": {
      "text/plain": [
       "cast    0\n",
       "crew    0\n",
       "id      0\n",
       "dtype: int64"
      ]
     },
     "execution_count": 36,
     "metadata": {},
     "output_type": "execute_result"
    }
   ],
   "source": [
    "#no null values\n",
    "credits.isnull().sum()"
   ]
  },
  {
   "cell_type": "code",
   "execution_count": 37,
   "id": "2e01b09d",
   "metadata": {},
   "outputs": [
    {
     "data": {
      "text/plain": [
       "37"
      ]
     },
     "execution_count": 37,
     "metadata": {},
     "output_type": "execute_result"
    }
   ],
   "source": [
    "#duplicates\n",
    "credits.duplicated().sum()"
   ]
  },
  {
   "cell_type": "code",
   "execution_count": 38,
   "id": "c6da74d7",
   "metadata": {},
   "outputs": [],
   "source": [
    "#drop duplicates\n",
    "credits = credits.drop_duplicates()"
   ]
  },
  {
   "cell_type": "markdown",
   "id": "36f0f174",
   "metadata": {},
   "source": [
    "We will only be using cast and id column from the credits file."
   ]
  },
  {
   "cell_type": "code",
   "execution_count": 39,
   "id": "8d3a17f7",
   "metadata": {},
   "outputs": [],
   "source": [
    "credits = credits[['id', 'cast']]"
   ]
  },
  {
   "cell_type": "code",
   "execution_count": 40,
   "id": "365bd52e",
   "metadata": {},
   "outputs": [],
   "source": [
    "#Save clean file as csv\n",
    "credits.to_csv('../Data/credits_clean.csv', index=False)"
   ]
  },
  {
   "cell_type": "markdown",
   "id": "8e1b715e",
   "metadata": {},
   "source": [
    "# EDA"
   ]
  },
  {
   "cell_type": "markdown",
   "id": "752722b9",
   "metadata": {},
   "source": [
    "We will now take a look at the genres, popularity, vote_count and vote_average feature of each movie from the movies_metadata dataset."
   ]
  },
  {
   "cell_type": "markdown",
   "id": "36719cc5",
   "metadata": {},
   "source": [
    "## Genres"
   ]
  },
  {
   "cell_type": "code",
   "execution_count": 41,
   "id": "2f7cd0da",
   "metadata": {},
   "outputs": [],
   "source": [
    "#extract the genres for each movie \n",
    "\n",
    "genres_df = metadata\n",
    "\n",
    "genres_df['genres'] = metadata['genres'].fillna('[]').apply(ast.literal_eval).apply(lambda x: [i['name'] for i in x] if isinstance(x, list) else [])"
   ]
  },
  {
   "cell_type": "code",
   "execution_count": 42,
   "id": "7ffd28e6",
   "metadata": {},
   "outputs": [],
   "source": [
    "#extract into a series and join to the genres_df\n",
    "genres = genres_df.apply(lambda x: pd.Series(x['genres']),axis=1).stack().reset_index(level=1, drop=True)\n",
    "genres.name = 'genre'\n",
    "\n",
    "genres_df = genres_df.drop('genres', axis=1).join(genres)"
   ]
  },
  {
   "cell_type": "code",
   "execution_count": 43,
   "id": "5b2713b2",
   "metadata": {},
   "outputs": [
    {
     "data": {
      "text/plain": [
       "Drama              20255\n",
       "Comedy             13180\n",
       "Thriller            7621\n",
       "Romance             6734\n",
       "Action              6594\n",
       "Horror              4672\n",
       "Crime               4306\n",
       "Documentary         3932\n",
       "Adventure           3495\n",
       "Science Fiction     3046\n",
       "Family              2770\n",
       "Mystery             2465\n",
       "Fantasy             2311\n",
       "Animation           1933\n",
       "Foreign             1620\n",
       "Music               1598\n",
       "History             1398\n",
       "War                 1323\n",
       "Western             1042\n",
       "TV Movie             767\n",
       "Name: genre, dtype: int64"
      ]
     },
     "execution_count": 43,
     "metadata": {},
     "output_type": "execute_result"
    }
   ],
   "source": [
    "#count of all genres\n",
    "genres_df['genre'].value_counts()"
   ]
  },
  {
   "cell_type": "code",
   "execution_count": 44,
   "id": "769091df",
   "metadata": {},
   "outputs": [
    {
     "data": {
      "text/plain": [
       "20"
      ]
     },
     "execution_count": 44,
     "metadata": {},
     "output_type": "execute_result"
    }
   ],
   "source": [
    "#number of genres\n",
    "len(genres_df['genre'].value_counts())"
   ]
  },
  {
   "cell_type": "code",
   "execution_count": 45,
   "id": "f07efea9",
   "metadata": {},
   "outputs": [
    {
     "data": {
      "text/html": [
       "<div>\n",
       "<style scoped>\n",
       "    .dataframe tbody tr th:only-of-type {\n",
       "        vertical-align: middle;\n",
       "    }\n",
       "\n",
       "    .dataframe tbody tr th {\n",
       "        vertical-align: top;\n",
       "    }\n",
       "\n",
       "    .dataframe thead th {\n",
       "        text-align: right;\n",
       "    }\n",
       "</style>\n",
       "<table border=\"1\" class=\"dataframe\">\n",
       "  <thead>\n",
       "    <tr style=\"text-align: right;\">\n",
       "      <th></th>\n",
       "      <th>genre</th>\n",
       "      <th>count</th>\n",
       "    </tr>\n",
       "  </thead>\n",
       "  <tbody>\n",
       "    <tr>\n",
       "      <th>0</th>\n",
       "      <td>Drama</td>\n",
       "      <td>20255</td>\n",
       "    </tr>\n",
       "    <tr>\n",
       "      <th>1</th>\n",
       "      <td>Comedy</td>\n",
       "      <td>13180</td>\n",
       "    </tr>\n",
       "    <tr>\n",
       "      <th>2</th>\n",
       "      <td>Thriller</td>\n",
       "      <td>7621</td>\n",
       "    </tr>\n",
       "    <tr>\n",
       "      <th>3</th>\n",
       "      <td>Romance</td>\n",
       "      <td>6734</td>\n",
       "    </tr>\n",
       "    <tr>\n",
       "      <th>4</th>\n",
       "      <td>Action</td>\n",
       "      <td>6594</td>\n",
       "    </tr>\n",
       "    <tr>\n",
       "      <th>5</th>\n",
       "      <td>Horror</td>\n",
       "      <td>4672</td>\n",
       "    </tr>\n",
       "    <tr>\n",
       "      <th>6</th>\n",
       "      <td>Crime</td>\n",
       "      <td>4306</td>\n",
       "    </tr>\n",
       "    <tr>\n",
       "      <th>7</th>\n",
       "      <td>Documentary</td>\n",
       "      <td>3932</td>\n",
       "    </tr>\n",
       "    <tr>\n",
       "      <th>8</th>\n",
       "      <td>Adventure</td>\n",
       "      <td>3495</td>\n",
       "    </tr>\n",
       "    <tr>\n",
       "      <th>9</th>\n",
       "      <td>Science Fiction</td>\n",
       "      <td>3046</td>\n",
       "    </tr>\n",
       "  </tbody>\n",
       "</table>\n",
       "</div>"
      ],
      "text/plain": [
       "             genre  count\n",
       "0            Drama  20255\n",
       "1           Comedy  13180\n",
       "2         Thriller   7621\n",
       "3          Romance   6734\n",
       "4           Action   6594\n",
       "5           Horror   4672\n",
       "6            Crime   4306\n",
       "7      Documentary   3932\n",
       "8        Adventure   3495\n",
       "9  Science Fiction   3046"
      ]
     },
     "execution_count": 45,
     "metadata": {},
     "output_type": "execute_result"
    }
   ],
   "source": [
    "#create df on the top 10 genres\n",
    "genre_count = pd.DataFrame(genres_df['genre'].value_counts()).reset_index()\n",
    "genre_count.columns = ['genre', 'count']\n",
    "genre_count.head(10)"
   ]
  },
  {
   "cell_type": "code",
   "execution_count": 46,
   "id": "14460908",
   "metadata": {},
   "outputs": [
    {
     "data": {
      "image/png": "[encoded data removed]",
      "text/plain": [
       "<Figure size 1296x576 with 1 Axes>"
      ]
     },
     "metadata": {},
     "output_type": "display_data"
    }
   ],
   "source": [
    "# plot vertical barplot\n",
    "sns.set(rc={'figure.figsize':(18,8)})\n",
    "ax = sns.barplot(x='genre', y='count', data=genre_count.head(10))\n",
    "ax.set(title=\"Top 10 Genres\") #title barplot\n",
    "\n",
    "# label each bar in barplot\n",
    "for p in ax.patches:\n",
    " # get the height of each bar\n",
    " height = p.get_height()\n",
    " # adding text to each bar\n",
    " ax.text(x = p.get_x()+(p.get_width()/2), # x-coordinate position of data label, padded to be in the middle of the bar\n",
    " y = height+100, # y-coordinate position of data label, padded 100 above bar\n",
    " s = '{:.0f}'.format(height), # data label, formatted to ignore decimals\n",
    " ha = 'center') # sets horizontal alignment (ha) to center"
   ]
  },
  {
   "cell_type": "markdown",
   "id": "eab1ec7f",
   "metadata": {},
   "source": [
    "We can see here that the top 10 genres are listed in the bar chart, with drama, comedy and thriller topping the list."
   ]
  },
  {
   "cell_type": "markdown",
   "id": "751931df",
   "metadata": {},
   "source": [
    "## Popularity"
   ]
  },
  {
   "cell_type": "code",
   "execution_count": 47,
   "id": "ed2c5e88",
   "metadata": {},
   "outputs": [
    {
     "data": {
      "text/plain": [
       "count    45447.000000\n",
       "mean         2.921534\n",
       "std          6.006039\n",
       "min          0.000000\n",
       "25%          0.385945\n",
       "50%          1.127513\n",
       "75%          3.679023\n",
       "max        547.488298\n",
       "Name: popularity, dtype: float64"
      ]
     },
     "execution_count": 47,
     "metadata": {},
     "output_type": "execute_result"
    }
   ],
   "source": [
    "metadata['popularity'].describe()"
   ]
  },
  {
   "cell_type": "code",
   "execution_count": 48,
   "id": "1cc6c6dd",
   "metadata": {},
   "outputs": [
    {
     "data": {
      "image/png": "[encoded data removed]",
      "text/plain": [
       "<Figure size 720x360 with 1 Axes>"
      ]
     },
     "metadata": {},
     "output_type": "display_data"
    }
   ],
   "source": [
    "sns.set(rc={'figure.figsize':(10,5)})\n",
    "sns.distplot(metadata['popularity'])\n",
    "plt.title(\"Distribution of Popularity\");"
   ]
  },
  {
   "cell_type": "markdown",
   "id": "1e64116f",
   "metadata": {},
   "source": [
    "Popularity is positively skewed with majority of popularity < 10."
   ]
  },
  {
   "cell_type": "code",
   "execution_count": 49,
   "id": "b9d3ba29",
   "metadata": {},
   "outputs": [
    {
     "data": {
      "text/html": [
       "<div>\n",
       "<style scoped>\n",
       "    .dataframe tbody tr th:only-of-type {\n",
       "        vertical-align: middle;\n",
       "    }\n",
       "\n",
       "    .dataframe tbody tr th {\n",
       "        vertical-align: top;\n",
       "    }\n",
       "\n",
       "    .dataframe thead th {\n",
       "        text-align: right;\n",
       "    }\n",
       "</style>\n",
       "<table border=\"1\" class=\"dataframe\">\n",
       "  <thead>\n",
       "    <tr style=\"text-align: right;\">\n",
       "      <th></th>\n",
       "      <th>genres</th>\n",
       "      <th>id</th>\n",
       "      <th>overview</th>\n",
       "      <th>tagline</th>\n",
       "      <th>title</th>\n",
       "      <th>popularity</th>\n",
       "      <th>release_date</th>\n",
       "      <th>vote_average</th>\n",
       "      <th>vote_count</th>\n",
       "      <th>year</th>\n",
       "    </tr>\n",
       "  </thead>\n",
       "  <tbody>\n",
       "    <tr>\n",
       "      <th>30700</th>\n",
       "      <td>[Family, Animation, Adventure, Comedy]</td>\n",
       "      <td>211672</td>\n",
       "      <td>Minions Stuart, Kevin and Bob are recruited by...</td>\n",
       "      <td>Before Gru, they had a history of bad bosses</td>\n",
       "      <td>Minions</td>\n",
       "      <td>547.488298</td>\n",
       "      <td>2015-06-17</td>\n",
       "      <td>6.4</td>\n",
       "      <td>4729.0</td>\n",
       "      <td>2015</td>\n",
       "    </tr>\n",
       "    <tr>\n",
       "      <th>33356</th>\n",
       "      <td>[Action, Adventure, Fantasy]</td>\n",
       "      <td>297762</td>\n",
       "      <td>An Amazon princess comes to the world of Man t...</td>\n",
       "      <td>Power. Grace. Wisdom. Wonder.</td>\n",
       "      <td>Wonder Woman</td>\n",
       "      <td>294.337037</td>\n",
       "      <td>2017-05-30</td>\n",
       "      <td>7.2</td>\n",
       "      <td>5025.0</td>\n",
       "      <td>2017</td>\n",
       "    </tr>\n",
       "    <tr>\n",
       "      <th>42222</th>\n",
       "      <td>[Family, Fantasy, Romance]</td>\n",
       "      <td>321612</td>\n",
       "      <td>A live-action adaptation of Disney's version o...</td>\n",
       "      <td>Be our guest.</td>\n",
       "      <td>Beauty and the Beast</td>\n",
       "      <td>287.253654</td>\n",
       "      <td>2017-03-16</td>\n",
       "      <td>6.8</td>\n",
       "      <td>5530.0</td>\n",
       "      <td>2017</td>\n",
       "    </tr>\n",
       "    <tr>\n",
       "      <th>43644</th>\n",
       "      <td>[Action, Crime]</td>\n",
       "      <td>339403</td>\n",
       "      <td>After being coerced into working for a crime b...</td>\n",
       "      <td>All you need is one killer track.</td>\n",
       "      <td>Baby Driver</td>\n",
       "      <td>228.032744</td>\n",
       "      <td>2017-06-28</td>\n",
       "      <td>7.2</td>\n",
       "      <td>2083.0</td>\n",
       "      <td>2017</td>\n",
       "    </tr>\n",
       "    <tr>\n",
       "      <th>24455</th>\n",
       "      <td>[Adventure, Family, Animation, Action, Comedy]</td>\n",
       "      <td>177572</td>\n",
       "      <td>The special bond that develops between plus-si...</td>\n",
       "      <td>From the creators of Wreck-it Ralph and Frozen</td>\n",
       "      <td>Big Hero 6</td>\n",
       "      <td>213.849907</td>\n",
       "      <td>2014-10-24</td>\n",
       "      <td>7.8</td>\n",
       "      <td>6289.0</td>\n",
       "      <td>2014</td>\n",
       "    </tr>\n",
       "    <tr>\n",
       "      <th>26564</th>\n",
       "      <td>[Action, Adventure, Comedy]</td>\n",
       "      <td>293660</td>\n",
       "      <td>Deadpool tells the origin story of former Spec...</td>\n",
       "      <td>Witness the beginning of a happy ending</td>\n",
       "      <td>Deadpool</td>\n",
       "      <td>187.860492</td>\n",
       "      <td>2016-02-09</td>\n",
       "      <td>7.4</td>\n",
       "      <td>11444.0</td>\n",
       "      <td>2016</td>\n",
       "    </tr>\n",
       "    <tr>\n",
       "      <th>26566</th>\n",
       "      <td>[Action, Adventure, Comedy, Science Fiction]</td>\n",
       "      <td>283995</td>\n",
       "      <td>The Guardians must fight to keep their newfoun...</td>\n",
       "      <td>Obviously.</td>\n",
       "      <td>Guardians of the Galaxy Vol. 2</td>\n",
       "      <td>185.330992</td>\n",
       "      <td>2017-04-19</td>\n",
       "      <td>7.6</td>\n",
       "      <td>4858.0</td>\n",
       "      <td>2017</td>\n",
       "    </tr>\n",
       "    <tr>\n",
       "      <th>14551</th>\n",
       "      <td>[Action, Adventure, Fantasy, Science Fiction]</td>\n",
       "      <td>19995</td>\n",
       "      <td>In the 22nd century, a paraplegic Marine is di...</td>\n",
       "      <td>Enter the World of Pandora.</td>\n",
       "      <td>Avatar</td>\n",
       "      <td>185.070892</td>\n",
       "      <td>2009-12-10</td>\n",
       "      <td>7.2</td>\n",
       "      <td>12114.0</td>\n",
       "      <td>2009</td>\n",
       "    </tr>\n",
       "    <tr>\n",
       "      <th>24351</th>\n",
       "      <td>[Action, Thriller]</td>\n",
       "      <td>245891</td>\n",
       "      <td>Ex-lunatic John Wick comes off his meds to tra...</td>\n",
       "      <td>Don't set him off.</td>\n",
       "      <td>John Wick</td>\n",
       "      <td>183.870374</td>\n",
       "      <td>2014-10-22</td>\n",
       "      <td>7.0</td>\n",
       "      <td>5499.0</td>\n",
       "      <td>2014</td>\n",
       "    </tr>\n",
       "    <tr>\n",
       "      <th>23675</th>\n",
       "      <td>[Mystery, Thriller, Drama]</td>\n",
       "      <td>210577</td>\n",
       "      <td>With his wife's disappearance having become th...</td>\n",
       "      <td>You don't know what you've got 'til it's...</td>\n",
       "      <td>Gone Girl</td>\n",
       "      <td>154.801009</td>\n",
       "      <td>2014-10-01</td>\n",
       "      <td>7.9</td>\n",
       "      <td>6023.0</td>\n",
       "      <td>2014</td>\n",
       "    </tr>\n",
       "    <tr>\n",
       "      <th>24873</th>\n",
       "      <td>[Science Fiction, Adventure, Thriller]</td>\n",
       "      <td>131631</td>\n",
       "      <td>Katniss Everdeen reluctantly becomes the symbo...</td>\n",
       "      <td>Fire burns brighter in the darkness</td>\n",
       "      <td>The Hunger Games: Mockingjay - Part 1</td>\n",
       "      <td>147.098006</td>\n",
       "      <td>2014-11-18</td>\n",
       "      <td>6.6</td>\n",
       "      <td>5767.0</td>\n",
       "      <td>2014</td>\n",
       "    </tr>\n",
       "    <tr>\n",
       "      <th>44274</th>\n",
       "      <td>[Drama, Science Fiction, War]</td>\n",
       "      <td>281338</td>\n",
       "      <td>Caesar and his apes are forced into a deadly c...</td>\n",
       "      <td>For freedom. For family. For the planet.</td>\n",
       "      <td>War for the Planet of the Apes</td>\n",
       "      <td>146.161786</td>\n",
       "      <td>2017-07-11</td>\n",
       "      <td>6.7</td>\n",
       "      <td>1675.0</td>\n",
       "      <td>2017</td>\n",
       "    </tr>\n",
       "    <tr>\n",
       "      <th>26567</th>\n",
       "      <td>[Adventure, Action, Science Fiction]</td>\n",
       "      <td>271110</td>\n",
       "      <td>Following the events of Age of Ultron, the col...</td>\n",
       "      <td>Divided We Fall</td>\n",
       "      <td>Captain America: Civil War</td>\n",
       "      <td>145.882135</td>\n",
       "      <td>2016-04-27</td>\n",
       "      <td>7.1</td>\n",
       "      <td>7462.0</td>\n",
       "      <td>2016</td>\n",
       "    </tr>\n",
       "    <tr>\n",
       "      <th>292</th>\n",
       "      <td>[Thriller, Crime]</td>\n",
       "      <td>680</td>\n",
       "      <td>A burger-loving hit man, his philosophical par...</td>\n",
       "      <td>Just because you are a character doesn't mean ...</td>\n",
       "      <td>Pulp Fiction</td>\n",
       "      <td>140.950236</td>\n",
       "      <td>1994-09-10</td>\n",
       "      <td>8.3</td>\n",
       "      <td>8670.0</td>\n",
       "      <td>1994</td>\n",
       "    </tr>\n",
       "    <tr>\n",
       "      <th>26560</th>\n",
       "      <td>[Adventure, Action, Fantasy, Comedy]</td>\n",
       "      <td>166426</td>\n",
       "      <td>Thrust into an all-new paycheck, a down-on-his...</td>\n",
       "      <td>NaN</td>\n",
       "      <td>Pirates of the Caribbean: Dead Men Tell No Tales</td>\n",
       "      <td>133.827820</td>\n",
       "      <td>2017-05-23</td>\n",
       "      <td>6.6</td>\n",
       "      <td>2814.0</td>\n",
       "      <td>2017</td>\n",
       "    </tr>\n",
       "    <tr>\n",
       "      <th>12481</th>\n",
       "      <td>[Drama, Action, Crime, Thriller]</td>\n",
       "      <td>155</td>\n",
       "      <td>Batman raises the stakes in his war on crime. ...</td>\n",
       "      <td>Why So Serious?</td>\n",
       "      <td>The Dark Knight</td>\n",
       "      <td>123.167259</td>\n",
       "      <td>2008-07-16</td>\n",
       "      <td>8.3</td>\n",
       "      <td>12269.0</td>\n",
       "      <td>2008</td>\n",
       "    </tr>\n",
       "    <tr>\n",
       "      <th>536</th>\n",
       "      <td>[Science Fiction, Drama, Thriller]</td>\n",
       "      <td>78</td>\n",
       "      <td>In the smog-choked dystopian Los Angeles of 20...</td>\n",
       "      <td>Man has made his match... now it's his problem.</td>\n",
       "      <td>Blade Runner</td>\n",
       "      <td>96.272374</td>\n",
       "      <td>1982-06-25</td>\n",
       "      <td>7.9</td>\n",
       "      <td>3833.0</td>\n",
       "      <td>1982</td>\n",
       "    </tr>\n",
       "    <tr>\n",
       "      <th>17818</th>\n",
       "      <td>[Science Fiction, Action, Adventure]</td>\n",
       "      <td>24428</td>\n",
       "      <td>When an unexpected enemy emerges and threatens...</td>\n",
       "      <td>Some assembly required.</td>\n",
       "      <td>The Avengers</td>\n",
       "      <td>89.887648</td>\n",
       "      <td>2012-04-25</td>\n",
       "      <td>7.4</td>\n",
       "      <td>12000.0</td>\n",
       "      <td>2012</td>\n",
       "    </tr>\n",
       "    <tr>\n",
       "      <th>43286</th>\n",
       "      <td>[Action, Animation, Comedy, Family]</td>\n",
       "      <td>268531</td>\n",
       "      <td>Two mischievous kids hypnotize their mean elem...</td>\n",
       "      <td>NaN</td>\n",
       "      <td>Captain Underpants: The First Epic Movie</td>\n",
       "      <td>88.561239</td>\n",
       "      <td>2017-06-01</td>\n",
       "      <td>6.5</td>\n",
       "      <td>159.0</td>\n",
       "      <td>2017</td>\n",
       "    </tr>\n",
       "    <tr>\n",
       "      <th>33361</th>\n",
       "      <td>[Drama, Thriller, Science Fiction]</td>\n",
       "      <td>339988</td>\n",
       "      <td>A young tech worker takes a job at a greedy In...</td>\n",
       "      <td>Knowing is good. Knowing everything is better.</td>\n",
       "      <td>The Circle</td>\n",
       "      <td>88.439243</td>\n",
       "      <td>2017-04-27</td>\n",
       "      <td>5.4</td>\n",
       "      <td>1015.0</td>\n",
       "      <td>2017</td>\n",
       "    </tr>\n",
       "  </tbody>\n",
       "</table>\n",
       "</div>"
      ],
      "text/plain": [
       "                                               genres      id  \\\n",
       "30700          [Family, Animation, Adventure, Comedy]  211672   \n",
       "33356                    [Action, Adventure, Fantasy]  297762   \n",
       "42222                      [Family, Fantasy, Romance]  321612   \n",
       "43644                                 [Action, Crime]  339403   \n",
       "24455  [Adventure, Family, Animation, Action, Comedy]  177572   \n",
       "26564                     [Action, Adventure, Comedy]  293660   \n",
       "26566    [Action, Adventure, Comedy, Science Fiction]  283995   \n",
       "14551   [Action, Adventure, Fantasy, Science Fiction]   19995   \n",
       "24351                              [Action, Thriller]  245891   \n",
       "23675                      [Mystery, Thriller, Drama]  210577   \n",
       "24873          [Science Fiction, Adventure, Thriller]  131631   \n",
       "44274                   [Drama, Science Fiction, War]  281338   \n",
       "26567            [Adventure, Action, Science Fiction]  271110   \n",
       "292                                 [Thriller, Crime]     680   \n",
       "26560            [Adventure, Action, Fantasy, Comedy]  166426   \n",
       "12481                [Drama, Action, Crime, Thriller]     155   \n",
       "536                [Science Fiction, Drama, Thriller]      78   \n",
       "17818            [Science Fiction, Action, Adventure]   24428   \n",
       "43286             [Action, Animation, Comedy, Family]  268531   \n",
       "33361              [Drama, Thriller, Science Fiction]  339988   \n",
       "\n",
       "                                                overview  \\\n",
       "30700  Minions Stuart, Kevin and Bob are recruited by...   \n",
       "33356  An Amazon princess comes to the world of Man t...   \n",
       "42222  A live-action adaptation of Disney's version o...   \n",
       "43644  After being coerced into working for a crime b...   \n",
       "24455  The special bond that develops between plus-si...   \n",
       "26564  Deadpool tells the origin story of former Spec...   \n",
       "26566  The Guardians must fight to keep their newfoun...   \n",
       "14551  In the 22nd century, a paraplegic Marine is di...   \n",
       "24351  Ex-lunatic John Wick comes off his meds to tra...   \n",
       "23675  With his wife's disappearance having become th...   \n",
       "24873  Katniss Everdeen reluctantly becomes the symbo...   \n",
       "44274  Caesar and his apes are forced into a deadly c...   \n",
       "26567  Following the events of Age of Ultron, the col...   \n",
       "292    A burger-loving hit man, his philosophical par...   \n",
       "26560  Thrust into an all-new paycheck, a down-on-his...   \n",
       "12481  Batman raises the stakes in his war on crime. ...   \n",
       "536    In the smog-choked dystopian Los Angeles of 20...   \n",
       "17818  When an unexpected enemy emerges and threatens...   \n",
       "43286  Two mischievous kids hypnotize their mean elem...   \n",
       "33361  A young tech worker takes a job at a greedy In...   \n",
       "\n",
       "                                                 tagline  \\\n",
       "30700       Before Gru, they had a history of bad bosses   \n",
       "33356                      Power. Grace. Wisdom. Wonder.   \n",
       "42222                                      Be our guest.   \n",
       "43644                  All you need is one killer track.   \n",
       "24455     From the creators of Wreck-it Ralph and Frozen   \n",
       "26564            Witness the beginning of a happy ending   \n",
       "26566                                         Obviously.   \n",
       "14551                        Enter the World of Pandora.   \n",
       "24351                                 Don't set him off.   \n",
       "23675        You don't know what you've got 'til it's...   \n",
       "24873                Fire burns brighter in the darkness   \n",
       "44274           For freedom. For family. For the planet.   \n",
       "26567                                    Divided We Fall   \n",
       "292    Just because you are a character doesn't mean ...   \n",
       "26560                                                NaN   \n",
       "12481                                    Why So Serious?   \n",
       "536      Man has made his match... now it's his problem.   \n",
       "17818                            Some assembly required.   \n",
       "43286                                                NaN   \n",
       "33361     Knowing is good. Knowing everything is better.   \n",
       "\n",
       "                                                  title  popularity  \\\n",
       "30700                                           Minions  547.488298   \n",
       "33356                                      Wonder Woman  294.337037   \n",
       "42222                              Beauty and the Beast  287.253654   \n",
       "43644                                       Baby Driver  228.032744   \n",
       "24455                                        Big Hero 6  213.849907   \n",
       "26564                                          Deadpool  187.860492   \n",
       "26566                    Guardians of the Galaxy Vol. 2  185.330992   \n",
       "14551                                            Avatar  185.070892   \n",
       "24351                                         John Wick  183.870374   \n",
       "23675                                         Gone Girl  154.801009   \n",
       "24873             The Hunger Games: Mockingjay - Part 1  147.098006   \n",
       "44274                    War for the Planet of the Apes  146.161786   \n",
       "26567                        Captain America: Civil War  145.882135   \n",
       "292                                        Pulp Fiction  140.950236   \n",
       "26560  Pirates of the Caribbean: Dead Men Tell No Tales  133.827820   \n",
       "12481                                   The Dark Knight  123.167259   \n",
       "536                                        Blade Runner   96.272374   \n",
       "17818                                      The Avengers   89.887648   \n",
       "43286          Captain Underpants: The First Epic Movie   88.561239   \n",
       "33361                                        The Circle   88.439243   \n",
       "\n",
       "      release_date  vote_average  vote_count  year  \n",
       "30700   2015-06-17           6.4      4729.0  2015  \n",
       "33356   2017-05-30           7.2      5025.0  2017  \n",
       "42222   2017-03-16           6.8      5530.0  2017  \n",
       "43644   2017-06-28           7.2      2083.0  2017  \n",
       "24455   2014-10-24           7.8      6289.0  2014  \n",
       "26564   2016-02-09           7.4     11444.0  2016  \n",
       "26566   2017-04-19           7.6      4858.0  2017  \n",
       "14551   2009-12-10           7.2     12114.0  2009  \n",
       "24351   2014-10-22           7.0      5499.0  2014  \n",
       "23675   2014-10-01           7.9      6023.0  2014  \n",
       "24873   2014-11-18           6.6      5767.0  2014  \n",
       "44274   2017-07-11           6.7      1675.0  2017  \n",
       "26567   2016-04-27           7.1      7462.0  2016  \n",
       "292     1994-09-10           8.3      8670.0  1994  \n",
       "26560   2017-05-23           6.6      2814.0  2017  \n",
       "12481   2008-07-16           8.3     12269.0  2008  \n",
       "536     1982-06-25           7.9      3833.0  1982  \n",
       "17818   2012-04-25           7.4     12000.0  2012  \n",
       "43286   2017-06-01           6.5       159.0  2017  \n",
       "33361   2017-04-27           5.4      1015.0  2017  "
      ]
     },
     "execution_count": 49,
     "metadata": {},
     "output_type": "execute_result"
    }
   ],
   "source": [
    "metadata.sort_values('popularity', ascending=False).head(20)"
   ]
  },
  {
   "cell_type": "markdown",
   "id": "4eb37a03",
   "metadata": {},
   "source": [
    "About 16 of these movies have popularity above 100 with minions topping the popularity score way beyond the movie in the second place, wonder woman."
   ]
  },
  {
   "cell_type": "code",
   "execution_count": 50,
   "id": "31e0bad8",
   "metadata": {},
   "outputs": [
    {
     "data": {
      "image/png": "[encoded data removed]",
      "text/plain": [
       "<Figure size 720x360 with 1 Axes>"
      ]
     },
     "metadata": {},
     "output_type": "display_data"
    }
   ],
   "source": [
    "# plot horizontal barplot\n",
    "sns.set(rc={'figure.figsize':(10,5)})\n",
    "ax = sns.barplot(y='title', x='popularity', data=metadata.sort_values('popularity', ascending=False).head(16), orient='h')\n",
    "ax.set(title=\"Popular Movies\") # title barplot\n",
    "# label each bar in barplot\n",
    "for p in ax.patches:\n",
    " height = p.get_height() # height of each horizontal bar is the same\n",
    " width = p.get_width() # width (average number of passengers)\n",
    " # adding text to each bar\n",
    " ax.text(x = width+3, # x-coordinate position of data label, padded 3 to right of bar\n",
    " y = p.get_y()+(height/2), # # y-coordinate position of data label, padded to be in the middle of the bar\n",
    " s = '{:.0f}'.format(width), # data label, formatted to ignore decimals\n",
    " va = 'center') # sets vertical alignment (va) to center"
   ]
  },
  {
   "cell_type": "markdown",
   "id": "6ea729bd",
   "metadata": {},
   "source": [
    "## Vote Count"
   ]
  },
  {
   "cell_type": "code",
   "execution_count": 51,
   "id": "4f97fac3",
   "metadata": {},
   "outputs": [
    {
     "data": {
      "text/plain": [
       "count    45447.000000\n",
       "mean       109.918256\n",
       "std        491.378000\n",
       "min          0.000000\n",
       "25%          3.000000\n",
       "50%         10.000000\n",
       "75%         34.000000\n",
       "max      14075.000000\n",
       "Name: vote_count, dtype: float64"
      ]
     },
     "execution_count": 51,
     "metadata": {},
     "output_type": "execute_result"
    }
   ],
   "source": [
    "metadata['vote_count'].describe()"
   ]
  },
  {
   "cell_type": "code",
   "execution_count": 52,
   "id": "043c7bf1",
   "metadata": {},
   "outputs": [
    {
     "data": {
      "image/png": "[encoded data removed]",
      "text/plain": [
       "<Figure size 720x360 with 1 Axes>"
      ]
     },
     "metadata": {},
     "output_type": "display_data"
    }
   ],
   "source": [
    "sns.set(rc={'figure.figsize':(10,5)})\n",
    "sns.distplot(metadata['vote_count'])\n",
    "plt.title(\"Distribution of Vote Count\");"
   ]
  },
  {
   "cell_type": "markdown",
   "id": "ea72f256",
   "metadata": {},
   "source": [
    "vote_count is positively skewed with majority of count < 50."
   ]
  },
  {
   "cell_type": "code",
   "execution_count": 53,
   "id": "13c66593",
   "metadata": {},
   "outputs": [
    {
     "data": {
      "text/html": [
       "<div>\n",
       "<style scoped>\n",
       "    .dataframe tbody tr th:only-of-type {\n",
       "        vertical-align: middle;\n",
       "    }\n",
       "\n",
       "    .dataframe tbody tr th {\n",
       "        vertical-align: top;\n",
       "    }\n",
       "\n",
       "    .dataframe thead th {\n",
       "        text-align: right;\n",
       "    }\n",
       "</style>\n",
       "<table border=\"1\" class=\"dataframe\">\n",
       "  <thead>\n",
       "    <tr style=\"text-align: right;\">\n",
       "      <th></th>\n",
       "      <th>genres</th>\n",
       "      <th>id</th>\n",
       "      <th>overview</th>\n",
       "      <th>tagline</th>\n",
       "      <th>title</th>\n",
       "      <th>popularity</th>\n",
       "      <th>release_date</th>\n",
       "      <th>vote_average</th>\n",
       "      <th>vote_count</th>\n",
       "      <th>year</th>\n",
       "    </tr>\n",
       "  </thead>\n",
       "  <tbody>\n",
       "    <tr>\n",
       "      <th>15480</th>\n",
       "      <td>[Action, Thriller, Science Fiction, Mystery, A...</td>\n",
       "      <td>27205</td>\n",
       "      <td>Cobb, a skilled thief who commits corporate es...</td>\n",
       "      <td>Your mind is the scene of the crime.</td>\n",
       "      <td>Inception</td>\n",
       "      <td>29.108149</td>\n",
       "      <td>2010-07-14</td>\n",
       "      <td>8.1</td>\n",
       "      <td>14075.0</td>\n",
       "      <td>2010</td>\n",
       "    </tr>\n",
       "    <tr>\n",
       "      <th>12481</th>\n",
       "      <td>[Drama, Action, Crime, Thriller]</td>\n",
       "      <td>155</td>\n",
       "      <td>Batman raises the stakes in his war on crime. ...</td>\n",
       "      <td>Why So Serious?</td>\n",
       "      <td>The Dark Knight</td>\n",
       "      <td>123.167259</td>\n",
       "      <td>2008-07-16</td>\n",
       "      <td>8.3</td>\n",
       "      <td>12269.0</td>\n",
       "      <td>2008</td>\n",
       "    </tr>\n",
       "    <tr>\n",
       "      <th>14551</th>\n",
       "      <td>[Action, Adventure, Fantasy, Science Fiction]</td>\n",
       "      <td>19995</td>\n",
       "      <td>In the 22nd century, a paraplegic Marine is di...</td>\n",
       "      <td>Enter the World of Pandora.</td>\n",
       "      <td>Avatar</td>\n",
       "      <td>185.070892</td>\n",
       "      <td>2009-12-10</td>\n",
       "      <td>7.2</td>\n",
       "      <td>12114.0</td>\n",
       "      <td>2009</td>\n",
       "    </tr>\n",
       "    <tr>\n",
       "      <th>17818</th>\n",
       "      <td>[Science Fiction, Action, Adventure]</td>\n",
       "      <td>24428</td>\n",
       "      <td>When an unexpected enemy emerges and threatens...</td>\n",
       "      <td>Some assembly required.</td>\n",
       "      <td>The Avengers</td>\n",
       "      <td>89.887648</td>\n",
       "      <td>2012-04-25</td>\n",
       "      <td>7.4</td>\n",
       "      <td>12000.0</td>\n",
       "      <td>2012</td>\n",
       "    </tr>\n",
       "    <tr>\n",
       "      <th>26564</th>\n",
       "      <td>[Action, Adventure, Comedy]</td>\n",
       "      <td>293660</td>\n",
       "      <td>Deadpool tells the origin story of former Spec...</td>\n",
       "      <td>Witness the beginning of a happy ending</td>\n",
       "      <td>Deadpool</td>\n",
       "      <td>187.860492</td>\n",
       "      <td>2016-02-09</td>\n",
       "      <td>7.4</td>\n",
       "      <td>11444.0</td>\n",
       "      <td>2016</td>\n",
       "    </tr>\n",
       "    <tr>\n",
       "      <th>22879</th>\n",
       "      <td>[Adventure, Drama, Science Fiction]</td>\n",
       "      <td>157336</td>\n",
       "      <td>Interstellar chronicles the adventures of a gr...</td>\n",
       "      <td>Mankind was born on Earth. It was never meant ...</td>\n",
       "      <td>Interstellar</td>\n",
       "      <td>32.213481</td>\n",
       "      <td>2014-11-05</td>\n",
       "      <td>8.1</td>\n",
       "      <td>11187.0</td>\n",
       "      <td>2014</td>\n",
       "    </tr>\n",
       "    <tr>\n",
       "      <th>20051</th>\n",
       "      <td>[Drama, Western]</td>\n",
       "      <td>68718</td>\n",
       "      <td>With the help of a German bounty hunter, a fre...</td>\n",
       "      <td>Life, liberty and the pursuit of vengeance.</td>\n",
       "      <td>Django Unchained</td>\n",
       "      <td>19.785025</td>\n",
       "      <td>2012-12-25</td>\n",
       "      <td>7.8</td>\n",
       "      <td>10297.0</td>\n",
       "      <td>2012</td>\n",
       "    </tr>\n",
       "    <tr>\n",
       "      <th>23753</th>\n",
       "      <td>[Action, Science Fiction, Adventure]</td>\n",
       "      <td>118340</td>\n",
       "      <td>Light years from Earth, 26 years after being a...</td>\n",
       "      <td>All heroes start somewhere.</td>\n",
       "      <td>Guardians of the Galaxy</td>\n",
       "      <td>53.291601</td>\n",
       "      <td>2014-07-30</td>\n",
       "      <td>7.9</td>\n",
       "      <td>10014.0</td>\n",
       "      <td>2014</td>\n",
       "    </tr>\n",
       "    <tr>\n",
       "      <th>2843</th>\n",
       "      <td>[Drama]</td>\n",
       "      <td>550</td>\n",
       "      <td>A ticking-time-bomb insomniac and a slippery s...</td>\n",
       "      <td>Mischief. Mayhem. Soap.</td>\n",
       "      <td>Fight Club</td>\n",
       "      <td>63.869599</td>\n",
       "      <td>1999-10-15</td>\n",
       "      <td>8.3</td>\n",
       "      <td>9678.0</td>\n",
       "      <td>1999</td>\n",
       "    </tr>\n",
       "    <tr>\n",
       "      <th>18244</th>\n",
       "      <td>[Science Fiction, Adventure, Fantasy]</td>\n",
       "      <td>70160</td>\n",
       "      <td>Every year in the ruins of what was once North...</td>\n",
       "      <td>May The Odds Be Ever In Your Favor.</td>\n",
       "      <td>The Hunger Games</td>\n",
       "      <td>20.031667</td>\n",
       "      <td>2012-03-12</td>\n",
       "      <td>6.9</td>\n",
       "      <td>9634.0</td>\n",
       "      <td>2012</td>\n",
       "    </tr>\n",
       "    <tr>\n",
       "      <th>26553</th>\n",
       "      <td>[Action, Adventure, Science Fiction, Thriller]</td>\n",
       "      <td>76341</td>\n",
       "      <td>An apocalyptic story set in the furthest reach...</td>\n",
       "      <td>What a Lovely Day.</td>\n",
       "      <td>Mad Max: Fury Road</td>\n",
       "      <td>29.361780</td>\n",
       "      <td>2015-05-13</td>\n",
       "      <td>7.3</td>\n",
       "      <td>9629.0</td>\n",
       "      <td>2015</td>\n",
       "    </tr>\n",
       "    <tr>\n",
       "      <th>18252</th>\n",
       "      <td>[Action, Crime, Drama, Thriller]</td>\n",
       "      <td>49026</td>\n",
       "      <td>Following the death of District Attorney Harve...</td>\n",
       "      <td>The Legend Ends</td>\n",
       "      <td>The Dark Knight Rises</td>\n",
       "      <td>20.582580</td>\n",
       "      <td>2012-07-16</td>\n",
       "      <td>7.6</td>\n",
       "      <td>9263.0</td>\n",
       "      <td>2012</td>\n",
       "    </tr>\n",
       "    <tr>\n",
       "      <th>2458</th>\n",
       "      <td>[Action, Science Fiction]</td>\n",
       "      <td>603</td>\n",
       "      <td>Set in the 22nd century, The Matrix tells the ...</td>\n",
       "      <td>Welcome to the Real World.</td>\n",
       "      <td>The Matrix</td>\n",
       "      <td>33.366332</td>\n",
       "      <td>1999-03-30</td>\n",
       "      <td>7.9</td>\n",
       "      <td>9079.0</td>\n",
       "      <td>1999</td>\n",
       "    </tr>\n",
       "    <tr>\n",
       "      <th>12588</th>\n",
       "      <td>[Action, Science Fiction, Adventure]</td>\n",
       "      <td>1726</td>\n",
       "      <td>After being held captive in an Afghan cave, bi...</td>\n",
       "      <td>Heroes aren't born. They're built.</td>\n",
       "      <td>Iron Man</td>\n",
       "      <td>22.073099</td>\n",
       "      <td>2008-04-30</td>\n",
       "      <td>7.4</td>\n",
       "      <td>8951.0</td>\n",
       "      <td>2008</td>\n",
       "    </tr>\n",
       "    <tr>\n",
       "      <th>20830</th>\n",
       "      <td>[Action, Adventure, Science Fiction]</td>\n",
       "      <td>68721</td>\n",
       "      <td>When Tony Stark's world is torn apart by a for...</td>\n",
       "      <td>Unleash the power behind the armor.</td>\n",
       "      <td>Iron Man 3</td>\n",
       "      <td>23.721243</td>\n",
       "      <td>2013-04-18</td>\n",
       "      <td>6.8</td>\n",
       "      <td>8951.0</td>\n",
       "      <td>2013</td>\n",
       "    </tr>\n",
       "    <tr>\n",
       "      <th>4863</th>\n",
       "      <td>[Adventure, Fantasy, Action]</td>\n",
       "      <td>120</td>\n",
       "      <td>Young hobbit Frodo Baggins, after inheriting a...</td>\n",
       "      <td>One ring to rule them all</td>\n",
       "      <td>The Lord of the Rings: The Fellowship of the Ring</td>\n",
       "      <td>32.070725</td>\n",
       "      <td>2001-12-18</td>\n",
       "      <td>8.0</td>\n",
       "      <td>8892.0</td>\n",
       "      <td>2001</td>\n",
       "    </tr>\n",
       "    <tr>\n",
       "      <th>25084</th>\n",
       "      <td>[Action, Adventure, Science Fiction, Thriller]</td>\n",
       "      <td>135397</td>\n",
       "      <td>Twenty-two years after the events of Jurassic ...</td>\n",
       "      <td>The park is open.</td>\n",
       "      <td>Jurassic World</td>\n",
       "      <td>32.790475</td>\n",
       "      <td>2015-06-09</td>\n",
       "      <td>6.5</td>\n",
       "      <td>8842.0</td>\n",
       "      <td>2015</td>\n",
       "    </tr>\n",
       "    <tr>\n",
       "      <th>292</th>\n",
       "      <td>[Thriller, Crime]</td>\n",
       "      <td>680</td>\n",
       "      <td>A burger-loving hit man, his philosophical par...</td>\n",
       "      <td>Just because you are a character doesn't mean ...</td>\n",
       "      <td>Pulp Fiction</td>\n",
       "      <td>140.950236</td>\n",
       "      <td>1994-09-10</td>\n",
       "      <td>8.3</td>\n",
       "      <td>8670.0</td>\n",
       "      <td>1994</td>\n",
       "    </tr>\n",
       "    <tr>\n",
       "      <th>19971</th>\n",
       "      <td>[Adventure, Fantasy, Action]</td>\n",
       "      <td>49051</td>\n",
       "      <td>Bilbo Baggins, a hobbit enjoying his quiet lif...</td>\n",
       "      <td>From the smallest beginnings come the greatest...</td>\n",
       "      <td>The Hobbit: An Unexpected Journey</td>\n",
       "      <td>23.253089</td>\n",
       "      <td>2012-11-26</td>\n",
       "      <td>7.0</td>\n",
       "      <td>8427.0</td>\n",
       "      <td>2012</td>\n",
       "    </tr>\n",
       "    <tr>\n",
       "      <th>314</th>\n",
       "      <td>[Drama, Crime]</td>\n",
       "      <td>278</td>\n",
       "      <td>Framed in the 1940s for the double murder of h...</td>\n",
       "      <td>Fear can hold you prisoner. Hope can set you f...</td>\n",
       "      <td>The Shawshank Redemption</td>\n",
       "      <td>51.645403</td>\n",
       "      <td>1994-09-23</td>\n",
       "      <td>8.5</td>\n",
       "      <td>8358.0</td>\n",
       "      <td>1994</td>\n",
       "    </tr>\n",
       "  </tbody>\n",
       "</table>\n",
       "</div>"
      ],
      "text/plain": [
       "                                                  genres      id  \\\n",
       "15480  [Action, Thriller, Science Fiction, Mystery, A...   27205   \n",
       "12481                   [Drama, Action, Crime, Thriller]     155   \n",
       "14551      [Action, Adventure, Fantasy, Science Fiction]   19995   \n",
       "17818               [Science Fiction, Action, Adventure]   24428   \n",
       "26564                        [Action, Adventure, Comedy]  293660   \n",
       "22879                [Adventure, Drama, Science Fiction]  157336   \n",
       "20051                                   [Drama, Western]   68718   \n",
       "23753               [Action, Science Fiction, Adventure]  118340   \n",
       "2843                                             [Drama]     550   \n",
       "18244              [Science Fiction, Adventure, Fantasy]   70160   \n",
       "26553     [Action, Adventure, Science Fiction, Thriller]   76341   \n",
       "18252                   [Action, Crime, Drama, Thriller]   49026   \n",
       "2458                           [Action, Science Fiction]     603   \n",
       "12588               [Action, Science Fiction, Adventure]    1726   \n",
       "20830               [Action, Adventure, Science Fiction]   68721   \n",
       "4863                        [Adventure, Fantasy, Action]     120   \n",
       "25084     [Action, Adventure, Science Fiction, Thriller]  135397   \n",
       "292                                    [Thriller, Crime]     680   \n",
       "19971                       [Adventure, Fantasy, Action]   49051   \n",
       "314                                       [Drama, Crime]     278   \n",
       "\n",
       "                                                overview  \\\n",
       "15480  Cobb, a skilled thief who commits corporate es...   \n",
       "12481  Batman raises the stakes in his war on crime. ...   \n",
       "14551  In the 22nd century, a paraplegic Marine is di...   \n",
       "17818  When an unexpected enemy emerges and threatens...   \n",
       "26564  Deadpool tells the origin story of former Spec...   \n",
       "22879  Interstellar chronicles the adventures of a gr...   \n",
       "20051  With the help of a German bounty hunter, a fre...   \n",
       "23753  Light years from Earth, 26 years after being a...   \n",
       "2843   A ticking-time-bomb insomniac and a slippery s...   \n",
       "18244  Every year in the ruins of what was once North...   \n",
       "26553  An apocalyptic story set in the furthest reach...   \n",
       "18252  Following the death of District Attorney Harve...   \n",
       "2458   Set in the 22nd century, The Matrix tells the ...   \n",
       "12588  After being held captive in an Afghan cave, bi...   \n",
       "20830  When Tony Stark's world is torn apart by a for...   \n",
       "4863   Young hobbit Frodo Baggins, after inheriting a...   \n",
       "25084  Twenty-two years after the events of Jurassic ...   \n",
       "292    A burger-loving hit man, his philosophical par...   \n",
       "19971  Bilbo Baggins, a hobbit enjoying his quiet lif...   \n",
       "314    Framed in the 1940s for the double murder of h...   \n",
       "\n",
       "                                                 tagline  \\\n",
       "15480               Your mind is the scene of the crime.   \n",
       "12481                                    Why So Serious?   \n",
       "14551                        Enter the World of Pandora.   \n",
       "17818                            Some assembly required.   \n",
       "26564            Witness the beginning of a happy ending   \n",
       "22879  Mankind was born on Earth. It was never meant ...   \n",
       "20051        Life, liberty and the pursuit of vengeance.   \n",
       "23753                        All heroes start somewhere.   \n",
       "2843                             Mischief. Mayhem. Soap.   \n",
       "18244                May The Odds Be Ever In Your Favor.   \n",
       "26553                                 What a Lovely Day.   \n",
       "18252                                    The Legend Ends   \n",
       "2458                          Welcome to the Real World.   \n",
       "12588                 Heroes aren't born. They're built.   \n",
       "20830                Unleash the power behind the armor.   \n",
       "4863                           One ring to rule them all   \n",
       "25084                                  The park is open.   \n",
       "292    Just because you are a character doesn't mean ...   \n",
       "19971  From the smallest beginnings come the greatest...   \n",
       "314    Fear can hold you prisoner. Hope can set you f...   \n",
       "\n",
       "                                                   title  popularity  \\\n",
       "15480                                          Inception   29.108149   \n",
       "12481                                    The Dark Knight  123.167259   \n",
       "14551                                             Avatar  185.070892   \n",
       "17818                                       The Avengers   89.887648   \n",
       "26564                                           Deadpool  187.860492   \n",
       "22879                                       Interstellar   32.213481   \n",
       "20051                                   Django Unchained   19.785025   \n",
       "23753                            Guardians of the Galaxy   53.291601   \n",
       "2843                                          Fight Club   63.869599   \n",
       "18244                                   The Hunger Games   20.031667   \n",
       "26553                                 Mad Max: Fury Road   29.361780   \n",
       "18252                              The Dark Knight Rises   20.582580   \n",
       "2458                                          The Matrix   33.366332   \n",
       "12588                                           Iron Man   22.073099   \n",
       "20830                                         Iron Man 3   23.721243   \n",
       "4863   The Lord of the Rings: The Fellowship of the Ring   32.070725   \n",
       "25084                                     Jurassic World   32.790475   \n",
       "292                                         Pulp Fiction  140.950236   \n",
       "19971                  The Hobbit: An Unexpected Journey   23.253089   \n",
       "314                             The Shawshank Redemption   51.645403   \n",
       "\n",
       "      release_date  vote_average  vote_count  year  \n",
       "15480   2010-07-14           8.1     14075.0  2010  \n",
       "12481   2008-07-16           8.3     12269.0  2008  \n",
       "14551   2009-12-10           7.2     12114.0  2009  \n",
       "17818   2012-04-25           7.4     12000.0  2012  \n",
       "26564   2016-02-09           7.4     11444.0  2016  \n",
       "22879   2014-11-05           8.1     11187.0  2014  \n",
       "20051   2012-12-25           7.8     10297.0  2012  \n",
       "23753   2014-07-30           7.9     10014.0  2014  \n",
       "2843    1999-10-15           8.3      9678.0  1999  \n",
       "18244   2012-03-12           6.9      9634.0  2012  \n",
       "26553   2015-05-13           7.3      9629.0  2015  \n",
       "18252   2012-07-16           7.6      9263.0  2012  \n",
       "2458    1999-03-30           7.9      9079.0  1999  \n",
       "12588   2008-04-30           7.4      8951.0  2008  \n",
       "20830   2013-04-18           6.8      8951.0  2013  \n",
       "4863    2001-12-18           8.0      8892.0  2001  \n",
       "25084   2015-06-09           6.5      8842.0  2015  \n",
       "292     1994-09-10           8.3      8670.0  1994  \n",
       "19971   2012-11-26           7.0      8427.0  2012  \n",
       "314     1994-09-23           8.5      8358.0  1994  "
      ]
     },
     "execution_count": 53,
     "metadata": {},
     "output_type": "execute_result"
    }
   ],
   "source": [
    "metadata.sort_values('vote_count', ascending=False).head(20)"
   ]
  },
  {
   "cell_type": "markdown",
   "id": "8526048c",
   "metadata": {},
   "source": [
    "Usually the movies with higher vote count have higher popularity (>20) as well. Some of these movies have both high popularity and vote_count."
   ]
  },
  {
   "cell_type": "code",
   "execution_count": 54,
   "id": "49115ee4",
   "metadata": {},
   "outputs": [
    {
     "data": {
      "image/png": "[encoded data removed]",
      "text/plain": [
       "<Figure size 720x360 with 1 Axes>"
      ]
     },
     "metadata": {},
     "output_type": "display_data"
    }
   ],
   "source": [
    "# plot horizontal barplot\n",
    "sns.set(rc={'figure.figsize':(10,5)})\n",
    "ax = sns.barplot(y='title', x='vote_count', data=metadata.sort_values('vote_count', ascending=False).head(20), orient='h')\n",
    "ax.set(title=\"Movies with high vote count\") # title barplot\n",
    "# label each bar in barplot\n",
    "for p in ax.patches:\n",
    " height = p.get_height() # height of each horizontal bar is the same\n",
    " width = p.get_width() # width (average number of passengers)\n",
    " # adding text to each bar\n",
    " ax.text(x = width+3, # x-coordinate position of data label, padded 3 to right of bar\n",
    " y = p.get_y()+(height/2), # # y-coordinate position of data label, padded to be in the middle of the bar\n",
    " s = '{:.0f}'.format(width), # data label, formatted to ignore decimals\n",
    " va = 'center') # sets vertical alignment (va) to center"
   ]
  },
  {
   "cell_type": "markdown",
   "id": "95f95432",
   "metadata": {},
   "source": [
    "## Vote Average"
   ]
  },
  {
   "cell_type": "code",
   "execution_count": 55,
   "id": "365a2fbd",
   "metadata": {},
   "outputs": [
    {
     "data": {
      "text/plain": [
       "count    45447.000000\n",
       "mean         5.618199\n",
       "std          1.924198\n",
       "min          0.000000\n",
       "25%          5.000000\n",
       "50%          6.000000\n",
       "75%          6.800000\n",
       "max         10.000000\n",
       "Name: vote_average, dtype: float64"
      ]
     },
     "execution_count": 55,
     "metadata": {},
     "output_type": "execute_result"
    }
   ],
   "source": [
    "metadata['vote_average'].describe()"
   ]
  },
  {
   "cell_type": "markdown",
   "id": "ea4aded4",
   "metadata": {},
   "source": [
    "vote_average between 0 and 10."
   ]
  },
  {
   "cell_type": "code",
   "execution_count": 56,
   "id": "94fb9ab8",
   "metadata": {},
   "outputs": [
    {
     "data": {
      "image/png": "[encoded data removed]",
      "text/plain": [
       "<Figure size 720x360 with 1 Axes>"
      ]
     },
     "metadata": {},
     "output_type": "display_data"
    }
   ],
   "source": [
    "sns.set(rc={'figure.figsize':(10,5)})\n",
    "sns.distplot(metadata['vote_average'])\n",
    "plt.title(\"Distribution of Vote Average\");"
   ]
  },
  {
   "cell_type": "markdown",
   "id": "a5fffc14",
   "metadata": {},
   "source": [
    "Movies with vote_average = 10 has about 190 records with low popularity and low vote_count which probably explains why the average vote is so high."
   ]
  },
  {
   "cell_type": "code",
   "execution_count": 57,
   "id": "c24e3a80",
   "metadata": {},
   "outputs": [
    {
     "data": {
      "text/html": [
       "<div>\n",
       "<style scoped>\n",
       "    .dataframe tbody tr th:only-of-type {\n",
       "        vertical-align: middle;\n",
       "    }\n",
       "\n",
       "    .dataframe tbody tr th {\n",
       "        vertical-align: top;\n",
       "    }\n",
       "\n",
       "    .dataframe thead th {\n",
       "        text-align: right;\n",
       "    }\n",
       "</style>\n",
       "<table border=\"1\" class=\"dataframe\">\n",
       "  <thead>\n",
       "    <tr style=\"text-align: right;\">\n",
       "      <th></th>\n",
       "      <th>genres</th>\n",
       "      <th>id</th>\n",
       "      <th>overview</th>\n",
       "      <th>tagline</th>\n",
       "      <th>title</th>\n",
       "      <th>popularity</th>\n",
       "      <th>release_date</th>\n",
       "      <th>vote_average</th>\n",
       "      <th>vote_count</th>\n",
       "      <th>year</th>\n",
       "    </tr>\n",
       "  </thead>\n",
       "  <tbody>\n",
       "    <tr>\n",
       "      <th>186</th>\n",
       "      <td>[Fantasy, Comedy, Drama]</td>\n",
       "      <td>58372</td>\n",
       "      <td>On Christmas eve, a relentlessly cheerful woma...</td>\n",
       "      <td>The most twisted Christmas ever.</td>\n",
       "      <td>Reckless</td>\n",
       "      <td>0.119713</td>\n",
       "      <td>1995-11-17</td>\n",
       "      <td>10.0</td>\n",
       "      <td>1.0</td>\n",
       "      <td>1995</td>\n",
       "    </tr>\n",
       "    <tr>\n",
       "      <th>394</th>\n",
       "      <td>[Romance, Adventure, Crime, Drama]</td>\n",
       "      <td>278939</td>\n",
       "      <td>A runaway teenage girl and a drifter rob a ban...</td>\n",
       "      <td>On our first date... we robbed a bank</td>\n",
       "      <td>Girl in the Cadillac</td>\n",
       "      <td>0.405392</td>\n",
       "      <td>1995-10-24</td>\n",
       "      <td>10.0</td>\n",
       "      <td>1.0</td>\n",
       "      <td>1995</td>\n",
       "    </tr>\n",
       "    <tr>\n",
       "      <th>706</th>\n",
       "      <td>[Documentary]</td>\n",
       "      <td>73183</td>\n",
       "      <td>The strange life and the wonderfully awful fil...</td>\n",
       "      <td>Can your MIND stand the SHOCKING TRUTH?</td>\n",
       "      <td>The Haunted World of Edward D. Wood, Jr.</td>\n",
       "      <td>0.037443</td>\n",
       "      <td>1996-05-01</td>\n",
       "      <td>10.0</td>\n",
       "      <td>1.0</td>\n",
       "      <td>1996</td>\n",
       "    </tr>\n",
       "    <tr>\n",
       "      <th>738</th>\n",
       "      <td>[Documentary]</td>\n",
       "      <td>255546</td>\n",
       "      <td>A biography of the Portuguese-Brazilian singer...</td>\n",
       "      <td>NaN</td>\n",
       "      <td>Carmen Miranda: Bananas Is My Business</td>\n",
       "      <td>0.146287</td>\n",
       "      <td>1995-04-13</td>\n",
       "      <td>10.0</td>\n",
       "      <td>1.0</td>\n",
       "      <td>1995</td>\n",
       "    </tr>\n",
       "    <tr>\n",
       "      <th>1634</th>\n",
       "      <td>[Drama]</td>\n",
       "      <td>64562</td>\n",
       "      <td>Truman Capote's semi-autobiographical first no...</td>\n",
       "      <td>NaN</td>\n",
       "      <td>Other Voices Other Rooms</td>\n",
       "      <td>0.036680</td>\n",
       "      <td>1995-09-15</td>\n",
       "      <td>10.0</td>\n",
       "      <td>1.0</td>\n",
       "      <td>1995</td>\n",
       "    </tr>\n",
       "    <tr>\n",
       "      <th>1761</th>\n",
       "      <td>[Comedy, Drama, Family]</td>\n",
       "      <td>78373</td>\n",
       "      <td>Four guys, best friends, have grown up togethe...</td>\n",
       "      <td>in the middle of nowhere they had everything</td>\n",
       "      <td>Dancer, Texas Pop. 81</td>\n",
       "      <td>0.567444</td>\n",
       "      <td>1998-05-01</td>\n",
       "      <td>10.0</td>\n",
       "      <td>1.0</td>\n",
       "      <td>1998</td>\n",
       "    </tr>\n",
       "    <tr>\n",
       "      <th>2114</th>\n",
       "      <td>[Drama]</td>\n",
       "      <td>143750</td>\n",
       "      <td>As her surroundings are invaded by outsiders, ...</td>\n",
       "      <td>NaN</td>\n",
       "      <td>The Farmer's Wife</td>\n",
       "      <td>0.211754</td>\n",
       "      <td>2012-06-20</td>\n",
       "      <td>10.0</td>\n",
       "      <td>1.0</td>\n",
       "      <td>2012</td>\n",
       "    </tr>\n",
       "    <tr>\n",
       "      <th>2653</th>\n",
       "      <td>[Comedy]</td>\n",
       "      <td>89861</td>\n",
       "      <td>Stiff Upper Lips is a broad parody of British ...</td>\n",
       "      <td>NaN</td>\n",
       "      <td>Stiff Upper Lips</td>\n",
       "      <td>0.882132</td>\n",
       "      <td>1998-06-12</td>\n",
       "      <td>10.0</td>\n",
       "      <td>1.0</td>\n",
       "      <td>1998</td>\n",
       "    </tr>\n",
       "    <tr>\n",
       "      <th>2948</th>\n",
       "      <td>[Drama, Action]</td>\n",
       "      <td>124853</td>\n",
       "      <td>The story of a young shoe salesman whose overe...</td>\n",
       "      <td>NaN</td>\n",
       "      <td>Ten Benny</td>\n",
       "      <td>0.064219</td>\n",
       "      <td>1995-04-09</td>\n",
       "      <td>10.0</td>\n",
       "      <td>1.0</td>\n",
       "      <td>1995</td>\n",
       "    </tr>\n",
       "    <tr>\n",
       "      <th>3160</th>\n",
       "      <td>[Documentary]</td>\n",
       "      <td>49477</td>\n",
       "      <td>Monika Treut explores the worlds and thoughts ...</td>\n",
       "      <td>NaN</td>\n",
       "      <td>Gendernauts: A Journey Through Shifting Identi...</td>\n",
       "      <td>0.073744</td>\n",
       "      <td>1999-06-12</td>\n",
       "      <td>10.0</td>\n",
       "      <td>2.0</td>\n",
       "      <td>1999</td>\n",
       "    </tr>\n",
       "    <tr>\n",
       "      <th>4046</th>\n",
       "      <td>[]</td>\n",
       "      <td>54968</td>\n",
       "      <td>Simon is an outcast from his Jewish community ...</td>\n",
       "      <td>misfit - outcast - turncoat - prophet - hero</td>\n",
       "      <td>Simon Magus</td>\n",
       "      <td>0.313628</td>\n",
       "      <td>1999-02-17</td>\n",
       "      <td>10.0</td>\n",
       "      <td>1.0</td>\n",
       "      <td>1999</td>\n",
       "    </tr>\n",
       "    <tr>\n",
       "      <th>8926</th>\n",
       "      <td>[History, Documentary]</td>\n",
       "      <td>114524</td>\n",
       "      <td>In the late 1970s, a mysterious new disease be...</td>\n",
       "      <td>NaN</td>\n",
       "      <td>Common Threads: Stories from the Quilt</td>\n",
       "      <td>0.544277</td>\n",
       "      <td>1989-12-01</td>\n",
       "      <td>10.0</td>\n",
       "      <td>2.0</td>\n",
       "      <td>1989</td>\n",
       "    </tr>\n",
       "    <tr>\n",
       "      <th>9389</th>\n",
       "      <td>[Drama, Action]</td>\n",
       "      <td>27079</td>\n",
       "      <td>Based on the true story of the rise and fall o...</td>\n",
       "      <td>NaN</td>\n",
       "      <td>High Roller: The Stu Ungar Story</td>\n",
       "      <td>0.888157</td>\n",
       "      <td>2003-05-01</td>\n",
       "      <td>10.0</td>\n",
       "      <td>1.0</td>\n",
       "      <td>2003</td>\n",
       "    </tr>\n",
       "    <tr>\n",
       "      <th>10456</th>\n",
       "      <td>[Comedy, Music, Family]</td>\n",
       "      <td>34662</td>\n",
       "      <td>A comedy musical based on the comic strip char...</td>\n",
       "      <td>NaN</td>\n",
       "      <td>Li'l Abner</td>\n",
       "      <td>0.611118</td>\n",
       "      <td>1959-12-11</td>\n",
       "      <td>10.0</td>\n",
       "      <td>1.0</td>\n",
       "      <td>1959</td>\n",
       "    </tr>\n",
       "    <tr>\n",
       "      <th>11050</th>\n",
       "      <td>[Drama, Comedy]</td>\n",
       "      <td>43147</td>\n",
       "      <td>A New York gossip columnist (Lee Tracy) feuds ...</td>\n",
       "      <td>Here it is! The scandalous comedy of a scandal...</td>\n",
       "      <td>Blessed Event</td>\n",
       "      <td>0.090803</td>\n",
       "      <td>1932-09-10</td>\n",
       "      <td>10.0</td>\n",
       "      <td>1.0</td>\n",
       "      <td>1932</td>\n",
       "    </tr>\n",
       "    <tr>\n",
       "      <th>11385</th>\n",
       "      <td>[Music, Documentary]</td>\n",
       "      <td>68736</td>\n",
       "      <td>MAD DOGS &amp;amp; ENGLISHMAN: A great film and is...</td>\n",
       "      <td>Joe Cocker</td>\n",
       "      <td>Joe Cocker - Mad Dogs &amp; Englishmen</td>\n",
       "      <td>0.035284</td>\n",
       "      <td>1971-08-27</td>\n",
       "      <td>10.0</td>\n",
       "      <td>1.0</td>\n",
       "      <td>1971</td>\n",
       "    </tr>\n",
       "    <tr>\n",
       "      <th>11666</th>\n",
       "      <td>[Comedy]</td>\n",
       "      <td>61648</td>\n",
       "      <td>A grandson of a recently deceased millionaire ...</td>\n",
       "      <td>NaN</td>\n",
       "      <td>Something in the Wind</td>\n",
       "      <td>0.222832</td>\n",
       "      <td>1947-07-21</td>\n",
       "      <td>10.0</td>\n",
       "      <td>1.0</td>\n",
       "      <td>1947</td>\n",
       "    </tr>\n",
       "    <tr>\n",
       "      <th>12164</th>\n",
       "      <td>[Comedy, Drama, Romance]</td>\n",
       "      <td>42173</td>\n",
       "      <td>A man falls for a separated woman but can't co...</td>\n",
       "      <td>A romantic comedy for all seasons.</td>\n",
       "      <td>Chilly Scenes of Winter</td>\n",
       "      <td>0.009192</td>\n",
       "      <td>1979-10-19</td>\n",
       "      <td>10.0</td>\n",
       "      <td>1.0</td>\n",
       "      <td>1979</td>\n",
       "    </tr>\n",
       "    <tr>\n",
       "      <th>13447</th>\n",
       "      <td>[Drama, War]</td>\n",
       "      <td>43034</td>\n",
       "      <td>Based on the story about Guy Gabaldon, a Los A...</td>\n",
       "      <td>The Marines' Battle Cry of the South Pacific!</td>\n",
       "      <td>Hell to Eternity</td>\n",
       "      <td>0.157003</td>\n",
       "      <td>1960-08-01</td>\n",
       "      <td>10.0</td>\n",
       "      <td>1.0</td>\n",
       "      <td>1960</td>\n",
       "    </tr>\n",
       "    <tr>\n",
       "      <th>13939</th>\n",
       "      <td>[Documentary]</td>\n",
       "      <td>38971</td>\n",
       "      <td>Documentary tracing the existence of noted roc...</td>\n",
       "      <td>NaN</td>\n",
       "      <td>Pavement: Slow Century</td>\n",
       "      <td>0.042737</td>\n",
       "      <td>2002-10-22</td>\n",
       "      <td>10.0</td>\n",
       "      <td>1.0</td>\n",
       "      <td>2002</td>\n",
       "    </tr>\n",
       "  </tbody>\n",
       "</table>\n",
       "</div>"
      ],
      "text/plain": [
       "                                   genres      id  \\\n",
       "186              [Fantasy, Comedy, Drama]   58372   \n",
       "394    [Romance, Adventure, Crime, Drama]  278939   \n",
       "706                         [Documentary]   73183   \n",
       "738                         [Documentary]  255546   \n",
       "1634                              [Drama]   64562   \n",
       "1761              [Comedy, Drama, Family]   78373   \n",
       "2114                              [Drama]  143750   \n",
       "2653                             [Comedy]   89861   \n",
       "2948                      [Drama, Action]  124853   \n",
       "3160                        [Documentary]   49477   \n",
       "4046                                   []   54968   \n",
       "8926               [History, Documentary]  114524   \n",
       "9389                      [Drama, Action]   27079   \n",
       "10456             [Comedy, Music, Family]   34662   \n",
       "11050                     [Drama, Comedy]   43147   \n",
       "11385                [Music, Documentary]   68736   \n",
       "11666                            [Comedy]   61648   \n",
       "12164            [Comedy, Drama, Romance]   42173   \n",
       "13447                        [Drama, War]   43034   \n",
       "13939                       [Documentary]   38971   \n",
       "\n",
       "                                                overview  \\\n",
       "186    On Christmas eve, a relentlessly cheerful woma...   \n",
       "394    A runaway teenage girl and a drifter rob a ban...   \n",
       "706    The strange life and the wonderfully awful fil...   \n",
       "738    A biography of the Portuguese-Brazilian singer...   \n",
       "1634   Truman Capote's semi-autobiographical first no...   \n",
       "1761   Four guys, best friends, have grown up togethe...   \n",
       "2114   As her surroundings are invaded by outsiders, ...   \n",
       "2653   Stiff Upper Lips is a broad parody of British ...   \n",
       "2948   The story of a young shoe salesman whose overe...   \n",
       "3160   Monika Treut explores the worlds and thoughts ...   \n",
       "4046   Simon is an outcast from his Jewish community ...   \n",
       "8926   In the late 1970s, a mysterious new disease be...   \n",
       "9389   Based on the true story of the rise and fall o...   \n",
       "10456  A comedy musical based on the comic strip char...   \n",
       "11050  A New York gossip columnist (Lee Tracy) feuds ...   \n",
       "11385  MAD DOGS &amp; ENGLISHMAN: A great film and is...   \n",
       "11666  A grandson of a recently deceased millionaire ...   \n",
       "12164  A man falls for a separated woman but can't co...   \n",
       "13447  Based on the story about Guy Gabaldon, a Los A...   \n",
       "13939  Documentary tracing the existence of noted roc...   \n",
       "\n",
       "                                                 tagline  \\\n",
       "186                     The most twisted Christmas ever.   \n",
       "394                On our first date... we robbed a bank   \n",
       "706              Can your MIND stand the SHOCKING TRUTH?   \n",
       "738                                                  NaN   \n",
       "1634                                                 NaN   \n",
       "1761        in the middle of nowhere they had everything   \n",
       "2114                                                 NaN   \n",
       "2653                                                 NaN   \n",
       "2948                                                 NaN   \n",
       "3160                                                 NaN   \n",
       "4046        misfit - outcast - turncoat - prophet - hero   \n",
       "8926                                                 NaN   \n",
       "9389                                                 NaN   \n",
       "10456                                                NaN   \n",
       "11050  Here it is! The scandalous comedy of a scandal...   \n",
       "11385                                         Joe Cocker   \n",
       "11666                                                NaN   \n",
       "12164                 A romantic comedy for all seasons.   \n",
       "13447      The Marines' Battle Cry of the South Pacific!   \n",
       "13939                                                NaN   \n",
       "\n",
       "                                                   title  popularity  \\\n",
       "186                                             Reckless    0.119713   \n",
       "394                                 Girl in the Cadillac    0.405392   \n",
       "706             The Haunted World of Edward D. Wood, Jr.    0.037443   \n",
       "738               Carmen Miranda: Bananas Is My Business    0.146287   \n",
       "1634                            Other Voices Other Rooms    0.036680   \n",
       "1761                               Dancer, Texas Pop. 81    0.567444   \n",
       "2114                                   The Farmer's Wife    0.211754   \n",
       "2653                                    Stiff Upper Lips    0.882132   \n",
       "2948                                           Ten Benny    0.064219   \n",
       "3160   Gendernauts: A Journey Through Shifting Identi...    0.073744   \n",
       "4046                                         Simon Magus    0.313628   \n",
       "8926              Common Threads: Stories from the Quilt    0.544277   \n",
       "9389                    High Roller: The Stu Ungar Story    0.888157   \n",
       "10456                                         Li'l Abner    0.611118   \n",
       "11050                                      Blessed Event    0.090803   \n",
       "11385                 Joe Cocker - Mad Dogs & Englishmen    0.035284   \n",
       "11666                              Something in the Wind    0.222832   \n",
       "12164                            Chilly Scenes of Winter    0.009192   \n",
       "13447                                   Hell to Eternity    0.157003   \n",
       "13939                             Pavement: Slow Century    0.042737   \n",
       "\n",
       "      release_date  vote_average  vote_count  year  \n",
       "186     1995-11-17          10.0         1.0  1995  \n",
       "394     1995-10-24          10.0         1.0  1995  \n",
       "706     1996-05-01          10.0         1.0  1996  \n",
       "738     1995-04-13          10.0         1.0  1995  \n",
       "1634    1995-09-15          10.0         1.0  1995  \n",
       "1761    1998-05-01          10.0         1.0  1998  \n",
       "2114    2012-06-20          10.0         1.0  2012  \n",
       "2653    1998-06-12          10.0         1.0  1998  \n",
       "2948    1995-04-09          10.0         1.0  1995  \n",
       "3160    1999-06-12          10.0         2.0  1999  \n",
       "4046    1999-02-17          10.0         1.0  1999  \n",
       "8926    1989-12-01          10.0         2.0  1989  \n",
       "9389    2003-05-01          10.0         1.0  2003  \n",
       "10456   1959-12-11          10.0         1.0  1959  \n",
       "11050   1932-09-10          10.0         1.0  1932  \n",
       "11385   1971-08-27          10.0         1.0  1971  \n",
       "11666   1947-07-21          10.0         1.0  1947  \n",
       "12164   1979-10-19          10.0         1.0  1979  \n",
       "13447   1960-08-01          10.0         1.0  1960  \n",
       "13939   2002-10-22          10.0         1.0  2002  "
      ]
     },
     "execution_count": 57,
     "metadata": {},
     "output_type": "execute_result"
    }
   ],
   "source": [
    "metadata[metadata['vote_average'] == 10].head(20)"
   ]
  },
  {
   "cell_type": "markdown",
   "id": "2606bf9f",
   "metadata": {},
   "source": [
    "2468 movies falls in the vote average = 6 list. Vote count and popularity are varying for this group."
   ]
  },
  {
   "cell_type": "code",
   "execution_count": 58,
   "id": "bca53be4",
   "metadata": {},
   "outputs": [
    {
     "data": {
      "text/html": [
       "<div>\n",
       "<style scoped>\n",
       "    .dataframe tbody tr th:only-of-type {\n",
       "        vertical-align: middle;\n",
       "    }\n",
       "\n",
       "    .dataframe tbody tr th {\n",
       "        vertical-align: top;\n",
       "    }\n",
       "\n",
       "    .dataframe thead th {\n",
       "        text-align: right;\n",
       "    }\n",
       "</style>\n",
       "<table border=\"1\" class=\"dataframe\">\n",
       "  <thead>\n",
       "    <tr style=\"text-align: right;\">\n",
       "      <th></th>\n",
       "      <th>genres</th>\n",
       "      <th>id</th>\n",
       "      <th>overview</th>\n",
       "      <th>tagline</th>\n",
       "      <th>title</th>\n",
       "      <th>popularity</th>\n",
       "      <th>release_date</th>\n",
       "      <th>vote_average</th>\n",
       "      <th>vote_count</th>\n",
       "      <th>year</th>\n",
       "    </tr>\n",
       "  </thead>\n",
       "  <tbody>\n",
       "    <tr>\n",
       "      <th>22</th>\n",
       "      <td>[Action, Adventure, Crime, Thriller]</td>\n",
       "      <td>9691</td>\n",
       "      <td>Assassin Robert Rath arrives at a funeral to k...</td>\n",
       "      <td>In the shadows of life, In the business of dea...</td>\n",
       "      <td>Assassins</td>\n",
       "      <td>11.065939</td>\n",
       "      <td>1995-10-06</td>\n",
       "      <td>6.0</td>\n",
       "      <td>394.0</td>\n",
       "      <td>1995</td>\n",
       "    </tr>\n",
       "    <tr>\n",
       "      <th>33</th>\n",
       "      <td>[Fantasy, Drama, Comedy, Family]</td>\n",
       "      <td>9598</td>\n",
       "      <td>Babe is a little pig who doesn't quite know hi...</td>\n",
       "      <td>A little pig goes a long way.</td>\n",
       "      <td>Babe</td>\n",
       "      <td>14.404764</td>\n",
       "      <td>1995-07-18</td>\n",
       "      <td>6.0</td>\n",
       "      <td>756.0</td>\n",
       "      <td>1995</td>\n",
       "    </tr>\n",
       "    <tr>\n",
       "      <th>67</th>\n",
       "      <td>[Comedy, Romance]</td>\n",
       "      <td>4482</td>\n",
       "      <td>After learning of her husband's infidelities, ...</td>\n",
       "      <td>NaN</td>\n",
       "      <td>French Twist</td>\n",
       "      <td>2.518051</td>\n",
       "      <td>1995-02-08</td>\n",
       "      <td>6.0</td>\n",
       "      <td>43.0</td>\n",
       "      <td>1995</td>\n",
       "    </tr>\n",
       "    <tr>\n",
       "      <th>87</th>\n",
       "      <td>[Comedy]</td>\n",
       "      <td>13997</td>\n",
       "      <td>When dignified Albert Donnelly runs for Govern...</td>\n",
       "      <td>There's one in every family.</td>\n",
       "      <td>Black Sheep</td>\n",
       "      <td>8.963037</td>\n",
       "      <td>1996-02-01</td>\n",
       "      <td>6.0</td>\n",
       "      <td>124.0</td>\n",
       "      <td>1996</td>\n",
       "    </tr>\n",
       "    <tr>\n",
       "      <th>98</th>\n",
       "      <td>[Drama, Thriller]</td>\n",
       "      <td>11062</td>\n",
       "      <td>The accidental shooting of a boy in New York l...</td>\n",
       "      <td>It started with a shootout on a rainswept stre...</td>\n",
       "      <td>City Hall</td>\n",
       "      <td>4.807223</td>\n",
       "      <td>1996-02-16</td>\n",
       "      <td>6.0</td>\n",
       "      <td>67.0</td>\n",
       "      <td>1996</td>\n",
       "    </tr>\n",
       "    <tr>\n",
       "      <th>145</th>\n",
       "      <td>[Romance, Drama, Comedy]</td>\n",
       "      <td>22279</td>\n",
       "      <td>An Awfully Big Adventure is a 1995 drama film ...</td>\n",
       "      <td>NaN</td>\n",
       "      <td>An Awfully Big Adventure</td>\n",
       "      <td>0.922958</td>\n",
       "      <td>1995-07-21</td>\n",
       "      <td>6.0</td>\n",
       "      <td>11.0</td>\n",
       "      <td>1995</td>\n",
       "    </tr>\n",
       "    <tr>\n",
       "      <th>155</th>\n",
       "      <td>[Fantasy, Comedy, Family]</td>\n",
       "      <td>8839</td>\n",
       "      <td>Furious that her late father only willed her h...</td>\n",
       "      <td>Get an afterlife</td>\n",
       "      <td>Casper</td>\n",
       "      <td>12.812539</td>\n",
       "      <td>1995-05-26</td>\n",
       "      <td>6.0</td>\n",
       "      <td>1045.0</td>\n",
       "      <td>1995</td>\n",
       "    </tr>\n",
       "    <tr>\n",
       "      <th>203</th>\n",
       "      <td>[Documentary]</td>\n",
       "      <td>77350</td>\n",
       "      <td>Using a variety of cinematographic techniques,...</td>\n",
       "      <td>NaN</td>\n",
       "      <td>Unzipped</td>\n",
       "      <td>0.786023</td>\n",
       "      <td>1995-08-11</td>\n",
       "      <td>6.0</td>\n",
       "      <td>6.0</td>\n",
       "      <td>1995</td>\n",
       "    </tr>\n",
       "    <tr>\n",
       "      <th>208</th>\n",
       "      <td>[Drama]</td>\n",
       "      <td>49805</td>\n",
       "      <td>Andrew Crocker-Harris is an embittered and dis...</td>\n",
       "      <td>The greatest lessons in the life and the ones ...</td>\n",
       "      <td>The Browning Version</td>\n",
       "      <td>3.727644</td>\n",
       "      <td>1994-10-12</td>\n",
       "      <td>6.0</td>\n",
       "      <td>11.0</td>\n",
       "      <td>1994</td>\n",
       "    </tr>\n",
       "    <tr>\n",
       "      <th>244</th>\n",
       "      <td>[Comedy, Family]</td>\n",
       "      <td>17207</td>\n",
       "      <td>In hot water with the mob over an unpaid debt,...</td>\n",
       "      <td>NaN</td>\n",
       "      <td>Houseguest</td>\n",
       "      <td>2.688562</td>\n",
       "      <td>1995-01-06</td>\n",
       "      <td>6.0</td>\n",
       "      <td>17.0</td>\n",
       "      <td>1995</td>\n",
       "    </tr>\n",
       "    <tr>\n",
       "      <th>246</th>\n",
       "      <td>[Comedy, Family, Drama]</td>\n",
       "      <td>14819</td>\n",
       "      <td>Camp Hope is a summer retreat for overweight b...</td>\n",
       "      <td>They don't run the fastest. They don't jump th...</td>\n",
       "      <td>Heavyweights</td>\n",
       "      <td>9.546707</td>\n",
       "      <td>1995-02-17</td>\n",
       "      <td>6.0</td>\n",
       "      <td>97.0</td>\n",
       "      <td>1995</td>\n",
       "    </tr>\n",
       "    <tr>\n",
       "      <th>247</th>\n",
       "      <td>[Action, Thriller]</td>\n",
       "      <td>32631</td>\n",
       "      <td>A businessman on a trip to Tokyo ends up in th...</td>\n",
       "      <td>He's trapped in a world where killing is an ar...</td>\n",
       "      <td>The Hunted</td>\n",
       "      <td>2.756986</td>\n",
       "      <td>1995-02-24</td>\n",
       "      <td>6.0</td>\n",
       "      <td>25.0</td>\n",
       "      <td>1995</td>\n",
       "    </tr>\n",
       "    <tr>\n",
       "      <th>253</th>\n",
       "      <td>[Action, Drama, Mystery, Thriller]</td>\n",
       "      <td>9061</td>\n",
       "      <td>Bobby Earl is facing the electric chair for th...</td>\n",
       "      <td>Buried deep in the Florida Everglades is a sec...</td>\n",
       "      <td>Just Cause</td>\n",
       "      <td>9.195256</td>\n",
       "      <td>1995-02-17</td>\n",
       "      <td>6.0</td>\n",
       "      <td>124.0</td>\n",
       "      <td>1995</td>\n",
       "    </tr>\n",
       "    <tr>\n",
       "      <th>316</th>\n",
       "      <td>[Drama, Thriller]</td>\n",
       "      <td>87078</td>\n",
       "      <td>Brothers Vincent (rich) and Clay (poor) meet u...</td>\n",
       "      <td>A thriller where nothing is black and white.</td>\n",
       "      <td>Suture</td>\n",
       "      <td>1.298224</td>\n",
       "      <td>1993-09-14</td>\n",
       "      <td>6.0</td>\n",
       "      <td>7.0</td>\n",
       "      <td>1993</td>\n",
       "    </tr>\n",
       "    <tr>\n",
       "      <th>319</th>\n",
       "      <td>[Comedy, Drama, Romance]</td>\n",
       "      <td>36614</td>\n",
       "      <td>\"The Sum of Us\" is an Aussie story about a fat...</td>\n",
       "      <td>We're all just . . . The Sum of Us.</td>\n",
       "      <td>The Sum of Us</td>\n",
       "      <td>1.407427</td>\n",
       "      <td>1994-07-12</td>\n",
       "      <td>6.0</td>\n",
       "      <td>21.0</td>\n",
       "      <td>1994</td>\n",
       "    </tr>\n",
       "    <tr>\n",
       "      <th>360</th>\n",
       "      <td>[Drama, History]</td>\n",
       "      <td>1689</td>\n",
       "      <td>Little Buddha is a movie about the life of Sid...</td>\n",
       "      <td>A magical journey to a place where the past an...</td>\n",
       "      <td>Little Buddha</td>\n",
       "      <td>5.681522</td>\n",
       "      <td>1993-12-01</td>\n",
       "      <td>6.0</td>\n",
       "      <td>76.0</td>\n",
       "      <td>1993</td>\n",
       "    </tr>\n",
       "    <tr>\n",
       "      <th>376</th>\n",
       "      <td>[Drama, Romance]</td>\n",
       "      <td>10449</td>\n",
       "      <td>An airline pilot and his wife are forced to fa...</td>\n",
       "      <td>Through the good times. Through the bad times....</td>\n",
       "      <td>When a Man Loves a Woman</td>\n",
       "      <td>4.322544</td>\n",
       "      <td>1994-04-29</td>\n",
       "      <td>6.0</td>\n",
       "      <td>71.0</td>\n",
       "      <td>1994</td>\n",
       "    </tr>\n",
       "    <tr>\n",
       "      <th>377</th>\n",
       "      <td>[Fantasy]</td>\n",
       "      <td>10395</td>\n",
       "      <td>Publisher Will Randall becomes a werewolf and ...</td>\n",
       "      <td>The animal is out.</td>\n",
       "      <td>Wolf</td>\n",
       "      <td>14.063845</td>\n",
       "      <td>1994-06-17</td>\n",
       "      <td>6.0</td>\n",
       "      <td>221.0</td>\n",
       "      <td>1994</td>\n",
       "    </tr>\n",
       "    <tr>\n",
       "      <th>382</th>\n",
       "      <td>[Action, Comedy, Crime]</td>\n",
       "      <td>26352</td>\n",
       "      <td>A black detective becomes embroiled in a web o...</td>\n",
       "      <td>He's armed and dangerously funny.</td>\n",
       "      <td>A Low Down Dirty Shame</td>\n",
       "      <td>3.021526</td>\n",
       "      <td>1994-11-23</td>\n",
       "      <td>6.0</td>\n",
       "      <td>31.0</td>\n",
       "      <td>1994</td>\n",
       "    </tr>\n",
       "    <tr>\n",
       "      <th>418</th>\n",
       "      <td>[Drama, Action, Thriller]</td>\n",
       "      <td>178</td>\n",
       "      <td>Blown Away tells the story of Jimmy Dove who w...</td>\n",
       "      <td>5. 4. 3. 2. 1......Time's Up.</td>\n",
       "      <td>Blown Away</td>\n",
       "      <td>13.155071</td>\n",
       "      <td>1994-07-01</td>\n",
       "      <td>6.0</td>\n",
       "      <td>126.0</td>\n",
       "      <td>1994</td>\n",
       "    </tr>\n",
       "  </tbody>\n",
       "</table>\n",
       "</div>"
      ],
      "text/plain": [
       "                                   genres     id  \\\n",
       "22   [Action, Adventure, Crime, Thriller]   9691   \n",
       "33       [Fantasy, Drama, Comedy, Family]   9598   \n",
       "67                      [Comedy, Romance]   4482   \n",
       "87                               [Comedy]  13997   \n",
       "98                      [Drama, Thriller]  11062   \n",
       "145              [Romance, Drama, Comedy]  22279   \n",
       "155             [Fantasy, Comedy, Family]   8839   \n",
       "203                         [Documentary]  77350   \n",
       "208                               [Drama]  49805   \n",
       "244                      [Comedy, Family]  17207   \n",
       "246               [Comedy, Family, Drama]  14819   \n",
       "247                    [Action, Thriller]  32631   \n",
       "253    [Action, Drama, Mystery, Thriller]   9061   \n",
       "316                     [Drama, Thriller]  87078   \n",
       "319              [Comedy, Drama, Romance]  36614   \n",
       "360                      [Drama, History]   1689   \n",
       "376                      [Drama, Romance]  10449   \n",
       "377                             [Fantasy]  10395   \n",
       "382               [Action, Comedy, Crime]  26352   \n",
       "418             [Drama, Action, Thriller]    178   \n",
       "\n",
       "                                              overview  \\\n",
       "22   Assassin Robert Rath arrives at a funeral to k...   \n",
       "33   Babe is a little pig who doesn't quite know hi...   \n",
       "67   After learning of her husband's infidelities, ...   \n",
       "87   When dignified Albert Donnelly runs for Govern...   \n",
       "98   The accidental shooting of a boy in New York l...   \n",
       "145  An Awfully Big Adventure is a 1995 drama film ...   \n",
       "155  Furious that her late father only willed her h...   \n",
       "203  Using a variety of cinematographic techniques,...   \n",
       "208  Andrew Crocker-Harris is an embittered and dis...   \n",
       "244  In hot water with the mob over an unpaid debt,...   \n",
       "246  Camp Hope is a summer retreat for overweight b...   \n",
       "247  A businessman on a trip to Tokyo ends up in th...   \n",
       "253  Bobby Earl is facing the electric chair for th...   \n",
       "316  Brothers Vincent (rich) and Clay (poor) meet u...   \n",
       "319  \"The Sum of Us\" is an Aussie story about a fat...   \n",
       "360  Little Buddha is a movie about the life of Sid...   \n",
       "376  An airline pilot and his wife are forced to fa...   \n",
       "377  Publisher Will Randall becomes a werewolf and ...   \n",
       "382  A black detective becomes embroiled in a web o...   \n",
       "418  Blown Away tells the story of Jimmy Dove who w...   \n",
       "\n",
       "                                               tagline  \\\n",
       "22   In the shadows of life, In the business of dea...   \n",
       "33                       A little pig goes a long way.   \n",
       "67                                                 NaN   \n",
       "87                        There's one in every family.   \n",
       "98   It started with a shootout on a rainswept stre...   \n",
       "145                                                NaN   \n",
       "155                                   Get an afterlife   \n",
       "203                                                NaN   \n",
       "208  The greatest lessons in the life and the ones ...   \n",
       "244                                                NaN   \n",
       "246  They don't run the fastest. They don't jump th...   \n",
       "247  He's trapped in a world where killing is an ar...   \n",
       "253  Buried deep in the Florida Everglades is a sec...   \n",
       "316       A thriller where nothing is black and white.   \n",
       "319                We're all just . . . The Sum of Us.   \n",
       "360  A magical journey to a place where the past an...   \n",
       "376  Through the good times. Through the bad times....   \n",
       "377                                 The animal is out.   \n",
       "382                  He's armed and dangerously funny.   \n",
       "418                      5. 4. 3. 2. 1......Time's Up.   \n",
       "\n",
       "                        title  popularity release_date  vote_average  \\\n",
       "22                  Assassins   11.065939   1995-10-06           6.0   \n",
       "33                       Babe   14.404764   1995-07-18           6.0   \n",
       "67               French Twist    2.518051   1995-02-08           6.0   \n",
       "87                Black Sheep    8.963037   1996-02-01           6.0   \n",
       "98                  City Hall    4.807223   1996-02-16           6.0   \n",
       "145  An Awfully Big Adventure    0.922958   1995-07-21           6.0   \n",
       "155                    Casper   12.812539   1995-05-26           6.0   \n",
       "203                  Unzipped    0.786023   1995-08-11           6.0   \n",
       "208      The Browning Version    3.727644   1994-10-12           6.0   \n",
       "244                Houseguest    2.688562   1995-01-06           6.0   \n",
       "246              Heavyweights    9.546707   1995-02-17           6.0   \n",
       "247                The Hunted    2.756986   1995-02-24           6.0   \n",
       "253                Just Cause    9.195256   1995-02-17           6.0   \n",
       "316                    Suture    1.298224   1993-09-14           6.0   \n",
       "319             The Sum of Us    1.407427   1994-07-12           6.0   \n",
       "360             Little Buddha    5.681522   1993-12-01           6.0   \n",
       "376  When a Man Loves a Woman    4.322544   1994-04-29           6.0   \n",
       "377                      Wolf   14.063845   1994-06-17           6.0   \n",
       "382    A Low Down Dirty Shame    3.021526   1994-11-23           6.0   \n",
       "418                Blown Away   13.155071   1994-07-01           6.0   \n",
       "\n",
       "     vote_count  year  \n",
       "22        394.0  1995  \n",
       "33        756.0  1995  \n",
       "67         43.0  1995  \n",
       "87        124.0  1996  \n",
       "98         67.0  1996  \n",
       "145        11.0  1995  \n",
       "155      1045.0  1995  \n",
       "203         6.0  1995  \n",
       "208        11.0  1994  \n",
       "244        17.0  1995  \n",
       "246        97.0  1995  \n",
       "247        25.0  1995  \n",
       "253       124.0  1995  \n",
       "316         7.0  1993  \n",
       "319        21.0  1994  \n",
       "360        76.0  1993  \n",
       "376        71.0  1994  \n",
       "377       221.0  1994  \n",
       "382        31.0  1994  \n",
       "418       126.0  1994  "
      ]
     },
     "execution_count": 58,
     "metadata": {},
     "output_type": "execute_result"
    }
   ],
   "source": [
    "metadata[metadata['vote_average'] == 6].head(20)"
   ]
  },
  {
   "cell_type": "markdown",
   "id": "44023414",
   "metadata": {},
   "source": [
    "We will now take a look at the distribution of rating in the ratings_small dataset."
   ]
  },
  {
   "cell_type": "markdown",
   "id": "eba8e538",
   "metadata": {},
   "source": [
    "## Rating"
   ]
  },
  {
   "cell_type": "code",
   "execution_count": 59,
   "id": "712375c7",
   "metadata": {},
   "outputs": [
    {
     "data": {
      "text/plain": [
       "count    100004.000000\n",
       "mean          3.543608\n",
       "std           1.058064\n",
       "min           0.500000\n",
       "25%           3.000000\n",
       "50%           4.000000\n",
       "75%           4.000000\n",
       "max           5.000000\n",
       "Name: rating, dtype: float64"
      ]
     },
     "execution_count": 59,
     "metadata": {},
     "output_type": "execute_result"
    }
   ],
   "source": [
    "ratings_small['rating'].describe()"
   ]
  },
  {
   "cell_type": "code",
   "execution_count": 60,
   "id": "cb474541",
   "metadata": {},
   "outputs": [
    {
     "data": {
      "image/png": "[encoded data removed]",
      "text/plain": [
       "<Figure size 720x360 with 1 Axes>"
      ]
     },
     "metadata": {},
     "output_type": "display_data"
    }
   ],
   "source": [
    "sns.distplot(ratings_small['rating'])\n",
    "plt.title(\"Distribution of Rating\");"
   ]
  },
  {
   "cell_type": "markdown",
   "id": "0c19e628",
   "metadata": {},
   "source": [
    "Majority of users gave a 3-4 ratings for each movie."
   ]
  },
  {
   "cell_type": "code",
   "execution_count": 61,
   "id": "b77d0b84",
   "metadata": {},
   "outputs": [
    {
     "data": {
      "text/html": [
       "<div>\n",
       "<style scoped>\n",
       "    .dataframe tbody tr th:only-of-type {\n",
       "        vertical-align: middle;\n",
       "    }\n",
       "\n",
       "    .dataframe tbody tr th {\n",
       "        vertical-align: top;\n",
       "    }\n",
       "\n",
       "    .dataframe thead th {\n",
       "        text-align: right;\n",
       "    }\n",
       "</style>\n",
       "<table border=\"1\" class=\"dataframe\">\n",
       "  <thead>\n",
       "    <tr style=\"text-align: right;\">\n",
       "      <th></th>\n",
       "      <th>movieId</th>\n",
       "      <th>rating</th>\n",
       "      <th>timestamp</th>\n",
       "    </tr>\n",
       "    <tr>\n",
       "      <th>userId</th>\n",
       "      <th></th>\n",
       "      <th></th>\n",
       "      <th></th>\n",
       "    </tr>\n",
       "  </thead>\n",
       "  <tbody>\n",
       "    <tr>\n",
       "      <th>1</th>\n",
       "      <td>20</td>\n",
       "      <td>20</td>\n",
       "      <td>20</td>\n",
       "    </tr>\n",
       "    <tr>\n",
       "      <th>2</th>\n",
       "      <td>76</td>\n",
       "      <td>76</td>\n",
       "      <td>76</td>\n",
       "    </tr>\n",
       "    <tr>\n",
       "      <th>3</th>\n",
       "      <td>51</td>\n",
       "      <td>51</td>\n",
       "      <td>51</td>\n",
       "    </tr>\n",
       "    <tr>\n",
       "      <th>4</th>\n",
       "      <td>204</td>\n",
       "      <td>204</td>\n",
       "      <td>204</td>\n",
       "    </tr>\n",
       "    <tr>\n",
       "      <th>5</th>\n",
       "      <td>100</td>\n",
       "      <td>100</td>\n",
       "      <td>100</td>\n",
       "    </tr>\n",
       "    <tr>\n",
       "      <th>...</th>\n",
       "      <td>...</td>\n",
       "      <td>...</td>\n",
       "      <td>...</td>\n",
       "    </tr>\n",
       "    <tr>\n",
       "      <th>667</th>\n",
       "      <td>68</td>\n",
       "      <td>68</td>\n",
       "      <td>68</td>\n",
       "    </tr>\n",
       "    <tr>\n",
       "      <th>668</th>\n",
       "      <td>20</td>\n",
       "      <td>20</td>\n",
       "      <td>20</td>\n",
       "    </tr>\n",
       "    <tr>\n",
       "      <th>669</th>\n",
       "      <td>37</td>\n",
       "      <td>37</td>\n",
       "      <td>37</td>\n",
       "    </tr>\n",
       "    <tr>\n",
       "      <th>670</th>\n",
       "      <td>31</td>\n",
       "      <td>31</td>\n",
       "      <td>31</td>\n",
       "    </tr>\n",
       "    <tr>\n",
       "      <th>671</th>\n",
       "      <td>115</td>\n",
       "      <td>115</td>\n",
       "      <td>115</td>\n",
       "    </tr>\n",
       "  </tbody>\n",
       "</table>\n",
       "<p>671 rows × 3 columns</p>\n",
       "</div>"
      ],
      "text/plain": [
       "        movieId  rating  timestamp\n",
       "userId                            \n",
       "1            20      20         20\n",
       "2            76      76         76\n",
       "3            51      51         51\n",
       "4           204     204        204\n",
       "5           100     100        100\n",
       "...         ...     ...        ...\n",
       "667          68      68         68\n",
       "668          20      20         20\n",
       "669          37      37         37\n",
       "670          31      31         31\n",
       "671         115     115        115\n",
       "\n",
       "[671 rows x 3 columns]"
      ]
     },
     "execution_count": 61,
     "metadata": {},
     "output_type": "execute_result"
    }
   ],
   "source": [
    "# find number of rating per user\n",
    "ratings_average = ratings_small.groupby(by=[\"userId\"]).count()\n",
    "ratings_average"
   ]
  },
  {
   "cell_type": "code",
   "execution_count": 62,
   "id": "74338707",
   "metadata": {},
   "outputs": [
    {
     "data": {
      "text/plain": [
       "count     671.000000\n",
       "mean      149.037258\n",
       "std       231.226948\n",
       "min        20.000000\n",
       "25%        37.000000\n",
       "50%        71.000000\n",
       "75%       161.000000\n",
       "max      2391.000000\n",
       "Name: rating, dtype: float64"
      ]
     },
     "execution_count": 62,
     "metadata": {},
     "output_type": "execute_result"
    }
   ],
   "source": [
    "#no of ratings per user \n",
    "ratings_average['rating'].describe()"
   ]
  },
  {
   "cell_type": "code",
   "execution_count": 63,
   "id": "e8215b6f",
   "metadata": {},
   "outputs": [
    {
     "data": {
      "image/png": "[encoded data removed]",
      "text/plain": [
       "<Figure size 720x360 with 1 Axes>"
      ]
     },
     "metadata": {},
     "output_type": "display_data"
    }
   ],
   "source": [
    "sns.distplot(ratings_average['rating'])\n",
    "plt.title(\"Distribution of Rating per User\");"
   ]
  },
  {
   "cell_type": "markdown",
   "id": "da5a176f",
   "metadata": {},
   "source": [
    "Majority of users rates <500 movies. Distribution is positively skewed."
   ]
  },
  {
   "cell_type": "markdown",
   "id": "40e8e12f",
   "metadata": {},
   "source": [
    "We will now analyze the title, overview, tagline and genres from the movies_metadata dataset, keywords from the keywords dataset and cast from the credits dataset."
   ]
  },
  {
   "cell_type": "code",
   "execution_count": 64,
   "id": "83c12406",
   "metadata": {},
   "outputs": [
    {
     "data": {
      "text/plain": [
       "50.0"
      ]
     },
     "execution_count": 64,
     "metadata": {},
     "output_type": "execute_result"
    }
   ],
   "source": [
    "#finding 80th percentile of votes to be 50\n",
    "\n",
    "metadata['vote_count'].quantile(0.80)"
   ]
  },
  {
   "cell_type": "code",
   "execution_count": 65,
   "id": "61707055",
   "metadata": {},
   "outputs": [],
   "source": [
    "#we will select movies with at least 50 votes (only a subset) for eda\n",
    "\n",
    "metadata_eda = metadata[metadata['vote_count']>=50]"
   ]
  },
  {
   "cell_type": "code",
   "execution_count": 66,
   "id": "29d171e7",
   "metadata": {},
   "outputs": [],
   "source": [
    "#only want selected columns from the metadata dataset\n",
    "metadata_eda = metadata_eda[['id','title','overview','tagline', 'genres']]"
   ]
  },
  {
   "cell_type": "code",
   "execution_count": 67,
   "id": "3d167463",
   "metadata": {},
   "outputs": [],
   "source": [
    "#will be using the id and cast column for the credits dataset\n",
    "credits = credits[['id','cast']]"
   ]
  },
  {
   "cell_type": "code",
   "execution_count": 68,
   "id": "aafdc25a",
   "metadata": {},
   "outputs": [
    {
     "data": {
      "text/plain": [
       "dtype('int64')"
      ]
     },
     "execution_count": 68,
     "metadata": {},
     "output_type": "execute_result"
    }
   ],
   "source": [
    "#check if id is integer\n",
    "keywords['id'].dtypes"
   ]
  },
  {
   "cell_type": "code",
   "execution_count": 69,
   "id": "3d722363",
   "metadata": {},
   "outputs": [
    {
     "data": {
      "text/plain": [
       "dtype('int64')"
      ]
     },
     "execution_count": 69,
     "metadata": {},
     "output_type": "execute_result"
    }
   ],
   "source": [
    "#check if id is integer\n",
    "credits['id'].dtypes"
   ]
  },
  {
   "cell_type": "code",
   "execution_count": 70,
   "id": "ce6c32e6",
   "metadata": {},
   "outputs": [
    {
     "data": {
      "text/plain": [
       "dtype('int64')"
      ]
     },
     "execution_count": 70,
     "metadata": {},
     "output_type": "execute_result"
    }
   ],
   "source": [
    "#check if id is integer\n",
    "metadata_eda['id'].dtypes"
   ]
  },
  {
   "cell_type": "code",
   "execution_count": 71,
   "id": "a2b559a2",
   "metadata": {},
   "outputs": [],
   "source": [
    "# Merge medata and keywords df\n",
    "df = pd.merge(metadata_eda, keywords, on='id', how='left')\n",
    "\n",
    "# Reset the index\n",
    "df.reset_index(inplace=True, drop=True)"
   ]
  },
  {
   "cell_type": "code",
   "execution_count": 72,
   "id": "ab6de95f",
   "metadata": {},
   "outputs": [],
   "source": [
    "# Merge with credits df\n",
    "df = pd.merge(df, credits, on='id', how='left')\n",
    "\n",
    "# Reset the index\n",
    "df.reset_index(inplace=True, drop=True)"
   ]
  },
  {
   "cell_type": "code",
   "execution_count": 73,
   "id": "ed074cdd",
   "metadata": {},
   "outputs": [
    {
     "data": {
      "text/html": [
       "<div>\n",
       "<style scoped>\n",
       "    .dataframe tbody tr th:only-of-type {\n",
       "        vertical-align: middle;\n",
       "    }\n",
       "\n",
       "    .dataframe tbody tr th {\n",
       "        vertical-align: top;\n",
       "    }\n",
       "\n",
       "    .dataframe thead th {\n",
       "        text-align: right;\n",
       "    }\n",
       "</style>\n",
       "<table border=\"1\" class=\"dataframe\">\n",
       "  <thead>\n",
       "    <tr style=\"text-align: right;\">\n",
       "      <th></th>\n",
       "      <th>id</th>\n",
       "      <th>title</th>\n",
       "      <th>overview</th>\n",
       "      <th>tagline</th>\n",
       "      <th>genres</th>\n",
       "      <th>keywords</th>\n",
       "      <th>cast</th>\n",
       "    </tr>\n",
       "  </thead>\n",
       "  <tbody>\n",
       "    <tr>\n",
       "      <th>0</th>\n",
       "      <td>862</td>\n",
       "      <td>Toy Story</td>\n",
       "      <td>Led by Woody, Andy's toys live happily in his ...</td>\n",
       "      <td>NaN</td>\n",
       "      <td>[Animation, Comedy, Family]</td>\n",
       "      <td>[{'id': 931, 'name': 'jealousy'}, {'id': 4290,...</td>\n",
       "      <td>[{'cast_id': 14, 'character': 'Woody (voice)',...</td>\n",
       "    </tr>\n",
       "    <tr>\n",
       "      <th>1</th>\n",
       "      <td>8844</td>\n",
       "      <td>Jumanji</td>\n",
       "      <td>When siblings Judy and Peter discover an encha...</td>\n",
       "      <td>Roll the dice and unleash the excitement!</td>\n",
       "      <td>[Adventure, Fantasy, Family]</td>\n",
       "      <td>[{'id': 10090, 'name': 'board game'}, {'id': 1...</td>\n",
       "      <td>[{'cast_id': 1, 'character': 'Alan Parrish', '...</td>\n",
       "    </tr>\n",
       "    <tr>\n",
       "      <th>2</th>\n",
       "      <td>15602</td>\n",
       "      <td>Grumpier Old Men</td>\n",
       "      <td>A family wedding reignites the ancient feud be...</td>\n",
       "      <td>Still Yelling. Still Fighting. Still Ready for...</td>\n",
       "      <td>[Romance, Comedy]</td>\n",
       "      <td>[{'id': 1495, 'name': 'fishing'}, {'id': 12392...</td>\n",
       "      <td>[{'cast_id': 2, 'character': 'Max Goldman', 'c...</td>\n",
       "    </tr>\n",
       "    <tr>\n",
       "      <th>3</th>\n",
       "      <td>11862</td>\n",
       "      <td>Father of the Bride Part II</td>\n",
       "      <td>Just when George Banks has recovered from his ...</td>\n",
       "      <td>Just When His World Is Back To Normal... He's ...</td>\n",
       "      <td>[Comedy]</td>\n",
       "      <td>[{'id': 1009, 'name': 'baby'}, {'id': 1599, 'n...</td>\n",
       "      <td>[{'cast_id': 1, 'character': 'George Banks', '...</td>\n",
       "    </tr>\n",
       "    <tr>\n",
       "      <th>4</th>\n",
       "      <td>949</td>\n",
       "      <td>Heat</td>\n",
       "      <td>Obsessive master thief, Neil McCauley leads a ...</td>\n",
       "      <td>A Los Angeles Crime Saga</td>\n",
       "      <td>[Action, Crime, Drama, Thriller]</td>\n",
       "      <td>[{'id': 642, 'name': 'robbery'}, {'id': 703, '...</td>\n",
       "      <td>[{'cast_id': 25, 'character': 'Lt. Vincent Han...</td>\n",
       "    </tr>\n",
       "  </tbody>\n",
       "</table>\n",
       "</div>"
      ],
      "text/plain": [
       "      id                        title  \\\n",
       "0    862                    Toy Story   \n",
       "1   8844                      Jumanji   \n",
       "2  15602             Grumpier Old Men   \n",
       "3  11862  Father of the Bride Part II   \n",
       "4    949                         Heat   \n",
       "\n",
       "                                            overview  \\\n",
       "0  Led by Woody, Andy's toys live happily in his ...   \n",
       "1  When siblings Judy and Peter discover an encha...   \n",
       "2  A family wedding reignites the ancient feud be...   \n",
       "3  Just when George Banks has recovered from his ...   \n",
       "4  Obsessive master thief, Neil McCauley leads a ...   \n",
       "\n",
       "                                             tagline  \\\n",
       "0                                                NaN   \n",
       "1          Roll the dice and unleash the excitement!   \n",
       "2  Still Yelling. Still Fighting. Still Ready for...   \n",
       "3  Just When His World Is Back To Normal... He's ...   \n",
       "4                           A Los Angeles Crime Saga   \n",
       "\n",
       "                             genres  \\\n",
       "0       [Animation, Comedy, Family]   \n",
       "1      [Adventure, Fantasy, Family]   \n",
       "2                 [Romance, Comedy]   \n",
       "3                          [Comedy]   \n",
       "4  [Action, Crime, Drama, Thriller]   \n",
       "\n",
       "                                            keywords  \\\n",
       "0  [{'id': 931, 'name': 'jealousy'}, {'id': 4290,...   \n",
       "1  [{'id': 10090, 'name': 'board game'}, {'id': 1...   \n",
       "2  [{'id': 1495, 'name': 'fishing'}, {'id': 12392...   \n",
       "3  [{'id': 1009, 'name': 'baby'}, {'id': 1599, 'n...   \n",
       "4  [{'id': 642, 'name': 'robbery'}, {'id': 703, '...   \n",
       "\n",
       "                                                cast  \n",
       "0  [{'cast_id': 14, 'character': 'Woody (voice)',...  \n",
       "1  [{'cast_id': 1, 'character': 'Alan Parrish', '...  \n",
       "2  [{'cast_id': 2, 'character': 'Max Goldman', 'c...  \n",
       "3  [{'cast_id': 1, 'character': 'George Banks', '...  \n",
       "4  [{'cast_id': 25, 'character': 'Lt. Vincent Han...  "
      ]
     },
     "execution_count": 73,
     "metadata": {},
     "output_type": "execute_result"
    }
   ],
   "source": [
    "#take a look at the df\n",
    "df.head()"
   ]
  },
  {
   "cell_type": "code",
   "execution_count": 74,
   "id": "e41228f9",
   "metadata": {},
   "outputs": [
    {
     "data": {
      "text/plain": [
       "0               Animation Comedy Family\n",
       "1              Adventure Fantasy Family\n",
       "2                        Romance Comedy\n",
       "3                                Comedy\n",
       "4           Action Crime Drama Thriller\n",
       "                     ...               \n",
       "9146                             Comedy\n",
       "9147                             Comedy\n",
       "9148          Action Adventure Thriller\n",
       "9149    Family Animation Romance Comedy\n",
       "9150                             Comedy\n",
       "Name: genres, Length: 9151, dtype: object"
      ]
     },
     "execution_count": 74,
     "metadata": {},
     "output_type": "execute_result"
    }
   ],
   "source": [
    "#genres is already in a list\n",
    "#to remove spaces in between genre types(eg: sci fi to scifi) and make it a string\n",
    "df['genres'] = df['genres'].apply(lambda x: ' '.join([i.replace(\" \",\"\") for i in x]))\n",
    "\n",
    "df['genres']"
   ]
  },
  {
   "cell_type": "code",
   "execution_count": 75,
   "id": "4eac4fc8",
   "metadata": {},
   "outputs": [],
   "source": [
    "#convert keywords from list of dictionary to a list of strings\n",
    "df['keywords'] = df['keywords'].fillna('[]').apply(ast.literal_eval).apply(lambda x: [i['name'] for i in x] if isinstance(x, list) else [])"
   ]
  },
  {
   "cell_type": "code",
   "execution_count": 76,
   "id": "5cdc9566",
   "metadata": {},
   "outputs": [],
   "source": [
    "#remove empty spaces and remove spaces in each keyword\n",
    "df['keywords'] = df['keywords'].apply(lambda x: ' '.join([i.replace(\" \",'') for i in x]))"
   ]
  },
  {
   "cell_type": "code",
   "execution_count": 77,
   "id": "c2bdfbed",
   "metadata": {},
   "outputs": [
    {
     "data": {
      "text/plain": [
       "0       jealousy toy boy friendship friends rivalry bo...\n",
       "1       boardgame disappearance basedonchildren'sbook ...\n",
       "2          fishing bestfriend duringcreditsstinger oldmen\n",
       "3       baby midlifecrisis confidence aging daughter m...\n",
       "4       robbery detective bank obsession chase shootin...\n",
       "                              ...                        \n",
       "9146                                                     \n",
       "9147                  nazis castle timetravel robespierre\n",
       "9148                                             suspense\n",
       "9149                             love teenager lgbt short\n",
       "9150                                       militaryschool\n",
       "Name: keywords, Length: 9151, dtype: object"
      ]
     },
     "execution_count": 77,
     "metadata": {},
     "output_type": "execute_result"
    }
   ],
   "source": [
    "df['keywords']"
   ]
  },
  {
   "cell_type": "code",
   "execution_count": 78,
   "id": "98d79905",
   "metadata": {},
   "outputs": [],
   "source": [
    "#convert cast from list of dictionary to a list of strings\n",
    "df['cast'] = df['cast'].fillna('[]').apply(ast.literal_eval).apply(lambda x: [i['name'] for i in x] if isinstance(x, list) else [])"
   ]
  },
  {
   "cell_type": "code",
   "execution_count": 79,
   "id": "d2b7b402",
   "metadata": {},
   "outputs": [],
   "source": [
    "#remove the expty spaces and remove spaces in each cast\n",
    "df['cast'] = df['cast'].apply(lambda x: ' '.join([i.replace(\" \",'') for i in x]))"
   ]
  },
  {
   "cell_type": "code",
   "execution_count": 80,
   "id": "fd10b0b6",
   "metadata": {},
   "outputs": [
    {
     "data": {
      "text/plain": [
       "0       TomHanks TimAllen DonRickles JimVarney Wallace...\n",
       "1       RobinWilliams JonathanHyde KirstenDunst Bradle...\n",
       "2       WalterMatthau JackLemmon Ann-Margret SophiaLor...\n",
       "3       SteveMartin DianeKeaton MartinShort KimberlyWi...\n",
       "4       AlPacino RobertDeNiro ValKilmer JonVoight TomS...\n",
       "                              ...                        \n",
       "9146    ChristianClavier AryAbittan ElsaZylberstein Cy...\n",
       "9147    JeanReno ChristianClavier FranckDubosc KarinVi...\n",
       "9148    ShaneVanDyke MarieWestbrook BruceDavison Brook...\n",
       "9149                                                     \n",
       "9150    HilaryDuff ChristyCarlsonRomano GaryCole Shawn...\n",
       "Name: cast, Length: 9151, dtype: object"
      ]
     },
     "execution_count": 80,
     "metadata": {},
     "output_type": "execute_result"
    }
   ],
   "source": [
    "df['cast']"
   ]
  },
  {
   "cell_type": "code",
   "execution_count": 81,
   "id": "5226de85",
   "metadata": {},
   "outputs": [],
   "source": [
    "#fill na with ' '\n",
    "df['tagline'] = df['tagline'].fillna(' ')"
   ]
  },
  {
   "cell_type": "code",
   "execution_count": 82,
   "id": "826f61aa",
   "metadata": {},
   "outputs": [
    {
     "data": {
      "text/plain": [
       "0"
      ]
     },
     "execution_count": 82,
     "metadata": {},
     "output_type": "execute_result"
    }
   ],
   "source": [
    "#check no null values\n",
    "df['tagline'].isnull().sum()"
   ]
  },
  {
   "cell_type": "code",
   "execution_count": 83,
   "id": "b6b2687c",
   "metadata": {},
   "outputs": [
    {
     "data": {
      "text/html": [
       "<div>\n",
       "<style scoped>\n",
       "    .dataframe tbody tr th:only-of-type {\n",
       "        vertical-align: middle;\n",
       "    }\n",
       "\n",
       "    .dataframe tbody tr th {\n",
       "        vertical-align: top;\n",
       "    }\n",
       "\n",
       "    .dataframe thead th {\n",
       "        text-align: right;\n",
       "    }\n",
       "</style>\n",
       "<table border=\"1\" class=\"dataframe\">\n",
       "  <thead>\n",
       "    <tr style=\"text-align: right;\">\n",
       "      <th></th>\n",
       "      <th>id</th>\n",
       "      <th>title</th>\n",
       "      <th>overview</th>\n",
       "      <th>tagline</th>\n",
       "      <th>genres</th>\n",
       "      <th>keywords</th>\n",
       "      <th>cast</th>\n",
       "    </tr>\n",
       "  </thead>\n",
       "  <tbody>\n",
       "    <tr>\n",
       "      <th>0</th>\n",
       "      <td>862</td>\n",
       "      <td>Toy Story</td>\n",
       "      <td>Led by Woody, Andy's toys live happily in his ...</td>\n",
       "      <td></td>\n",
       "      <td>Animation Comedy Family</td>\n",
       "      <td>jealousy toy boy friendship friends rivalry bo...</td>\n",
       "      <td>TomHanks TimAllen DonRickles JimVarney Wallace...</td>\n",
       "    </tr>\n",
       "    <tr>\n",
       "      <th>1</th>\n",
       "      <td>8844</td>\n",
       "      <td>Jumanji</td>\n",
       "      <td>When siblings Judy and Peter discover an encha...</td>\n",
       "      <td>Roll the dice and unleash the excitement!</td>\n",
       "      <td>Adventure Fantasy Family</td>\n",
       "      <td>boardgame disappearance basedonchildren'sbook ...</td>\n",
       "      <td>RobinWilliams JonathanHyde KirstenDunst Bradle...</td>\n",
       "    </tr>\n",
       "    <tr>\n",
       "      <th>2</th>\n",
       "      <td>15602</td>\n",
       "      <td>Grumpier Old Men</td>\n",
       "      <td>A family wedding reignites the ancient feud be...</td>\n",
       "      <td>Still Yelling. Still Fighting. Still Ready for...</td>\n",
       "      <td>Romance Comedy</td>\n",
       "      <td>fishing bestfriend duringcreditsstinger oldmen</td>\n",
       "      <td>WalterMatthau JackLemmon Ann-Margret SophiaLor...</td>\n",
       "    </tr>\n",
       "    <tr>\n",
       "      <th>3</th>\n",
       "      <td>11862</td>\n",
       "      <td>Father of the Bride Part II</td>\n",
       "      <td>Just when George Banks has recovered from his ...</td>\n",
       "      <td>Just When His World Is Back To Normal... He's ...</td>\n",
       "      <td>Comedy</td>\n",
       "      <td>baby midlifecrisis confidence aging daughter m...</td>\n",
       "      <td>SteveMartin DianeKeaton MartinShort KimberlyWi...</td>\n",
       "    </tr>\n",
       "    <tr>\n",
       "      <th>4</th>\n",
       "      <td>949</td>\n",
       "      <td>Heat</td>\n",
       "      <td>Obsessive master thief, Neil McCauley leads a ...</td>\n",
       "      <td>A Los Angeles Crime Saga</td>\n",
       "      <td>Action Crime Drama Thriller</td>\n",
       "      <td>robbery detective bank obsession chase shootin...</td>\n",
       "      <td>AlPacino RobertDeNiro ValKilmer JonVoight TomS...</td>\n",
       "    </tr>\n",
       "    <tr>\n",
       "      <th>...</th>\n",
       "      <td>...</td>\n",
       "      <td>...</td>\n",
       "      <td>...</td>\n",
       "      <td>...</td>\n",
       "      <td>...</td>\n",
       "      <td>...</td>\n",
       "      <td>...</td>\n",
       "    </tr>\n",
       "    <tr>\n",
       "      <th>9146</th>\n",
       "      <td>430365</td>\n",
       "      <td>With Open Arms</td>\n",
       "      <td>Jean-Étienne Fougerole is an intellectual bohe...</td>\n",
       "      <td>Thanks for the invitation!</td>\n",
       "      <td>Comedy</td>\n",
       "      <td></td>\n",
       "      <td>ChristianClavier AryAbittan ElsaZylberstein Cy...</td>\n",
       "    </tr>\n",
       "    <tr>\n",
       "      <th>9147</th>\n",
       "      <td>248705</td>\n",
       "      <td>The Visitors: Bastille Day</td>\n",
       "      <td>Stuck in the corridors of time, Godefroy de Mo...</td>\n",
       "      <td></td>\n",
       "      <td>Comedy</td>\n",
       "      <td>nazis castle timetravel robespierre</td>\n",
       "      <td>JeanReno ChristianClavier FranckDubosc KarinVi...</td>\n",
       "    </tr>\n",
       "    <tr>\n",
       "      <th>9148</th>\n",
       "      <td>44918</td>\n",
       "      <td>Titanic 2</td>\n",
       "      <td>On the 100th anniversary of the original voyag...</td>\n",
       "      <td>100 years later, lightning strikes twice</td>\n",
       "      <td>Action Adventure Thriller</td>\n",
       "      <td>suspense</td>\n",
       "      <td>ShaneVanDyke MarieWestbrook BruceDavison Brook...</td>\n",
       "    </tr>\n",
       "    <tr>\n",
       "      <th>9149</th>\n",
       "      <td>455661</td>\n",
       "      <td>In a Heartbeat</td>\n",
       "      <td>A closeted boy runs the risk of being outed by...</td>\n",
       "      <td>The Heart Wants What The Heart Wants</td>\n",
       "      <td>Family Animation Romance Comedy</td>\n",
       "      <td>love teenager lgbt short</td>\n",
       "      <td></td>\n",
       "    </tr>\n",
       "    <tr>\n",
       "      <th>9150</th>\n",
       "      <td>14008</td>\n",
       "      <td>Cadet Kelly</td>\n",
       "      <td>Hyperactive teenager Kelly is enrolled into a ...</td>\n",
       "      <td>Too Cool For The Rules!</td>\n",
       "      <td>Comedy</td>\n",
       "      <td>militaryschool</td>\n",
       "      <td>HilaryDuff ChristyCarlsonRomano GaryCole Shawn...</td>\n",
       "    </tr>\n",
       "  </tbody>\n",
       "</table>\n",
       "<p>9151 rows × 7 columns</p>\n",
       "</div>"
      ],
      "text/plain": [
       "          id                        title  \\\n",
       "0        862                    Toy Story   \n",
       "1       8844                      Jumanji   \n",
       "2      15602             Grumpier Old Men   \n",
       "3      11862  Father of the Bride Part II   \n",
       "4        949                         Heat   \n",
       "...      ...                          ...   \n",
       "9146  430365               With Open Arms   \n",
       "9147  248705   The Visitors: Bastille Day   \n",
       "9148   44918                    Titanic 2   \n",
       "9149  455661               In a Heartbeat   \n",
       "9150   14008                  Cadet Kelly   \n",
       "\n",
       "                                               overview  \\\n",
       "0     Led by Woody, Andy's toys live happily in his ...   \n",
       "1     When siblings Judy and Peter discover an encha...   \n",
       "2     A family wedding reignites the ancient feud be...   \n",
       "3     Just when George Banks has recovered from his ...   \n",
       "4     Obsessive master thief, Neil McCauley leads a ...   \n",
       "...                                                 ...   \n",
       "9146  Jean-Étienne Fougerole is an intellectual bohe...   \n",
       "9147  Stuck in the corridors of time, Godefroy de Mo...   \n",
       "9148  On the 100th anniversary of the original voyag...   \n",
       "9149  A closeted boy runs the risk of being outed by...   \n",
       "9150  Hyperactive teenager Kelly is enrolled into a ...   \n",
       "\n",
       "                                                tagline  \\\n",
       "0                                                         \n",
       "1             Roll the dice and unleash the excitement!   \n",
       "2     Still Yelling. Still Fighting. Still Ready for...   \n",
       "3     Just When His World Is Back To Normal... He's ...   \n",
       "4                              A Los Angeles Crime Saga   \n",
       "...                                                 ...   \n",
       "9146                         Thanks for the invitation!   \n",
       "9147                                                      \n",
       "9148           100 years later, lightning strikes twice   \n",
       "9149               The Heart Wants What The Heart Wants   \n",
       "9150                            Too Cool For The Rules!   \n",
       "\n",
       "                               genres  \\\n",
       "0             Animation Comedy Family   \n",
       "1            Adventure Fantasy Family   \n",
       "2                      Romance Comedy   \n",
       "3                              Comedy   \n",
       "4         Action Crime Drama Thriller   \n",
       "...                               ...   \n",
       "9146                           Comedy   \n",
       "9147                           Comedy   \n",
       "9148        Action Adventure Thriller   \n",
       "9149  Family Animation Romance Comedy   \n",
       "9150                           Comedy   \n",
       "\n",
       "                                               keywords  \\\n",
       "0     jealousy toy boy friendship friends rivalry bo...   \n",
       "1     boardgame disappearance basedonchildren'sbook ...   \n",
       "2        fishing bestfriend duringcreditsstinger oldmen   \n",
       "3     baby midlifecrisis confidence aging daughter m...   \n",
       "4     robbery detective bank obsession chase shootin...   \n",
       "...                                                 ...   \n",
       "9146                                                      \n",
       "9147                nazis castle timetravel robespierre   \n",
       "9148                                           suspense   \n",
       "9149                           love teenager lgbt short   \n",
       "9150                                     militaryschool   \n",
       "\n",
       "                                                   cast  \n",
       "0     TomHanks TimAllen DonRickles JimVarney Wallace...  \n",
       "1     RobinWilliams JonathanHyde KirstenDunst Bradle...  \n",
       "2     WalterMatthau JackLemmon Ann-Margret SophiaLor...  \n",
       "3     SteveMartin DianeKeaton MartinShort KimberlyWi...  \n",
       "4     AlPacino RobertDeNiro ValKilmer JonVoight TomS...  \n",
       "...                                                 ...  \n",
       "9146  ChristianClavier AryAbittan ElsaZylberstein Cy...  \n",
       "9147  JeanReno ChristianClavier FranckDubosc KarinVi...  \n",
       "9148  ShaneVanDyke MarieWestbrook BruceDavison Brook...  \n",
       "9149                                                     \n",
       "9150  HilaryDuff ChristyCarlsonRomano GaryCole Shawn...  \n",
       "\n",
       "[9151 rows x 7 columns]"
      ]
     },
     "execution_count": 83,
     "metadata": {},
     "output_type": "execute_result"
    }
   ],
   "source": [
    "#all columns are now ready to be merged\n",
    "df"
   ]
  },
  {
   "cell_type": "code",
   "execution_count": 84,
   "id": "ea834e95",
   "metadata": {},
   "outputs": [],
   "source": [
    "#we shall now merge all columns tgt into one column called 'tags'\n",
    "df['tags'] = df['overview'] + ' ' + df['tagline'] +  ' ' + df['genres'] +  ' ' + df['title'] + ' ' + df['keywords'] + ' ' + df['cast']"
   ]
  },
  {
   "cell_type": "code",
   "execution_count": 85,
   "id": "7e8bfb4b",
   "metadata": {},
   "outputs": [],
   "source": [
    "#remove all other columns\n",
    "df.drop(columns=['overview','tagline','genres','title','keywords','cast'], inplace=True)"
   ]
  },
  {
   "cell_type": "code",
   "execution_count": 86,
   "id": "638bd36b",
   "metadata": {},
   "outputs": [
    {
     "data": {
      "text/plain": [
       "id       0\n",
       "tags    36\n",
       "dtype: int64"
      ]
     },
     "execution_count": 86,
     "metadata": {},
     "output_type": "execute_result"
    }
   ],
   "source": [
    "#to remove the rows with null tags\n",
    "\n",
    "df.isnull().sum()"
   ]
  },
  {
   "cell_type": "code",
   "execution_count": 87,
   "id": "a5a89f59",
   "metadata": {},
   "outputs": [],
   "source": [
    "df.drop(df[df['tags'].isnull()].index, inplace=True)"
   ]
  },
  {
   "cell_type": "code",
   "execution_count": 88,
   "id": "eb7b004a",
   "metadata": {},
   "outputs": [
    {
     "data": {
      "text/plain": [
       "9"
      ]
     },
     "execution_count": 88,
     "metadata": {},
     "output_type": "execute_result"
    }
   ],
   "source": [
    "#to remove duplicate rows as well\n",
    "\n",
    "df.duplicated().sum()"
   ]
  },
  {
   "cell_type": "code",
   "execution_count": 89,
   "id": "c80a58d1",
   "metadata": {},
   "outputs": [],
   "source": [
    "df.drop_duplicates(inplace=True)"
   ]
  },
  {
   "cell_type": "code",
   "execution_count": 90,
   "id": "c1967fa0",
   "metadata": {},
   "outputs": [],
   "source": [
    "#reset index after all the dropping of null/duplicate rows\n",
    "df.reset_index(inplace=True, drop=True)"
   ]
  },
  {
   "cell_type": "code",
   "execution_count": 91,
   "id": "707b6cd6",
   "metadata": {},
   "outputs": [
    {
     "data": {
      "text/html": [
       "<div>\n",
       "<style scoped>\n",
       "    .dataframe tbody tr th:only-of-type {\n",
       "        vertical-align: middle;\n",
       "    }\n",
       "\n",
       "    .dataframe tbody tr th {\n",
       "        vertical-align: top;\n",
       "    }\n",
       "\n",
       "    .dataframe thead th {\n",
       "        text-align: right;\n",
       "    }\n",
       "</style>\n",
       "<table border=\"1\" class=\"dataframe\">\n",
       "  <thead>\n",
       "    <tr style=\"text-align: right;\">\n",
       "      <th></th>\n",
       "      <th>id</th>\n",
       "      <th>tags</th>\n",
       "    </tr>\n",
       "  </thead>\n",
       "  <tbody>\n",
       "    <tr>\n",
       "      <th>0</th>\n",
       "      <td>862</td>\n",
       "      <td>Led by Woody, Andy's toys live happily in his ...</td>\n",
       "    </tr>\n",
       "    <tr>\n",
       "      <th>1</th>\n",
       "      <td>8844</td>\n",
       "      <td>When siblings Judy and Peter discover an encha...</td>\n",
       "    </tr>\n",
       "    <tr>\n",
       "      <th>2</th>\n",
       "      <td>15602</td>\n",
       "      <td>A family wedding reignites the ancient feud be...</td>\n",
       "    </tr>\n",
       "    <tr>\n",
       "      <th>3</th>\n",
       "      <td>11862</td>\n",
       "      <td>Just when George Banks has recovered from his ...</td>\n",
       "    </tr>\n",
       "    <tr>\n",
       "      <th>4</th>\n",
       "      <td>949</td>\n",
       "      <td>Obsessive master thief, Neil McCauley leads a ...</td>\n",
       "    </tr>\n",
       "    <tr>\n",
       "      <th>...</th>\n",
       "      <td>...</td>\n",
       "      <td>...</td>\n",
       "    </tr>\n",
       "    <tr>\n",
       "      <th>9101</th>\n",
       "      <td>430365</td>\n",
       "      <td>Jean-Étienne Fougerole is an intellectual bohe...</td>\n",
       "    </tr>\n",
       "    <tr>\n",
       "      <th>9102</th>\n",
       "      <td>248705</td>\n",
       "      <td>Stuck in the corridors of time, Godefroy de Mo...</td>\n",
       "    </tr>\n",
       "    <tr>\n",
       "      <th>9103</th>\n",
       "      <td>44918</td>\n",
       "      <td>On the 100th anniversary of the original voyag...</td>\n",
       "    </tr>\n",
       "    <tr>\n",
       "      <th>9104</th>\n",
       "      <td>455661</td>\n",
       "      <td>A closeted boy runs the risk of being outed by...</td>\n",
       "    </tr>\n",
       "    <tr>\n",
       "      <th>9105</th>\n",
       "      <td>14008</td>\n",
       "      <td>Hyperactive teenager Kelly is enrolled into a ...</td>\n",
       "    </tr>\n",
       "  </tbody>\n",
       "</table>\n",
       "<p>9106 rows × 2 columns</p>\n",
       "</div>"
      ],
      "text/plain": [
       "          id                                               tags\n",
       "0        862  Led by Woody, Andy's toys live happily in his ...\n",
       "1       8844  When siblings Judy and Peter discover an encha...\n",
       "2      15602  A family wedding reignites the ancient feud be...\n",
       "3      11862  Just when George Banks has recovered from his ...\n",
       "4        949  Obsessive master thief, Neil McCauley leads a ...\n",
       "...      ...                                                ...\n",
       "9101  430365  Jean-Étienne Fougerole is an intellectual bohe...\n",
       "9102  248705  Stuck in the corridors of time, Godefroy de Mo...\n",
       "9103   44918  On the 100th anniversary of the original voyag...\n",
       "9104  455661  A closeted boy runs the risk of being outed by...\n",
       "9105   14008  Hyperactive teenager Kelly is enrolled into a ...\n",
       "\n",
       "[9106 rows x 2 columns]"
      ]
     },
     "execution_count": 91,
     "metadata": {},
     "output_type": "execute_result"
    }
   ],
   "source": [
    "df"
   ]
  },
  {
   "cell_type": "markdown",
   "id": "5fc8dd55",
   "metadata": {},
   "source": [
    "We will now do some cleaning on the words in the tags column."
   ]
  },
  {
   "cell_type": "code",
   "execution_count": 92,
   "id": "0187065e",
   "metadata": {},
   "outputs": [],
   "source": [
    "#drop spaces if there is two consecutive spaces \n",
    "#since empty list or null values were replaced with ' '\n",
    "\n",
    "df['tags']= df['tags'].apply(lambda x: \" \".join(x.split()))"
   ]
  },
  {
   "cell_type": "code",
   "execution_count": 93,
   "id": "d36db396",
   "metadata": {},
   "outputs": [],
   "source": [
    "#store character only if it is not a punctuation\n",
    "def remove_punctuations(text):\n",
    "    for punctuation in string.punctuation:\n",
    "        text = text.replace(punctuation, '')\n",
    "    return text\n",
    "\n",
    "df['tags']= df['tags'].apply(remove_punctuations)"
   ]
  },
  {
   "cell_type": "code",
   "execution_count": 94,
   "id": "7a310608",
   "metadata": {},
   "outputs": [],
   "source": [
    "#lowercase the letters in the words\n",
    "\n",
    "df['tags']= df['tags'].apply(lambda x: x.lower())"
   ]
  },
  {
   "cell_type": "code",
   "execution_count": 95,
   "id": "0deb18f3",
   "metadata": {},
   "outputs": [],
   "source": [
    "#create function to store character only if it is not a stopword and do lemmatizing\n",
    "#remove numbers with words, numbers, and words which are not in english\n",
    "\n",
    "def clean_text(text):\n",
    "    #define wn and stopword\n",
    "    wn = nltk.WordNetLemmatizer()\n",
    "    stopword = nltk.corpus.stopwords.words('english')\n",
    "\n",
    "    # \\W matches any non-word character (equivalent to [^a-zA-Z0-9_]). This does not include spaces i.e. \\s\n",
    "    # Add a + just in case there are 2 or more spaces between certain words\n",
    "    tokens = re.split('\\W+', text)\n",
    "    \n",
    "    # apply lemmatization and stopwords exclusion within the same step\n",
    "    text = \" \".join([wn.lemmatize(word) for word in tokens if word not in stopword])\n",
    "    \n",
    "    #remove numbers and word with numbers\n",
    "    text = \"\".join([re.sub('\\d+', \"\", word) for word in text])\n",
    "    \n",
    "    #remove words which are not in english\n",
    "    text = \"\".join([word for word in text if word.isascii() == True])\n",
    "    \n",
    "    return text\n",
    "\n",
    "#apply function to tags column\n",
    "df['tags']= df['tags'].apply(clean_text)"
   ]
  },
  {
   "cell_type": "code",
   "execution_count": 96,
   "id": "5f1113f5",
   "metadata": {},
   "outputs": [
    {
     "data": {
      "text/html": [
       "<div>\n",
       "<style scoped>\n",
       "    .dataframe tbody tr th:only-of-type {\n",
       "        vertical-align: middle;\n",
       "    }\n",
       "\n",
       "    .dataframe tbody tr th {\n",
       "        vertical-align: top;\n",
       "    }\n",
       "\n",
       "    .dataframe thead th {\n",
       "        text-align: right;\n",
       "    }\n",
       "</style>\n",
       "<table border=\"1\" class=\"dataframe\">\n",
       "  <thead>\n",
       "    <tr style=\"text-align: right;\">\n",
       "      <th></th>\n",
       "      <th>id</th>\n",
       "      <th>tags</th>\n",
       "    </tr>\n",
       "  </thead>\n",
       "  <tbody>\n",
       "    <tr>\n",
       "      <th>0</th>\n",
       "      <td>862</td>\n",
       "      <td>led woody andys toy live happily room andys bi...</td>\n",
       "    </tr>\n",
       "    <tr>\n",
       "      <th>1</th>\n",
       "      <td>8844</td>\n",
       "      <td>sibling judy peter discover enchanted board ga...</td>\n",
       "    </tr>\n",
       "    <tr>\n",
       "      <th>2</th>\n",
       "      <td>15602</td>\n",
       "      <td>family wedding reignites ancient feud nextdoor...</td>\n",
       "    </tr>\n",
       "    <tr>\n",
       "      <th>3</th>\n",
       "      <td>11862</td>\n",
       "      <td>george bank recovered daughter wedding receive...</td>\n",
       "    </tr>\n",
       "    <tr>\n",
       "      <th>4</th>\n",
       "      <td>949</td>\n",
       "      <td>obsessive master thief neil mccauley lead topn...</td>\n",
       "    </tr>\n",
       "    <tr>\n",
       "      <th>...</th>\n",
       "      <td>...</td>\n",
       "      <td>...</td>\n",
       "    </tr>\n",
       "    <tr>\n",
       "      <th>9101</th>\n",
       "      <td>430365</td>\n",
       "      <td>jeantienne fougerole intellectual bohemian rel...</td>\n",
       "    </tr>\n",
       "    <tr>\n",
       "      <th>9102</th>\n",
       "      <td>248705</td>\n",
       "      <td>stuck corridor time godefroy de montmirail fai...</td>\n",
       "    </tr>\n",
       "    <tr>\n",
       "      <th>9103</th>\n",
       "      <td>44918</td>\n",
       "      <td>th anniversary original voyage modern luxury l...</td>\n",
       "    </tr>\n",
       "    <tr>\n",
       "      <th>9104</th>\n",
       "      <td>455661</td>\n",
       "      <td>closeted boy run risk outed heart pop chest ch...</td>\n",
       "    </tr>\n",
       "    <tr>\n",
       "      <th>9105</th>\n",
       "      <td>14008</td>\n",
       "      <td>hyperactive teenager kelly enrolled military s...</td>\n",
       "    </tr>\n",
       "  </tbody>\n",
       "</table>\n",
       "<p>9106 rows × 2 columns</p>\n",
       "</div>"
      ],
      "text/plain": [
       "          id                                               tags\n",
       "0        862  led woody andys toy live happily room andys bi...\n",
       "1       8844  sibling judy peter discover enchanted board ga...\n",
       "2      15602  family wedding reignites ancient feud nextdoor...\n",
       "3      11862  george bank recovered daughter wedding receive...\n",
       "4        949  obsessive master thief neil mccauley lead topn...\n",
       "...      ...                                                ...\n",
       "9101  430365  jeantienne fougerole intellectual bohemian rel...\n",
       "9102  248705  stuck corridor time godefroy de montmirail fai...\n",
       "9103   44918  th anniversary original voyage modern luxury l...\n",
       "9104  455661  closeted boy run risk outed heart pop chest ch...\n",
       "9105   14008  hyperactive teenager kelly enrolled military s...\n",
       "\n",
       "[9106 rows x 2 columns]"
      ]
     },
     "execution_count": 96,
     "metadata": {},
     "output_type": "execute_result"
    }
   ],
   "source": [
    "df"
   ]
  },
  {
   "cell_type": "code",
   "execution_count": 97,
   "id": "97424f71",
   "metadata": {},
   "outputs": [
    {
     "data": {
      "text/plain": [
       "(9106, 2)"
      ]
     },
     "execution_count": 97,
     "metadata": {},
     "output_type": "execute_result"
    }
   ],
   "source": [
    "df.shape"
   ]
  },
  {
   "cell_type": "code",
   "execution_count": 98,
   "id": "4d9e8828",
   "metadata": {},
   "outputs": [],
   "source": [
    "#create function to gen shape after count vectorizer and plot top 20 words\n",
    "\n",
    "def count_vectorizer (n):\n",
    "    # Create an instance of CountVectorizer\n",
    "    count_vect = CountVectorizer(ngram_range=(n, n))\n",
    "\n",
    "    # X_counts stores the vectorized version of the data\n",
    "    X_counts = count_vect.fit_transform(df['tags'])\n",
    "\n",
    "    # Returns the number of rows and columns of X_counts\n",
    "    print(f'(number of rows, number of unique words/phrases): {X_counts.shape}')\n",
    "\n",
    "    # Due to the nature of sparse matrices where only non-zero elements are stored, \n",
    "    # we would need to expand it out to a collection of arrays and then store it in a data frame\n",
    "    X_counts_df = pd.DataFrame(X_counts.toarray())\n",
    "\n",
    "    #get features name over df\n",
    "    X_counts_df.columns = count_vect.get_feature_names()\n",
    "    \n",
    "    #get sum of each column\n",
    "    X_counts_df = X_counts_df.sum()\n",
    "    \n",
    "    #sort values\n",
    "    X_counts_df.sort_values(ascending = False, inplace = True)\n",
    "    \n",
    "    #put into a df\n",
    "    X_counts_df = X_counts_df.iloc[:20].to_frame()\n",
    "\n",
    "    # Plot the top 20 words in a bar chart\n",
    "    X_counts_bar = X_counts_df.plot(kind = 'bar', figsize = (12,8), fontsize = 10)\n",
    "\n",
    "    # Set the title, x & y labels and remove legend\n",
    "    X_counts_bar.set_title('Top 20 Unique Words', fontsize=15)\n",
    "    X_counts_bar.get_legend().remove()\n",
    "    X_counts_bar.set_ylabel('Count', fontsize=10)\n",
    "    X_counts_bar.set_xlabel('Words', fontsize=10)\n",
    "    plt.xticks(rotation=45);"
   ]
  },
  {
   "cell_type": "code",
   "execution_count": 99,
   "id": "c1ebb1ff",
   "metadata": {},
   "outputs": [
    {
     "name": "stdout",
     "output_type": "stream",
     "text": [
      "(number of rows, number of unique words/phrases): (9106, 128925)\n"
     ]
    },
    {
     "data": {
      "image/png": "[encoded data removed]",
      "text/plain": [
       "<Figure size 864x576 with 1 Axes>"
      ]
     },
     "metadata": {},
     "output_type": "display_data"
    }
   ],
   "source": [
    "count_vectorizer(1)"
   ]
  },
  {
   "cell_type": "markdown",
   "id": "30ea2dad",
   "metadata": {},
   "source": [
    "Top 3 words shows no surprise here. They are the top 3 genres of movie in our dataset. Other top 10 genres are also found in this chart, including action, romance, horror, crime, adventure. However, documentary and science fiction was not found in this chart. There are also a large number of movies based on the theme of life, family and love. We can see here that these genres and themes are the most common in movies."
   ]
  }
 ],
 "metadata": {
  "kernelspec": {
   "display_name": "Python 3 (ipykernel)",
   "language": "python",
   "name": "python3"
  },
  "language_info": {
   "codemirror_mode": {
    "name": "ipython",
    "version": 3
   },
   "file_extension": ".py",
   "mimetype": "text/x-python",
   "name": "python",
   "nbconvert_exporter": "python",
   "pygments_lexer": "ipython3",
   "version": "3.9.12"
  }
 },
 "nbformat": 4,
 "nbformat_minor": 5
}
