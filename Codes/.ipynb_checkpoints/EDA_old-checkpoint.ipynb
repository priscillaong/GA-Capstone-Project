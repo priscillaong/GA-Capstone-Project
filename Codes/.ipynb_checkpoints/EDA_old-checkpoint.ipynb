{
 "cells": [
  {
   "cell_type": "code",
   "execution_count": null,
   "id": "046da220",
   "metadata": {},
   "outputs": [],
   "source": [
    "#trainset = data.build_full_trainset()"
   ]
  },
  {
   "cell_type": "markdown",
   "id": "f54bec7d",
   "metadata": {},
   "source": [
    "# Data Dictionary"
   ]
  },
  {
   "cell_type": "markdown",
   "id": "9a8828fb",
   "metadata": {},
   "source": [
    "|Feature|Type|Dataset|Description|\n",
    "|---|---|---|---|\n",
    "|belongs_to_collection|object|movies_metadata.csv|Movie Series a movie belongs to|\n",
    "|budget|float|movies_metadata.csv|Budget of the movie in dollars|\n",
    "|genres|object|movies_metadata.csv|Genres associated with the movie|\n",
    "|id|integer|movies_metadata.csv|ID of movie|\n",
    "|original_language|object|movies_metadata.csv|Language which the movie was shot in|\n",
    "|overview|object|movies_metadata.csv|Brief Description of the movie|\n",
    "|popularity|float|movies_metadata.csv|Popularity score assigned by TMDB|\n",
    "|production_companies|object|movies_metadata.csv|Production Companies involved with making of the movie|\n",
    "|production_countries|object|movies_metadata.csv|Countries where the movie was shot/produced in|\n",
    "|release_date|object|movies_metadata.csv|Theatrical Release Date of the movie|\n",
    "|revenue|float|movies_metadata.csv|Total Revenue of the movie in dollars|\n",
    "|runtime|float|movies_metadata.csv|Runtime of the movie in minutes|\n",
    "|spoken_languages|object|movies_metadata.csv|Spoken Languages in the movie|\n",
    "|status|object|movies_metadata.csv|Status of the movie|\n",
    "|tagline|object|movies_metadata.csv|Tagline of the movie|\n",
    "|title|object|movies_metadata.csv|Official Title of the movie|\n",
    "|vote_average|float|movies_metadata.csv|Average Rating of the movie|\n",
    "|vote_count|float|movies_metadata.csv|Number of votes by users, as counted by TMDB|\n",
    "|release_year|object|movies_metadata.csv|Theatrical Release Year of the movie|\n",
    "|release_month|object|movies_metadata.csv|Theatrical Release Month of the movie|\n",
    "|release_weekday|object|movies_metadata.csv|Theatrical Release Weekday of the movie|\n",
    "|profit_loss|float|movies_metadata.csv|Revenue/Budget|"
   ]
  },
  {
   "cell_type": "code",
   "execution_count": 2,
   "id": "fd69df04",
   "metadata": {},
   "outputs": [],
   "source": [
    "#Import libraries\n",
    "import pandas as pd\n",
    "import numpy as np\n",
    "import ast\n",
    "import datetime\n",
    "from wordcloud import WordCloud, STOPWORDS\n",
    "import matplotlib.pyplot as plt\n",
    "import plotly.offline as py\n",
    "import seaborn as sns\n",
    "\n",
    "#Suppress Warnings\n",
    "import warnings\n",
    "warnings.filterwarnings('ignore')\n",
    "\n",
    "#Adjust the max columns displayed in the df\n",
    "pd.set_option(\"display.max_columns\", 25)"
   ]
  },
  {
   "cell_type": "code",
   "execution_count": 3,
   "id": "7464846d",
   "metadata": {},
   "outputs": [],
   "source": [
    "#Load data\n",
    "df = pd.read_csv('movies_metadata_clean.csv')"
   ]
  },
  {
   "cell_type": "markdown",
   "id": "878509e5",
   "metadata": {},
   "source": [
    "# EDA"
   ]
  },
  {
   "cell_type": "markdown",
   "id": "7c546e1a",
   "metadata": {},
   "source": [
    "## title, overview and tagline wordcloud"
   ]
  },
  {
   "cell_type": "code",
   "execution_count": 4,
   "id": "ec044cd2",
   "metadata": {},
   "outputs": [],
   "source": [
    "df['title'] = df['title'].astype('str')\n",
    "df['overview'] = df['overview'].astype('str')\n",
    "df['tagline'] = df['tagline'].astype('str')"
   ]
  },
  {
   "cell_type": "code",
   "execution_count": null,
   "id": "b4047e17",
   "metadata": {},
   "outputs": [],
   "source": [
    "title_corpus = ' '.join(df['title'])\n",
    "overview_corpus = ' '.join(df['overview'])\n",
    "tagline_corpus = ' '.join(df['tagline'])"
   ]
  },
  {
   "cell_type": "markdown",
   "id": "31280507",
   "metadata": {},
   "source": [
    "Most common words from movie titles are Love, Girl, Man which kinda shows that romance is probably a popular genre. Also, words like death, night, dead blood > probably for horror/thriller genre."
   ]
  },
  {
   "cell_type": "code",
   "execution_count": null,
   "id": "5c63aded",
   "metadata": {},
   "outputs": [],
   "source": [
    "title_wordcloud = WordCloud(stopwords=STOPWORDS, background_color='white', height=2000, width=4000).generate(title_corpus)\n",
    "plt.figure(figsize=(16,8))\n",
    "plt.imshow(title_wordcloud)\n",
    "plt.axis('off')\n",
    "plt.show()"
   ]
  },
  {
   "cell_type": "markdown",
   "id": "04226671",
   "metadata": {},
   "source": [
    "themes and genres of movies are shown more clearly here. theme revolving life, love, family, world"
   ]
  },
  {
   "cell_type": "code",
   "execution_count": null,
   "id": "d9f016cc",
   "metadata": {},
   "outputs": [],
   "source": [
    "overview_wordcloud = WordCloud(stopwords=STOPWORDS, background_color='white', height=2000, width=4000).generate(overview_corpus)\n",
    "plt.figure(figsize=(16,8))\n",
    "plt.imshow(overview_wordcloud)\n",
    "plt.axis('off')\n",
    "plt.show()"
   ]
  },
  {
   "cell_type": "markdown",
   "id": "e3728cb8",
   "metadata": {},
   "source": [
    "tagline wordcloud - "
   ]
  },
  {
   "cell_type": "code",
   "execution_count": null,
   "id": "79be9f89",
   "metadata": {},
   "outputs": [],
   "source": [
    "tagline_wordcloud = WordCloud(stopwords=STOPWORDS, background_color='white', height=2000, width=4000).generate(tagline_corpus)\n",
    "plt.figure(figsize=(16,8))\n",
    "plt.imshow(tagline_wordcloud)\n",
    "plt.axis('off')\n",
    "plt.show()"
   ]
  },
  {
   "cell_type": "markdown",
   "id": "b6903c30",
   "metadata": {},
   "source": [
    "Production countries - most popular locations to shoot movies"
   ]
  },
  {
   "cell_type": "code",
   "execution_count": null,
   "id": "cda01c0c",
   "metadata": {},
   "outputs": [],
   "source": [
    "#to extract the production countries from list of dictionaries to a readable column in the df\n",
    "\n",
    "df[\"production_countries\"]"
   ]
  },
  {
   "cell_type": "code",
   "execution_count": null,
   "id": "f222bac1",
   "metadata": {},
   "outputs": [],
   "source": [
    "countries_df = df\n",
    "\n",
    "#fill null values with empty list []\n",
    "#string(object type for production_countries) which contains dictionaries. ast.literal_eval evaluates the string and output as dictionary\n",
    "countries_df['production_countries'] = df['production_countries'].fillna('[]').apply(ast.literal_eval)\n",
    "\n",
    "#extract the country name from the dictionary list\n",
    "countries_df['production_countries'] = countries_df['production_countries'].apply(lambda x: i['name'] for i in x if isinstance(x, list) else np.nan)"
   ]
  },
  {
   "cell_type": "code",
   "execution_count": null,
   "id": "a14af1f1",
   "metadata": {},
   "outputs": [],
   "source": [
    "countries_df['production_countries']"
   ]
  },
  {
   "cell_type": "code",
   "execution_count": null,
   "id": "2163683c",
   "metadata": {},
   "outputs": [],
   "source": [
    "countries = countries_df.apply(lambda x: pd.Series(x['production_countries']),axis=1).stack().reset_index(level=1, drop=True)\n",
    "countries.name = 'countries'"
   ]
  },
  {
   "cell_type": "code",
   "execution_count": null,
   "id": "11ce9042",
   "metadata": {},
   "outputs": [],
   "source": [
    "countries"
   ]
  },
  {
   "cell_type": "code",
   "execution_count": null,
   "id": "4a08b854",
   "metadata": {},
   "outputs": [],
   "source": [
    "countries_df = countries_df.drop('production_countries', axis=1).join(countries)\n",
    "countries_df = pd.DataFrame(countries_df['countries'].value_counts())\n",
    "countries_df['country'] = countries_df.index\n",
    "countries_df.columns = ['num_movies', 'country']\n",
    "countries_df = countries_df.reset_index().drop('index', axis=1)\n",
    "countries_df.head(10)"
   ]
  },
  {
   "cell_type": "markdown",
   "id": "70ac32d8",
   "metadata": {},
   "source": [
    "popular fliming location include US, Europe, Canada. Japan and India falls in top 10 for list of Asia countries"
   ]
  },
  {
   "cell_type": "code",
   "execution_count": null,
   "id": "ef21c35d",
   "metadata": {},
   "outputs": [],
   "source": [
    "data = [ dict(\n",
    "        type = 'choropleth',\n",
    "        locations = countries_df['country'],\n",
    "        locationmode = 'country names',\n",
    "        z = countries_df['num_movies'],\n",
    "        text = countries_df['country'],\n",
    "        colorscale = [[0,'rgb(255, 255, 255)'],[1,'rgb(0, 0, 255)']],\n",
    "        autocolorscale = False,\n",
    "        reversescale = False,\n",
    "        marker = dict(\n",
    "            line = dict (\n",
    "                color = 'rgb(180,180,180)',\n",
    "                width = 0.5\n",
    "            ) ),\n",
    "        colorbar = dict(\n",
    "            autotick = False,\n",
    "            tickprefix = '',\n",
    "            title = 'Count'),\n",
    "      ) ]\n",
    "\n",
    "layout = dict(\n",
    "    title = 'Production Countries for the TMDB Movies',\n",
    "    geo = dict(\n",
    "        showframe = False,\n",
    "        showcoastlines = False,\n",
    "        projection = dict(\n",
    "            type = 'Mercator'\n",
    "        )\n",
    "    )\n",
    ")\n",
    "\n",
    "fig = dict( data=data, layout=layout )\n",
    "py.iplot( fig, validate=False, filename='d3-world-map' )"
   ]
  },
  {
   "cell_type": "markdown",
   "id": "a2236f4b",
   "metadata": {},
   "source": [
    "franchise movie"
   ]
  },
  {
   "cell_type": "code",
   "execution_count": null,
   "id": "ffffac5d",
   "metadata": {},
   "outputs": [],
   "source": [
    "df['belongs_to_collection']"
   ]
  },
  {
   "cell_type": "code",
   "execution_count": null,
   "id": "29cd1ebe",
   "metadata": {},
   "outputs": [],
   "source": [
    "franchise_df = df[df['belongs_to_collection'].notnull()]\n",
    "franchise_df['belongs_to_collection'] = franchise_df['belongs_to_collection'].apply(ast.literal_eval).apply(lambda x: x['name'] if isinstance(x, dict) else np.nan)\n",
    "franchise_df = franchise_df[franchise_df['belongs_to_collection'].notnull()]"
   ]
  },
  {
   "cell_type": "code",
   "execution_count": null,
   "id": "2ed4791d",
   "metadata": {},
   "outputs": [],
   "source": [
    "franchise_pivot = franchise_df.pivot_table(index='belongs_to_collection', values='revenue', aggfunc={'revenue': ['mean', 'sum', 'count']}).reset_index()"
   ]
  },
  {
   "cell_type": "code",
   "execution_count": null,
   "id": "62e8eacd",
   "metadata": {},
   "outputs": [],
   "source": [
    "franchise_pivot.sort_values('sum', ascending=False).head(10)"
   ]
  },
  {
   "cell_type": "code",
   "execution_count": null,
   "id": "b1fcbe94",
   "metadata": {},
   "outputs": [],
   "source": [
    "franchise_pivot.sort_values('mean', ascending=False).head(10)"
   ]
  },
  {
   "cell_type": "code",
   "execution_count": null,
   "id": "f555ffbe",
   "metadata": {},
   "outputs": [],
   "source": [
    "franchise_pivot.sort_values('count', ascending=False).head(10)"
   ]
  },
  {
   "cell_type": "markdown",
   "id": "8330bc1f",
   "metadata": {},
   "source": [
    "Production companies"
   ]
  },
  {
   "cell_type": "code",
   "execution_count": null,
   "id": "4a3c3be2",
   "metadata": {},
   "outputs": [],
   "source": [
    "companies_df = df\n",
    "\n",
    "companies_df['production_companies'] = df['production_companies'].fillna('[]').apply(ast.literal_eval)\n",
    "companies_df['production_companies'] = companies_df['production_companies'].apply(lambda x: [i['name'] for i in x] if isinstance(x, list) else [])"
   ]
  },
  {
   "cell_type": "code",
   "execution_count": null,
   "id": "f86b8fb5",
   "metadata": {},
   "outputs": [],
   "source": [
    "companies = companies_df.apply(lambda x: pd.Series(x['production_companies']),axis=1).stack().reset_index(level=1, drop=True)\n",
    "companies.name = 'companies'"
   ]
  },
  {
   "cell_type": "code",
   "execution_count": null,
   "id": "5597a8ac",
   "metadata": {},
   "outputs": [],
   "source": [
    "companies_df = companies_df.drop('production_companies', axis=1).join(companies)"
   ]
  },
  {
   "cell_type": "code",
   "execution_count": null,
   "id": "fe2ca8dd",
   "metadata": {},
   "outputs": [],
   "source": [
    "companies_sum = pd.DataFrame(companies_df.groupby('companies')['revenue'].sum().sort_values(ascending=False))\n",
    "companies_sum.columns = ['Total']\n",
    "companies_mean = pd.DataFrame(companies_df.groupby('companies')['revenue'].mean().sort_values(ascending=False))\n",
    "companies_mean.columns = ['Average']\n",
    "companies_count = pd.DataFrame(companies_df.groupby('companies')['revenue'].count().sort_values(ascending=False))\n",
    "companies_count.columns = ['Number']\n",
    "\n",
    "companies_pivot = pd.concat((companies_sum, companies_mean, companies_count), axis=1)"
   ]
  },
  {
   "cell_type": "code",
   "execution_count": null,
   "id": "4fce5559",
   "metadata": {},
   "outputs": [],
   "source": [
    "#highest earning production company"
   ]
  },
  {
   "cell_type": "code",
   "execution_count": null,
   "id": "2a904a52",
   "metadata": {},
   "outputs": [],
   "source": [
    "companies_pivot.sort_values('Total', ascending=False).head(10)"
   ]
  },
  {
   "cell_type": "markdown",
   "id": "6d7e05c5",
   "metadata": {},
   "source": [
    "original language"
   ]
  },
  {
   "cell_type": "code",
   "execution_count": null,
   "id": "7348e040",
   "metadata": {},
   "outputs": [],
   "source": [
    "#all languages\n",
    "\n",
    "df['original_language'].unique()"
   ]
  },
  {
   "cell_type": "code",
   "execution_count": null,
   "id": "e3fdb36e",
   "metadata": {},
   "outputs": [],
   "source": [
    "#90 unique languages\n",
    "\n",
    "len(df['original_language'].unique())"
   ]
  },
  {
   "cell_type": "markdown",
   "id": "9f19e840",
   "metadata": {},
   "source": [
    "English obviously the top language"
   ]
  },
  {
   "cell_type": "code",
   "execution_count": null,
   "id": "f3ba7875",
   "metadata": {},
   "outputs": [],
   "source": [
    "language_df = pd.DataFrame(df['original_language'].value_counts())\n",
    "language_df['language'] = language_df.index\n",
    "language_df.columns = ['number', 'language']\n",
    "language_df.head()"
   ]
  },
  {
   "cell_type": "markdown",
   "id": "8861f35c",
   "metadata": {},
   "source": [
    "Take a look at the other top languages - france, italy. japan and hindi top asian languages"
   ]
  },
  {
   "cell_type": "code",
   "execution_count": null,
   "id": "507f9235",
   "metadata": {},
   "outputs": [],
   "source": [
    "plt.figure(figsize=(12,5))\n",
    "sns.barplot(x='language', y='number', data=language_df.iloc[1:11])\n",
    "plt.show()"
   ]
  },
  {
   "cell_type": "markdown",
   "id": "598565e0",
   "metadata": {},
   "source": [
    "popularity"
   ]
  },
  {
   "cell_type": "code",
   "execution_count": null,
   "id": "01c36fd2",
   "metadata": {},
   "outputs": [],
   "source": [
    "df[['title', 'popularity', 'release_year']].sort_values('popularity', ascending=False).head(10)"
   ]
  },
  {
   "cell_type": "code",
   "execution_count": null,
   "id": "3601dd5d",
   "metadata": {},
   "outputs": [],
   "source": [
    "#positively skewed\n",
    "\n",
    "df['popularity'].describe()"
   ]
  },
  {
   "cell_type": "code",
   "execution_count": null,
   "id": "14e0cbed",
   "metadata": {},
   "outputs": [],
   "source": [
    "#vote count only 1. To include filter condition for vote_count\n",
    "\n",
    "df[['title', 'vote_average', 'vote_count' ,'release_year']].sort_values('vote_average', ascending=False).head(10)"
   ]
  },
  {
   "cell_type": "code",
   "execution_count": null,
   "id": "3bc0f3d5",
   "metadata": {},
   "outputs": [],
   "source": [
    "#majority of # of votes is less than 50\n",
    "\n",
    "df['vote_count'].describe()"
   ]
  },
  {
   "cell_type": "code",
   "execution_count": null,
   "id": "d595191f",
   "metadata": {},
   "outputs": [],
   "source": [
    "df[df['vote_count'] > 2000][['title', 'vote_average', 'vote_count' ,'release_year']].sort_values('vote_average', ascending=False).head(10)"
   ]
  },
  {
   "cell_type": "code",
   "execution_count": null,
   "id": "8ca0f65c",
   "metadata": {},
   "outputs": [],
   "source": [
    "df['vote_average'].describe()"
   ]
  },
  {
   "cell_type": "code",
   "execution_count": null,
   "id": "55c98dc4",
   "metadata": {},
   "outputs": [],
   "source": [
    "#large % with rating of 6\n",
    "sns.distplot(df['vote_average'])"
   ]
  },
  {
   "cell_type": "code",
   "execution_count": null,
   "id": "e4f5c6f1",
   "metadata": {},
   "outputs": [],
   "source": [
    "sns.distplot(df['popularity'])"
   ]
  },
  {
   "cell_type": "code",
   "execution_count": null,
   "id": "1453ec8c",
   "metadata": {},
   "outputs": [],
   "source": [
    "sns.distplot(df['vote_count'])"
   ]
  },
  {
   "cell_type": "code",
   "execution_count": null,
   "id": "6273a6cd",
   "metadata": {},
   "outputs": [],
   "source": [
    "df['spoken_languages']"
   ]
  },
  {
   "cell_type": "code",
   "execution_count": null,
   "id": "76761d45",
   "metadata": {},
   "outputs": [],
   "source": [
    "spoken_languages_df = df\n",
    "\n",
    "#fill null values with empty list []\n",
    "#string(object type for production_countries) which contains dictionaries. ast.literal_eval evaluates the string and output as dictionary\n",
    "spoken_languages_df['spoken_languages'] = df['spoken_languages'].fillna('[]').apply(ast.literal_eval)\n",
    "\n",
    "#extract the country name from the dictionary list\n",
    "spoken_languages_df['spoken_languages'] = spoken_languages_df['spoken_languages'].apply(lambda x: [i['name'] for i in x] if isinstance(x, list) else [])"
   ]
  },
  {
   "cell_type": "code",
   "execution_count": null,
   "id": "4225570f",
   "metadata": {},
   "outputs": [],
   "source": [
    "spoken_languages_df['spoken_languages']"
   ]
  },
  {
   "cell_type": "code",
   "execution_count": null,
   "id": "44d3b351",
   "metadata": {},
   "outputs": [],
   "source": [
    "spoken_languages_df['number_of_spoken_languages'] = spoken_languages_df['spoken_languages'].apply(lambda x: len(x))"
   ]
  },
  {
   "cell_type": "code",
   "execution_count": null,
   "id": "4d60e6bb",
   "metadata": {},
   "outputs": [],
   "source": [
    "spoken_languages_df['number_of_spoken_languages']"
   ]
  },
  {
   "cell_type": "code",
   "execution_count": null,
   "id": "c9770844",
   "metadata": {},
   "outputs": [],
   "source": [
    "spoken_languages_df['number_of_spoken_languages'].describe()"
   ]
  },
  {
   "cell_type": "code",
   "execution_count": null,
   "id": "7fe8d2b8",
   "metadata": {},
   "outputs": [],
   "source": [
    "#mostly one language\n",
    "\n",
    "sns.distplot(spoken_languages_df['number_of_spoken_languages'])"
   ]
  },
  {
   "cell_type": "code",
   "execution_count": null,
   "id": "673ea3a2",
   "metadata": {},
   "outputs": [],
   "source": [
    "spoken_languages_df['number_of_spoken_languages'].value_counts()"
   ]
  },
  {
   "cell_type": "code",
   "execution_count": null,
   "id": "950a3d0c",
   "metadata": {},
   "outputs": [],
   "source": [
    "#look at languages > 10\n",
    "\n",
    "spoken_languages_df[spoken_languages_df['number_of_spoken_languages'] >= 10][['title', 'release_year', 'number_of_spoken_languages']].sort_values('number_of_spoken_languages', ascending=False)"
   ]
  },
  {
   "cell_type": "markdown",
   "id": "a939f2ef",
   "metadata": {},
   "source": [
    "Vision of Europe - 25 short films by 25 european directors - more spoken languages"
   ]
  },
  {
   "cell_type": "markdown",
   "id": "fb52d218",
   "metadata": {},
   "source": [
    "Status"
   ]
  },
  {
   "cell_type": "code",
   "execution_count": null,
   "id": "94b3754c",
   "metadata": {},
   "outputs": [],
   "source": [
    "#most movies were released\n",
    "\n",
    "df['status'].value_counts()"
   ]
  },
  {
   "cell_type": "markdown",
   "id": "933455bb",
   "metadata": {},
   "source": [
    "runtime"
   ]
  },
  {
   "cell_type": "code",
   "execution_count": null,
   "id": "9e75e112",
   "metadata": {},
   "outputs": [],
   "source": [
    "df['runtime'].describe()"
   ]
  },
  {
   "cell_type": "code",
   "execution_count": null,
   "id": "8322b652",
   "metadata": {},
   "outputs": [],
   "source": [
    "#most movies less than 200 mins\n",
    "\n",
    "sns.distplot(df['runtime'])"
   ]
  },
  {
   "cell_type": "code",
   "execution_count": null,
   "id": "bf98af32",
   "metadata": {},
   "outputs": [],
   "source": [
    "#most movies between 90-100 mins\n",
    "\n",
    "plt.figure(figsize=(12,6))\n",
    "sns.distplot(df[(df['runtime'] < 200) & (df['runtime'] > 0)]['runtime'])"
   ]
  },
  {
   "cell_type": "code",
   "execution_count": null,
   "id": "961d03c2",
   "metadata": {},
   "outputs": [],
   "source": [
    "df[df['runtime'] > 0][['runtime', 'title', 'release_year']].sort_values('runtime', ascending=False).head(10)"
   ]
  },
  {
   "cell_type": "markdown",
   "id": "ab77c4ac",
   "metadata": {},
   "source": [
    "runtime is due to the fact that some of these 'movies' are mini-series instead."
   ]
  },
  {
   "cell_type": "markdown",
   "id": "991b4557",
   "metadata": {},
   "source": [
    "genres"
   ]
  },
  {
   "cell_type": "code",
   "execution_count": null,
   "id": "11c77093",
   "metadata": {},
   "outputs": [],
   "source": [
    "genres_df = df\n",
    "\n",
    "genres_df['genres'] = df['genres'].fillna('[]').apply(ast.literal_eval).apply(lambda x: [i['name'] for i in x] if isinstance(x, list) else [])"
   ]
  },
  {
   "cell_type": "code",
   "execution_count": null,
   "id": "be58d6f2",
   "metadata": {},
   "outputs": [],
   "source": [
    "genres = df.apply(lambda x: pd.Series(x['genres']),axis=1).stack().reset_index(level=1, drop=True)\n",
    "genres.name = 'genre'"
   ]
  },
  {
   "cell_type": "code",
   "execution_count": null,
   "id": "43c4c04d",
   "metadata": {},
   "outputs": [],
   "source": [
    "genres_df = genres_df.drop('genres', axis=1).join(genres)"
   ]
  },
  {
   "cell_type": "code",
   "execution_count": null,
   "id": "112554cd",
   "metadata": {},
   "outputs": [],
   "source": [
    "genres_df['genre'].value_counts()"
   ]
  },
  {
   "cell_type": "code",
   "execution_count": null,
   "id": "b47db8a9",
   "metadata": {},
   "outputs": [],
   "source": [
    "len(genres_df['genre'].value_counts())"
   ]
  },
  {
   "cell_type": "code",
   "execution_count": null,
   "id": "0ffb1e2a",
   "metadata": {},
   "outputs": [],
   "source": [
    "genre_count = pd.DataFrame(genres_df['genre'].value_counts()).reset_index()\n",
    "genre_count.columns = ['genre', 'count']\n",
    "genre_count.head(10)"
   ]
  },
  {
   "cell_type": "code",
   "execution_count": null,
   "id": "d5f06d71",
   "metadata": {},
   "outputs": [],
   "source": [
    "plt.figure(figsize=(18,8))\n",
    "sns.barplot(x='genre', y='count', data=genre_count.head(10))\n",
    "plt.show()"
   ]
  },
  {
   "cell_type": "markdown",
   "id": "b68fecb7",
   "metadata": {},
   "source": [
    "how have genre changes across the years?"
   ]
  },
  {
   "cell_type": "code",
   "execution_count": null,
   "id": "d0e973b2",
   "metadata": {},
   "outputs": [],
   "source": [
    "genre_of_movie = ['Drama', 'Comedy', 'Thriller', 'Romance', 'Action', 'Horror', 'Crime', 'Documentary', 'Adventure', 'Science Fiction']"
   ]
  },
  {
   "cell_type": "code",
   "execution_count": null,
   "id": "d410bf4b",
   "metadata": {},
   "outputs": [],
   "source": [
    "def clean_numeric(x):\n",
    "    try:\n",
    "        return float(x)\n",
    "    except:\n",
    "        return np.nan"
   ]
  },
  {
   "cell_type": "code",
   "execution_count": null,
   "id": "85dac2be",
   "metadata": {},
   "outputs": [],
   "source": [
    "genres_df['release_year'] = genres_df['release_year'].apply(clean_numeric).astype('float')"
   ]
  },
  {
   "cell_type": "code",
   "execution_count": null,
   "id": "b8f806f0",
   "metadata": {},
   "outputs": [],
   "source": [
    "pop_gen_movies = genres_df[(genres_df['genre'].isin(genre_of_movie)) & (genres_df['release_year'] >= 2000) & (genres_df['release_year'] <= 2017)]\n",
    "ctab = pd.crosstab([pop_gen_movies['release_year']], pop_gen_movies['genre']).apply(lambda x: x/x.sum(), axis=1)"
   ]
  },
  {
   "cell_type": "code",
   "execution_count": null,
   "id": "b2395bbf",
   "metadata": {},
   "outputs": [],
   "source": [
    "ctab[genre_of_movie].plot(kind='line', stacked=False, colormap='jet', figsize=(12,8)).legend(loc='center left', bbox_to_anchor=(1, 0.5))\n",
    "plt.show()"
   ]
  },
  {
   "cell_type": "markdown",
   "id": "ee9c90fd",
   "metadata": {},
   "source": [
    "genre and revenue"
   ]
  },
  {
   "cell_type": "code",
   "execution_count": null,
   "id": "395bdee4",
   "metadata": {},
   "outputs": [],
   "source": [
    "genres_df['revenue'].describe()"
   ]
  },
  {
   "cell_type": "markdown",
   "id": "cc07c500",
   "metadata": {},
   "source": [
    "top 10 genres against revenue"
   ]
  },
  {
   "cell_type": "code",
   "execution_count": null,
   "id": "fd1da1dc",
   "metadata": {},
   "outputs": [],
   "source": [
    "movies_genres = genres_df[(genres_df['genre'].isin(genre_of_movie))]"
   ]
  },
  {
   "cell_type": "code",
   "execution_count": null,
   "id": "1cdfbfaa",
   "metadata": {},
   "outputs": [],
   "source": [
    "plt.figure(figsize=(18,8))\n",
    "fig, ax = plt.subplots(nrows=1, ncols=1,figsize=(15, 8))\n",
    "sns.boxplot(x='genre', y='revenue', data=movies_genres, palette=\"muted\", ax =ax)\n",
    "ax.set_ylim([0, 3e8])\n",
    "plt.show()"
   ]
  },
  {
   "cell_type": "markdown",
   "id": "889a32a0",
   "metadata": {},
   "source": [
    "release_month"
   ]
  },
  {
   "cell_type": "code",
   "execution_count": null,
   "id": "36dd6827",
   "metadata": {},
   "outputs": [],
   "source": [
    "plt.figure(figsize=(12,6))\n",
    "plt.title(\"Number of Movies released in a particular month.\")\n",
    "sns.countplot(x='release_month', data=df, order=month_order)"
   ]
  },
  {
   "cell_type": "code",
   "execution_count": null,
   "id": "8b9260a2",
   "metadata": {},
   "outputs": [],
   "source": [
    "fig, ax = plt.subplots(nrows=1, ncols=1,figsize=(15, 8))\n",
    "sns.boxplot(x='release_month', y='revenue', data=df[df['revenue'].notnull()], palette=\"muted\", ax =ax, order=month_order)\n",
    "ax.set_ylim([0, 3e8])"
   ]
  },
  {
   "cell_type": "markdown",
   "id": "e6cf2678",
   "metadata": {},
   "source": [
    "release_day"
   ]
  },
  {
   "cell_type": "code",
   "execution_count": null,
   "id": "1641c5e8",
   "metadata": {},
   "outputs": [],
   "source": [
    "plt.figure(figsize=(10,5))\n",
    "plt.title(\"Number of Movies released on a particular day.\")\n",
    "sns.countplot(x='release_day', data=df, order=day_order)"
   ]
  },
  {
   "cell_type": "markdown",
   "id": "04744e4a",
   "metadata": {},
   "source": [
    "release_year"
   ]
  },
  {
   "cell_type": "code",
   "execution_count": null,
   "id": "a3251e07",
   "metadata": {},
   "outputs": [],
   "source": [
    "year_count = df.groupby('release_year')['title'].count()\n",
    "plt.figure(figsize=(18,5))\n",
    "year_count.plot()"
   ]
  },
  {
   "cell_type": "markdown",
   "id": "55c6da96",
   "metadata": {},
   "source": [
    "budget"
   ]
  },
  {
   "cell_type": "code",
   "execution_count": null,
   "id": "c752ac68",
   "metadata": {},
   "outputs": [],
   "source": [
    "df['budget'].describe()"
   ]
  },
  {
   "cell_type": "code",
   "execution_count": null,
   "id": "f50c72f4",
   "metadata": {},
   "outputs": [],
   "source": [
    "sns.distplot(df[df['budget'].notnull()]['budget'])"
   ]
  },
  {
   "cell_type": "code",
   "execution_count": null,
   "id": "cb301e75",
   "metadata": {},
   "outputs": [],
   "source": [
    "df[df['budget'].notnull()][['title', 'budget', 'revenue', 'profit_loss', 'release_year']].sort_values('budget', ascending=False).head(10)"
   ]
  },
  {
   "cell_type": "markdown",
   "id": "6337b483",
   "metadata": {},
   "source": [
    "revenue"
   ]
  },
  {
   "cell_type": "code",
   "execution_count": null,
   "id": "1dc55a70",
   "metadata": {},
   "outputs": [],
   "source": [
    "df['revenue'].describe()"
   ]
  },
  {
   "cell_type": "code",
   "execution_count": null,
   "id": "d4f268b3",
   "metadata": {},
   "outputs": [],
   "source": [
    "sns.distplot(df[df['revenue'].notnull()]['revenue'])"
   ]
  },
  {
   "cell_type": "code",
   "execution_count": null,
   "id": "7eafd56a",
   "metadata": {},
   "outputs": [],
   "source": [
    "gross_top = df[['title', 'budget', 'revenue', 'release_year']].sort_values('revenue', ascending=False).head(10)"
   ]
  },
  {
   "cell_type": "code",
   "execution_count": null,
   "id": "5576367c",
   "metadata": {},
   "outputs": [],
   "source": [
    "def clean_numeric(x):\n",
    "    try:\n",
    "        return float(x)\n",
    "    except:\n",
    "        return np.nan\n",
    "\n",
    "df['release_year'] = df['release_year'].apply(clean_numeric).astype('float')"
   ]
  },
  {
   "cell_type": "code",
   "execution_count": null,
   "id": "9bad37dc",
   "metadata": {},
   "outputs": [],
   "source": [
    "#max revenue throughout the years - to adjust for inflation\n",
    "\n",
    "plt.figure(figsize=(18,5))\n",
    "year_revenue = df[(df['revenue'].notnull()) & (df['release_year'] != 'NaT')].groupby('release_year')['revenue'].max()\n",
    "plt.plot(year_revenue.index, year_revenue)\n",
    "plt.xticks(np.arange(1900, 2018, 10.0))\n",
    "plt.show()"
   ]
  },
  {
   "cell_type": "code",
   "execution_count": null,
   "id": "26d11479",
   "metadata": {},
   "outputs": [],
   "source": [
    "#most successful movies\n",
    "\n",
    "df[(df['profit_loss'].notnull()) & (df['budget'] > 5e6)][['title', 'budget', 'revenue', 'profit_loss', 'release_year']].sort_values('profit_loss', ascending=False).head(10)"
   ]
  },
  {
   "cell_type": "code",
   "execution_count": null,
   "id": "48842725",
   "metadata": {},
   "outputs": [],
   "source": [
    "#worst movies\n",
    "\n",
    "df[(df['profit_loss'].notnull()) & (df['budget'] > 5e6) & (df['revenue'] > 10000)][['title', 'budget', 'revenue', 'profit_loss', 'release_year']].sort_values('profit_loss').head(10)"
   ]
  }
 ],
 "metadata": {
  "kernelspec": {
   "display_name": "Python 3 (ipykernel)",
   "language": "python",
   "name": "python3"
  },
  "language_info": {
   "codemirror_mode": {
    "name": "ipython",
    "version": 3
   },
   "file_extension": ".py",
   "mimetype": "text/x-python",
   "name": "python",
   "nbconvert_exporter": "python",
   "pygments_lexer": "ipython3",
   "version": "3.9.12"
  }
 },
 "nbformat": 4,
 "nbformat_minor": 5
}
