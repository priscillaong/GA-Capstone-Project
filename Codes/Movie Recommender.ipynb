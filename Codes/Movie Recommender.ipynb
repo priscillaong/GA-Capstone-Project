{
 "cells": [
  {
   "cell_type": "markdown",
   "id": "9c479f36",
   "metadata": {},
   "source": [
    "# Basic Recommender System"
   ]
  },
  {
   "cell_type": "markdown",
   "id": "0bccf453",
   "metadata": {},
   "source": [
    "This basic recommender system offers generalized recommendations to user based on the popularity and ratings of the movie. In this case, it does not offer personalised recommendations and is purely based on the list of top movies."
   ]
  },
  {
   "cell_type": "code",
   "execution_count": 1,
   "id": "0afcf9d8",
   "metadata": {},
   "outputs": [],
   "source": [
    "#Import libraries\n",
    "import pandas as pd\n",
    "import numpy as np\n",
    "import ast\n",
    "import nltk\n",
    "import string\n",
    "import re\n",
    "from sklearn.feature_extraction.text import TfidfVectorizer\n",
    "from sklearn.metrics.pairwise import cosine_similarity\n",
    "from surprise import accuracy, Dataset, SVD, Reader, NMF, KNNBasic\n",
    "from surprise.model_selection import train_test_split, KFold, GridSearchCV\n",
    "\n",
    "#Suppress Warnings\n",
    "import warnings\n",
    "warnings.filterwarnings('ignore')"
   ]
  },
  {
   "cell_type": "code",
   "execution_count": 2,
   "id": "cef0d526",
   "metadata": {},
   "outputs": [],
   "source": [
    "#load data\n",
    "metadata = pd.read_csv('../Data/movies_metadata_clean.csv')"
   ]
  },
  {
   "cell_type": "markdown",
   "id": "1deecb8f",
   "metadata": {},
   "source": [
    "We will use IMDB weighted rating formula to come up with our recommendations. Mathematically, it is represented by:<br>\n",
    "\n",
    "Weighted Rating (WR) = (v/v+m.R)+(m/v+m.C)<br>\n",
    " \n",
    "\n",
    "where,<br>\n",
    "\n",
    "v is the number of votes for the movie <br>\n",
    "m is the minimum votes required to be listed in the chart<br>\n",
    "R is the average rating of the movie<br>\n",
    "C is the mean vote across the whole report<br>\n",
    "\n",
    "IMDB uses this formula to come up with their top 250 movies chart. ([Source](https://www.quora.com/How-does-IMDbs-rating-system-work))"
   ]
  },
  {
   "cell_type": "code",
   "execution_count": 3,
   "id": "41a96724",
   "metadata": {},
   "outputs": [
    {
     "data": {
      "text/plain": [
       "5.244878649855876"
      ]
     },
     "execution_count": 3,
     "metadata": {},
     "output_type": "execute_result"
    }
   ],
   "source": [
    "#here we calculate the mean vote\n",
    "vote_averages = metadata[metadata['vote_average'].notnull()]['vote_average'].astype('int')\n",
    "C = vote_averages.mean()\n",
    "C"
   ]
  },
  {
   "cell_type": "code",
   "execution_count": 4,
   "id": "9c0c9fe9",
   "metadata": {},
   "outputs": [
    {
     "data": {
      "text/plain": [
       "160.0"
      ]
     },
     "execution_count": 4,
     "metadata": {},
     "output_type": "execute_result"
    }
   ],
   "source": [
    "#here we are setting the min vote required to be at 90 percentile\n",
    "vote_counts = metadata[metadata['vote_count'].notnull()]['vote_count'].astype('int')\n",
    "m = vote_counts.quantile(0.90)\n",
    "m"
   ]
  },
  {
   "cell_type": "code",
   "execution_count": 5,
   "id": "bc122da3",
   "metadata": {},
   "outputs": [
    {
     "data": {
      "text/plain": [
       "(4553, 6)"
      ]
     },
     "execution_count": 5,
     "metadata": {},
     "output_type": "execute_result"
    }
   ],
   "source": [
    "#set the requirement of vote count to be more than min vote and what columns we want to see in our top chart\n",
    "top_chart = metadata[(metadata['vote_count'] >= m) & (metadata['vote_count'].notnull()) & (metadata['vote_average'].notnull())][['title', 'year', 'vote_count', 'vote_average', 'popularity', 'genres']]\n",
    "top_chart['vote_count'] = top_chart['vote_count'].astype('int')\n",
    "top_chart['vote_average'] = top_chart['vote_average'].astype('int')\n",
    "top_chart.shape"
   ]
  },
  {
   "cell_type": "code",
   "execution_count": 6,
   "id": "b63cc72a",
   "metadata": {},
   "outputs": [],
   "source": [
    "#reset index\n",
    "top_chart.reset_index(inplace=True, drop=True)"
   ]
  },
  {
   "cell_type": "markdown",
   "id": "03b73fdc",
   "metadata": {},
   "source": [
    "A movie needs to have at least 160 votes on TMDB and average rating of 5.24/10 to be qualified in our top movies chart. In this case, 4553 movies qualifies."
   ]
  },
  {
   "cell_type": "code",
   "execution_count": 7,
   "id": "c038360c",
   "metadata": {},
   "outputs": [],
   "source": [
    "#function to calculate the weighted rating\n",
    "def weighted_rating(x):\n",
    "    v = x['vote_count']\n",
    "    R = x['vote_average']\n",
    "    return (v/(v+m) * R) + (m/(m+v) * C)"
   ]
  },
  {
   "cell_type": "code",
   "execution_count": 8,
   "id": "a9783c0e",
   "metadata": {},
   "outputs": [],
   "source": [
    "#apply it to new column\n",
    "top_chart['wr'] = top_chart.apply(weighted_rating, axis=1)"
   ]
  },
  {
   "cell_type": "code",
   "execution_count": 9,
   "id": "fd3d93dc",
   "metadata": {},
   "outputs": [],
   "source": [
    "#sort movies according to descending wr value and only selecting the top 250 movies\n",
    "top_chart = top_chart.sort_values('wr', ascending=False).head(250)"
   ]
  },
  {
   "cell_type": "code",
   "execution_count": 10,
   "id": "aa8ad5af",
   "metadata": {},
   "outputs": [
    {
     "data": {
      "text/html": [
       "<div>\n",
       "<style scoped>\n",
       "    .dataframe tbody tr th:only-of-type {\n",
       "        vertical-align: middle;\n",
       "    }\n",
       "\n",
       "    .dataframe tbody tr th {\n",
       "        vertical-align: top;\n",
       "    }\n",
       "\n",
       "    .dataframe thead th {\n",
       "        text-align: right;\n",
       "    }\n",
       "</style>\n",
       "<table border=\"1\" class=\"dataframe\">\n",
       "  <thead>\n",
       "    <tr style=\"text-align: right;\">\n",
       "      <th></th>\n",
       "      <th>title</th>\n",
       "      <th>year</th>\n",
       "      <th>vote_count</th>\n",
       "      <th>vote_average</th>\n",
       "      <th>popularity</th>\n",
       "      <th>genres</th>\n",
       "      <th>wr</th>\n",
       "    </tr>\n",
       "  </thead>\n",
       "  <tbody>\n",
       "    <tr>\n",
       "      <th>1965</th>\n",
       "      <td>Dilwale Dulhania Le Jayenge</td>\n",
       "      <td>1995</td>\n",
       "      <td>661</td>\n",
       "      <td>9</td>\n",
       "      <td>34.457024</td>\n",
       "      <td>[{'id': 35, 'name': 'Comedy'}, {'id': 18, 'nam...</td>\n",
       "      <td>8.268186</td>\n",
       "    </tr>\n",
       "    <tr>\n",
       "      <th>2816</th>\n",
       "      <td>Inception</td>\n",
       "      <td>2010</td>\n",
       "      <td>14075</td>\n",
       "      <td>8</td>\n",
       "      <td>29.108149</td>\n",
       "      <td>[{'id': 28, 'name': 'Action'}, {'id': 53, 'nam...</td>\n",
       "      <td>7.969033</td>\n",
       "    </tr>\n",
       "    <tr>\n",
       "      <th>2397</th>\n",
       "      <td>The Dark Knight</td>\n",
       "      <td>2008</td>\n",
       "      <td>12269</td>\n",
       "      <td>8</td>\n",
       "      <td>123.167259</td>\n",
       "      <td>[{'id': 18, 'name': 'Drama'}, {'id': 28, 'name...</td>\n",
       "      <td>7.964533</td>\n",
       "    </tr>\n",
       "    <tr>\n",
       "      <th>3637</th>\n",
       "      <td>Interstellar</td>\n",
       "      <td>2014</td>\n",
       "      <td>11187</td>\n",
       "      <td>8</td>\n",
       "      <td>32.213481</td>\n",
       "      <td>[{'id': 12, 'name': 'Adventure'}, {'id': 18, '...</td>\n",
       "      <td>7.961151</td>\n",
       "    </tr>\n",
       "    <tr>\n",
       "      <th>916</th>\n",
       "      <td>Fight Club</td>\n",
       "      <td>1999</td>\n",
       "      <td>9678</td>\n",
       "      <td>8</td>\n",
       "      <td>63.869599</td>\n",
       "      <td>[{'id': 18, 'name': 'Drama'}]</td>\n",
       "      <td>7.955192</td>\n",
       "    </tr>\n",
       "    <tr>\n",
       "      <th>1338</th>\n",
       "      <td>The Lord of the Rings: The Fellowship of the Ring</td>\n",
       "      <td>2001</td>\n",
       "      <td>8892</td>\n",
       "      <td>8</td>\n",
       "      <td>32.070725</td>\n",
       "      <td>[{'id': 12, 'name': 'Adventure'}, {'id': 14, '...</td>\n",
       "      <td>7.951301</td>\n",
       "    </tr>\n",
       "    <tr>\n",
       "      <th>91</th>\n",
       "      <td>Pulp Fiction</td>\n",
       "      <td>1994</td>\n",
       "      <td>8670</td>\n",
       "      <td>8</td>\n",
       "      <td>140.950236</td>\n",
       "      <td>[{'id': 53, 'name': 'Thriller'}, {'id': 80, 'n...</td>\n",
       "      <td>7.950077</td>\n",
       "    </tr>\n",
       "    <tr>\n",
       "      <th>101</th>\n",
       "      <td>The Shawshank Redemption</td>\n",
       "      <td>1994</td>\n",
       "      <td>8358</td>\n",
       "      <td>8</td>\n",
       "      <td>51.645403</td>\n",
       "      <td>[{'id': 18, 'name': 'Drama'}, {'id': 80, 'name...</td>\n",
       "      <td>7.948248</td>\n",
       "    </tr>\n",
       "    <tr>\n",
       "      <th>1654</th>\n",
       "      <td>The Lord of the Rings: The Return of the King</td>\n",
       "      <td>2003</td>\n",
       "      <td>8226</td>\n",
       "      <td>8</td>\n",
       "      <td>29.324358</td>\n",
       "      <td>[{'id': 12, 'name': 'Adventure'}, {'id': 14, '...</td>\n",
       "      <td>7.947434</td>\n",
       "    </tr>\n",
       "    <tr>\n",
       "      <th>115</th>\n",
       "      <td>Forrest Gump</td>\n",
       "      <td>1994</td>\n",
       "      <td>8147</td>\n",
       "      <td>8</td>\n",
       "      <td>48.307194</td>\n",
       "      <td>[{'id': 35, 'name': 'Comedy'}, {'id': 18, 'nam...</td>\n",
       "      <td>7.946934</td>\n",
       "    </tr>\n",
       "  </tbody>\n",
       "</table>\n",
       "</div>"
      ],
      "text/plain": [
       "                                                  title  year  vote_count  \\\n",
       "1965                        Dilwale Dulhania Le Jayenge  1995         661   \n",
       "2816                                          Inception  2010       14075   \n",
       "2397                                    The Dark Knight  2008       12269   \n",
       "3637                                       Interstellar  2014       11187   \n",
       "916                                          Fight Club  1999        9678   \n",
       "1338  The Lord of the Rings: The Fellowship of the Ring  2001        8892   \n",
       "91                                         Pulp Fiction  1994        8670   \n",
       "101                            The Shawshank Redemption  1994        8358   \n",
       "1654      The Lord of the Rings: The Return of the King  2003        8226   \n",
       "115                                        Forrest Gump  1994        8147   \n",
       "\n",
       "      vote_average  popularity  \\\n",
       "1965             9   34.457024   \n",
       "2816             8   29.108149   \n",
       "2397             8  123.167259   \n",
       "3637             8   32.213481   \n",
       "916              8   63.869599   \n",
       "1338             8   32.070725   \n",
       "91               8  140.950236   \n",
       "101              8   51.645403   \n",
       "1654             8   29.324358   \n",
       "115              8   48.307194   \n",
       "\n",
       "                                                 genres        wr  \n",
       "1965  [{'id': 35, 'name': 'Comedy'}, {'id': 18, 'nam...  8.268186  \n",
       "2816  [{'id': 28, 'name': 'Action'}, {'id': 53, 'nam...  7.969033  \n",
       "2397  [{'id': 18, 'name': 'Drama'}, {'id': 28, 'name...  7.964533  \n",
       "3637  [{'id': 12, 'name': 'Adventure'}, {'id': 18, '...  7.961151  \n",
       "916                       [{'id': 18, 'name': 'Drama'}]  7.955192  \n",
       "1338  [{'id': 12, 'name': 'Adventure'}, {'id': 14, '...  7.951301  \n",
       "91    [{'id': 53, 'name': 'Thriller'}, {'id': 80, 'n...  7.950077  \n",
       "101   [{'id': 18, 'name': 'Drama'}, {'id': 80, 'name...  7.948248  \n",
       "1654  [{'id': 12, 'name': 'Adventure'}, {'id': 14, '...  7.947434  \n",
       "115   [{'id': 35, 'name': 'Comedy'}, {'id': 18, 'nam...  7.946934  "
      ]
     },
     "execution_count": 10,
     "metadata": {},
     "output_type": "execute_result"
    }
   ],
   "source": [
    "#view top 10\n",
    "top_chart.head(10)"
   ]
  },
  {
   "cell_type": "markdown",
   "id": "3d8e0e2e",
   "metadata": {},
   "source": [
    "This chart is just based on wr rating. We can create another chart based on the top movies based on their genres."
   ]
  },
  {
   "cell_type": "code",
   "execution_count": 11,
   "id": "22a6087a",
   "metadata": {},
   "outputs": [],
   "source": [
    "#convert genres from list of dictionary to a list of strings\n",
    "metadata['genres'] = metadata['genres'].fillna('[]').apply(ast.literal_eval).apply(lambda x: [i['name'] for i in x] if isinstance(x, list) else [])"
   ]
  },
  {
   "cell_type": "code",
   "execution_count": 12,
   "id": "599be2da",
   "metadata": {},
   "outputs": [],
   "source": [
    "#create multiple entries for each genre of the movie as one row\n",
    "\n",
    "#create a series based on genre, reset index level 1 to ensure multiple entries belongs to same record.\n",
    "genre = metadata.apply(lambda x: pd.Series(x['genres']),axis=1).stack().reset_index(level=1, drop=True)\n",
    "#give name to the column\n",
    "genre.name = 'genre'\n",
    "#drop genres column in md and join the genre series to the md df\n",
    "genre_metadata = metadata.drop('genres', axis=1).join(genre)"
   ]
  },
  {
   "cell_type": "code",
   "execution_count": 13,
   "id": "2f521156",
   "metadata": {},
   "outputs": [
    {
     "data": {
      "text/plain": [
       "0        Animation\n",
       "0           Comedy\n",
       "0           Family\n",
       "1        Adventure\n",
       "1          Fantasy\n",
       "           ...    \n",
       "45445       Family\n",
       "45446        Drama\n",
       "45447       Action\n",
       "45447        Drama\n",
       "45447     Thriller\n",
       "Name: genre, Length: 91062, dtype: object"
      ]
     },
     "execution_count": 13,
     "metadata": {},
     "output_type": "execute_result"
    }
   ],
   "source": [
    "#take a look at the genre series, multiple entries for one record in same index #\n",
    "genre"
   ]
  },
  {
   "cell_type": "code",
   "execution_count": 14,
   "id": "aa202dbe",
   "metadata": {},
   "outputs": [
    {
     "data": {
      "text/plain": [
       "0"
      ]
     },
     "execution_count": 14,
     "metadata": {},
     "output_type": "execute_result"
    }
   ],
   "source": [
    "#check for null values\n",
    "genre.isnull().sum()"
   ]
  },
  {
   "cell_type": "code",
   "execution_count": 15,
   "id": "a770b43e",
   "metadata": {},
   "outputs": [
    {
     "data": {
      "text/html": [
       "<div>\n",
       "<style scoped>\n",
       "    .dataframe tbody tr th:only-of-type {\n",
       "        vertical-align: middle;\n",
       "    }\n",
       "\n",
       "    .dataframe tbody tr th {\n",
       "        vertical-align: top;\n",
       "    }\n",
       "\n",
       "    .dataframe thead th {\n",
       "        text-align: right;\n",
       "    }\n",
       "</style>\n",
       "<table border=\"1\" class=\"dataframe\">\n",
       "  <thead>\n",
       "    <tr style=\"text-align: right;\">\n",
       "      <th></th>\n",
       "      <th>id</th>\n",
       "      <th>overview</th>\n",
       "      <th>tagline</th>\n",
       "      <th>title</th>\n",
       "      <th>popularity</th>\n",
       "      <th>release_date</th>\n",
       "      <th>vote_average</th>\n",
       "      <th>vote_count</th>\n",
       "      <th>year</th>\n",
       "      <th>genre</th>\n",
       "    </tr>\n",
       "  </thead>\n",
       "  <tbody>\n",
       "    <tr>\n",
       "      <th>0</th>\n",
       "      <td>862</td>\n",
       "      <td>Led by Woody, Andy's toys live happily in his ...</td>\n",
       "      <td>NaN</td>\n",
       "      <td>Toy Story</td>\n",
       "      <td>21.946943</td>\n",
       "      <td>1995-10-30</td>\n",
       "      <td>7.7</td>\n",
       "      <td>5415.0</td>\n",
       "      <td>1995</td>\n",
       "      <td>Animation</td>\n",
       "    </tr>\n",
       "    <tr>\n",
       "      <th>0</th>\n",
       "      <td>862</td>\n",
       "      <td>Led by Woody, Andy's toys live happily in his ...</td>\n",
       "      <td>NaN</td>\n",
       "      <td>Toy Story</td>\n",
       "      <td>21.946943</td>\n",
       "      <td>1995-10-30</td>\n",
       "      <td>7.7</td>\n",
       "      <td>5415.0</td>\n",
       "      <td>1995</td>\n",
       "      <td>Comedy</td>\n",
       "    </tr>\n",
       "    <tr>\n",
       "      <th>0</th>\n",
       "      <td>862</td>\n",
       "      <td>Led by Woody, Andy's toys live happily in his ...</td>\n",
       "      <td>NaN</td>\n",
       "      <td>Toy Story</td>\n",
       "      <td>21.946943</td>\n",
       "      <td>1995-10-30</td>\n",
       "      <td>7.7</td>\n",
       "      <td>5415.0</td>\n",
       "      <td>1995</td>\n",
       "      <td>Family</td>\n",
       "    </tr>\n",
       "    <tr>\n",
       "      <th>1</th>\n",
       "      <td>8844</td>\n",
       "      <td>When siblings Judy and Peter discover an encha...</td>\n",
       "      <td>Roll the dice and unleash the excitement!</td>\n",
       "      <td>Jumanji</td>\n",
       "      <td>17.015539</td>\n",
       "      <td>1995-12-15</td>\n",
       "      <td>6.9</td>\n",
       "      <td>2413.0</td>\n",
       "      <td>1995</td>\n",
       "      <td>Adventure</td>\n",
       "    </tr>\n",
       "    <tr>\n",
       "      <th>1</th>\n",
       "      <td>8844</td>\n",
       "      <td>When siblings Judy and Peter discover an encha...</td>\n",
       "      <td>Roll the dice and unleash the excitement!</td>\n",
       "      <td>Jumanji</td>\n",
       "      <td>17.015539</td>\n",
       "      <td>1995-12-15</td>\n",
       "      <td>6.9</td>\n",
       "      <td>2413.0</td>\n",
       "      <td>1995</td>\n",
       "      <td>Fantasy</td>\n",
       "    </tr>\n",
       "    <tr>\n",
       "      <th>...</th>\n",
       "      <td>...</td>\n",
       "      <td>...</td>\n",
       "      <td>...</td>\n",
       "      <td>...</td>\n",
       "      <td>...</td>\n",
       "      <td>...</td>\n",
       "      <td>...</td>\n",
       "      <td>...</td>\n",
       "      <td>...</td>\n",
       "      <td>...</td>\n",
       "    </tr>\n",
       "    <tr>\n",
       "      <th>45447</th>\n",
       "      <td>67758</td>\n",
       "      <td>When one of her hits goes wrong, a professiona...</td>\n",
       "      <td>A deadly game of wits.</td>\n",
       "      <td>Betrayal</td>\n",
       "      <td>0.903007</td>\n",
       "      <td>2003-08-01</td>\n",
       "      <td>3.8</td>\n",
       "      <td>6.0</td>\n",
       "      <td>2003</td>\n",
       "      <td>Action</td>\n",
       "    </tr>\n",
       "    <tr>\n",
       "      <th>45447</th>\n",
       "      <td>67758</td>\n",
       "      <td>When one of her hits goes wrong, a professiona...</td>\n",
       "      <td>A deadly game of wits.</td>\n",
       "      <td>Betrayal</td>\n",
       "      <td>0.903007</td>\n",
       "      <td>2003-08-01</td>\n",
       "      <td>3.8</td>\n",
       "      <td>6.0</td>\n",
       "      <td>2003</td>\n",
       "      <td>Drama</td>\n",
       "    </tr>\n",
       "    <tr>\n",
       "      <th>45447</th>\n",
       "      <td>67758</td>\n",
       "      <td>When one of her hits goes wrong, a professiona...</td>\n",
       "      <td>A deadly game of wits.</td>\n",
       "      <td>Betrayal</td>\n",
       "      <td>0.903007</td>\n",
       "      <td>2003-08-01</td>\n",
       "      <td>3.8</td>\n",
       "      <td>6.0</td>\n",
       "      <td>2003</td>\n",
       "      <td>Thriller</td>\n",
       "    </tr>\n",
       "    <tr>\n",
       "      <th>45448</th>\n",
       "      <td>227506</td>\n",
       "      <td>In a small town live two brothers, one a minis...</td>\n",
       "      <td>NaN</td>\n",
       "      <td>Satan Triumphant</td>\n",
       "      <td>0.003503</td>\n",
       "      <td>1917-10-21</td>\n",
       "      <td>0.0</td>\n",
       "      <td>0.0</td>\n",
       "      <td>1917</td>\n",
       "      <td>NaN</td>\n",
       "    </tr>\n",
       "    <tr>\n",
       "      <th>45449</th>\n",
       "      <td>461257</td>\n",
       "      <td>50 years after decriminalisation of homosexual...</td>\n",
       "      <td>NaN</td>\n",
       "      <td>Queerama</td>\n",
       "      <td>0.163015</td>\n",
       "      <td>2017-06-09</td>\n",
       "      <td>0.0</td>\n",
       "      <td>0.0</td>\n",
       "      <td>2017</td>\n",
       "      <td>NaN</td>\n",
       "    </tr>\n",
       "  </tbody>\n",
       "</table>\n",
       "<p>93504 rows × 10 columns</p>\n",
       "</div>"
      ],
      "text/plain": [
       "           id                                           overview  \\\n",
       "0         862  Led by Woody, Andy's toys live happily in his ...   \n",
       "0         862  Led by Woody, Andy's toys live happily in his ...   \n",
       "0         862  Led by Woody, Andy's toys live happily in his ...   \n",
       "1        8844  When siblings Judy and Peter discover an encha...   \n",
       "1        8844  When siblings Judy and Peter discover an encha...   \n",
       "...       ...                                                ...   \n",
       "45447   67758  When one of her hits goes wrong, a professiona...   \n",
       "45447   67758  When one of her hits goes wrong, a professiona...   \n",
       "45447   67758  When one of her hits goes wrong, a professiona...   \n",
       "45448  227506  In a small town live two brothers, one a minis...   \n",
       "45449  461257  50 years after decriminalisation of homosexual...   \n",
       "\n",
       "                                         tagline             title  \\\n",
       "0                                            NaN         Toy Story   \n",
       "0                                            NaN         Toy Story   \n",
       "0                                            NaN         Toy Story   \n",
       "1      Roll the dice and unleash the excitement!           Jumanji   \n",
       "1      Roll the dice and unleash the excitement!           Jumanji   \n",
       "...                                          ...               ...   \n",
       "45447                     A deadly game of wits.          Betrayal   \n",
       "45447                     A deadly game of wits.          Betrayal   \n",
       "45447                     A deadly game of wits.          Betrayal   \n",
       "45448                                        NaN  Satan Triumphant   \n",
       "45449                                        NaN          Queerama   \n",
       "\n",
       "       popularity release_date  vote_average  vote_count  year      genre  \n",
       "0       21.946943   1995-10-30           7.7      5415.0  1995  Animation  \n",
       "0       21.946943   1995-10-30           7.7      5415.0  1995     Comedy  \n",
       "0       21.946943   1995-10-30           7.7      5415.0  1995     Family  \n",
       "1       17.015539   1995-12-15           6.9      2413.0  1995  Adventure  \n",
       "1       17.015539   1995-12-15           6.9      2413.0  1995    Fantasy  \n",
       "...           ...          ...           ...         ...   ...        ...  \n",
       "45447    0.903007   2003-08-01           3.8         6.0  2003     Action  \n",
       "45447    0.903007   2003-08-01           3.8         6.0  2003      Drama  \n",
       "45447    0.903007   2003-08-01           3.8         6.0  2003   Thriller  \n",
       "45448    0.003503   1917-10-21           0.0         0.0  1917        NaN  \n",
       "45449    0.163015   2017-06-09           0.0         0.0  2017        NaN  \n",
       "\n",
       "[93504 rows x 10 columns]"
      ]
     },
     "execution_count": 15,
     "metadata": {},
     "output_type": "execute_result"
    }
   ],
   "source": [
    "#take a look at the genre_md df\n",
    "genre_metadata"
   ]
  },
  {
   "cell_type": "code",
   "execution_count": 16,
   "id": "5098edc5",
   "metadata": {},
   "outputs": [],
   "source": [
    "#build function on top genre chart and keep percentile at 0.90\n",
    "\n",
    "def top_genre_chart(genre, percentile=0.90):\n",
    "    df = genre_metadata[genre_metadata['genre'] == genre]\n",
    "    vote_counts = df[df['vote_count'].notnull()]['vote_count'].astype('int')\n",
    "    vote_averages = df[df['vote_average'].notnull()]['vote_average'].astype('int')\n",
    "    C = vote_averages.mean()\n",
    "    m = vote_counts.quantile(percentile)\n",
    "    \n",
    "    top_genre_chart = df[(df['vote_count'] >= m) & (df['vote_count'].notnull()) & (df['vote_average'].notnull())][['title', 'year', 'vote_count', 'vote_average', 'popularity']]\n",
    "    top_genre_chart['vote_count'] = top_genre_chart['vote_count'].astype('int')\n",
    "    top_genre_chart['vote_average'] = top_genre_chart['vote_average'].astype('int')\n",
    "    \n",
    "    top_genre_chart['wr'] = top_genre_chart.apply(lambda x: (x['vote_count']/(x['vote_count']+m) * x['vote_average']) + (m/(m+x['vote_count']) * C), axis=1)\n",
    "    top_genre_chart = top_genre_chart.sort_values('wr', ascending=False).head(250)\n",
    "    \n",
    "    return top_genre_chart"
   ]
  },
  {
   "cell_type": "code",
   "execution_count": 17,
   "id": "02edc678",
   "metadata": {},
   "outputs": [
    {
     "data": {
      "text/html": [
       "<div>\n",
       "<style scoped>\n",
       "    .dataframe tbody tr th:only-of-type {\n",
       "        vertical-align: middle;\n",
       "    }\n",
       "\n",
       "    .dataframe tbody tr th {\n",
       "        vertical-align: top;\n",
       "    }\n",
       "\n",
       "    .dataframe thead th {\n",
       "        text-align: right;\n",
       "    }\n",
       "</style>\n",
       "<table border=\"1\" class=\"dataframe\">\n",
       "  <thead>\n",
       "    <tr style=\"text-align: right;\">\n",
       "      <th></th>\n",
       "      <th>title</th>\n",
       "      <th>year</th>\n",
       "      <th>vote_count</th>\n",
       "      <th>vote_average</th>\n",
       "      <th>popularity</th>\n",
       "      <th>wr</th>\n",
       "    </tr>\n",
       "  </thead>\n",
       "  <tbody>\n",
       "    <tr>\n",
       "      <th>15476</th>\n",
       "      <td>Inception</td>\n",
       "      <td>2010</td>\n",
       "      <td>14075</td>\n",
       "      <td>8</td>\n",
       "      <td>29.108149</td>\n",
       "      <td>7.904507</td>\n",
       "    </tr>\n",
       "    <tr>\n",
       "      <th>12478</th>\n",
       "      <td>The Dark Knight</td>\n",
       "      <td>2008</td>\n",
       "      <td>12269</td>\n",
       "      <td>8</td>\n",
       "      <td>123.167259</td>\n",
       "      <td>7.890993</td>\n",
       "    </tr>\n",
       "    <tr>\n",
       "      <th>4862</th>\n",
       "      <td>The Lord of the Rings: The Fellowship of the Ring</td>\n",
       "      <td>2001</td>\n",
       "      <td>8892</td>\n",
       "      <td>8</td>\n",
       "      <td>32.070725</td>\n",
       "      <td>7.851764</td>\n",
       "    </tr>\n",
       "    <tr>\n",
       "      <th>6999</th>\n",
       "      <td>The Lord of the Rings: The Return of the King</td>\n",
       "      <td>2003</td>\n",
       "      <td>8226</td>\n",
       "      <td>8</td>\n",
       "      <td>29.324358</td>\n",
       "      <td>7.840439</td>\n",
       "    </tr>\n",
       "    <tr>\n",
       "      <th>5813</th>\n",
       "      <td>The Lord of the Rings: The Two Towers</td>\n",
       "      <td>2002</td>\n",
       "      <td>7641</td>\n",
       "      <td>8</td>\n",
       "      <td>29.423537</td>\n",
       "      <td>7.828962</td>\n",
       "    </tr>\n",
       "    <tr>\n",
       "      <th>256</th>\n",
       "      <td>Star Wars</td>\n",
       "      <td>1977</td>\n",
       "      <td>6778</td>\n",
       "      <td>8</td>\n",
       "      <td>42.149697</td>\n",
       "      <td>7.808658</td>\n",
       "    </tr>\n",
       "    <tr>\n",
       "      <th>1154</th>\n",
       "      <td>The Empire Strikes Back</td>\n",
       "      <td>1980</td>\n",
       "      <td>5998</td>\n",
       "      <td>8</td>\n",
       "      <td>19.470959</td>\n",
       "      <td>7.785660</td>\n",
       "    </tr>\n",
       "    <tr>\n",
       "      <th>4134</th>\n",
       "      <td>Scarface</td>\n",
       "      <td>1983</td>\n",
       "      <td>3017</td>\n",
       "      <td>8</td>\n",
       "      <td>11.299673</td>\n",
       "      <td>7.603562</td>\n",
       "    </tr>\n",
       "    <tr>\n",
       "      <th>9427</th>\n",
       "      <td>Oldboy</td>\n",
       "      <td>2003</td>\n",
       "      <td>2000</td>\n",
       "      <td>8</td>\n",
       "      <td>10.616859</td>\n",
       "      <td>7.441761</td>\n",
       "    </tr>\n",
       "    <tr>\n",
       "      <th>1909</th>\n",
       "      <td>Seven Samurai</td>\n",
       "      <td>1954</td>\n",
       "      <td>892</td>\n",
       "      <td>8</td>\n",
       "      <td>15.017770</td>\n",
       "      <td>6.994782</td>\n",
       "    </tr>\n",
       "    <tr>\n",
       "      <th>14547</th>\n",
       "      <td>Avatar</td>\n",
       "      <td>2009</td>\n",
       "      <td>12114</td>\n",
       "      <td>7</td>\n",
       "      <td>185.070892</td>\n",
       "      <td>6.928666</td>\n",
       "    </tr>\n",
       "    <tr>\n",
       "      <th>17813</th>\n",
       "      <td>The Avengers</td>\n",
       "      <td>2012</td>\n",
       "      <td>12000</td>\n",
       "      <td>7</td>\n",
       "      <td>89.887648</td>\n",
       "      <td>6.928015</td>\n",
       "    </tr>\n",
       "    <tr>\n",
       "      <th>26553</th>\n",
       "      <td>Deadpool</td>\n",
       "      <td>2016</td>\n",
       "      <td>11444</td>\n",
       "      <td>7</td>\n",
       "      <td>187.860492</td>\n",
       "      <td>6.924662</td>\n",
       "    </tr>\n",
       "    <tr>\n",
       "      <th>23743</th>\n",
       "      <td>Guardians of the Galaxy</td>\n",
       "      <td>2014</td>\n",
       "      <td>10014</td>\n",
       "      <td>7</td>\n",
       "      <td>53.291601</td>\n",
       "      <td>6.914407</td>\n",
       "    </tr>\n",
       "    <tr>\n",
       "      <th>26542</th>\n",
       "      <td>Mad Max: Fury Road</td>\n",
       "      <td>2015</td>\n",
       "      <td>9629</td>\n",
       "      <td>7</td>\n",
       "      <td>29.361780</td>\n",
       "      <td>6.911151</td>\n",
       "    </tr>\n",
       "  </tbody>\n",
       "</table>\n",
       "</div>"
      ],
      "text/plain": [
       "                                                   title  year  vote_count  \\\n",
       "15476                                          Inception  2010       14075   \n",
       "12478                                    The Dark Knight  2008       12269   \n",
       "4862   The Lord of the Rings: The Fellowship of the Ring  2001        8892   \n",
       "6999       The Lord of the Rings: The Return of the King  2003        8226   \n",
       "5813               The Lord of the Rings: The Two Towers  2002        7641   \n",
       "256                                            Star Wars  1977        6778   \n",
       "1154                             The Empire Strikes Back  1980        5998   \n",
       "4134                                            Scarface  1983        3017   \n",
       "9427                                              Oldboy  2003        2000   \n",
       "1909                                       Seven Samurai  1954         892   \n",
       "14547                                             Avatar  2009       12114   \n",
       "17813                                       The Avengers  2012       12000   \n",
       "26553                                           Deadpool  2016       11444   \n",
       "23743                            Guardians of the Galaxy  2014       10014   \n",
       "26542                                 Mad Max: Fury Road  2015        9629   \n",
       "\n",
       "       vote_average  popularity        wr  \n",
       "15476             8   29.108149  7.904507  \n",
       "12478             8  123.167259  7.890993  \n",
       "4862              8   32.070725  7.851764  \n",
       "6999              8   29.324358  7.840439  \n",
       "5813              8   29.423537  7.828962  \n",
       "256               8   42.149697  7.808658  \n",
       "1154              8   19.470959  7.785660  \n",
       "4134              8   11.299673  7.603562  \n",
       "9427              8   10.616859  7.441761  \n",
       "1909              8   15.017770  6.994782  \n",
       "14547             7  185.070892  6.928666  \n",
       "17813             7   89.887648  6.928015  \n",
       "26553             7  187.860492  6.924662  \n",
       "23743             7   53.291601  6.914407  \n",
       "26542             7   29.361780  6.911151  "
      ]
     },
     "execution_count": 17,
     "metadata": {},
     "output_type": "execute_result"
    }
   ],
   "source": [
    "top_genre_chart('Action').head(15)"
   ]
  },
  {
   "cell_type": "markdown",
   "id": "9fcaf539",
   "metadata": {},
   "source": [
    "We created another chart based on the top movies based on their wr and sorted by genres. This is the most basic way of doing a recommender system. However, you can see here that these movies are not personalised according to user preference. We will now analyse content-based filtering and collaborative filtering next."
   ]
  },
  {
   "cell_type": "markdown",
   "id": "882e989d",
   "metadata": {},
   "source": [
    "# Content Based Filtering"
   ]
  },
  {
   "cell_type": "markdown",
   "id": "77de9a7a",
   "metadata": {},
   "source": [
    "This filtering involves recommending movies to a user based on the properties of a movies which is similar to the properties of a movie which the user likes."
   ]
  },
  {
   "cell_type": "code",
   "execution_count": 18,
   "id": "227c5899",
   "metadata": {},
   "outputs": [],
   "source": [
    "#we have load the movies metadata file as metadata\n",
    "#recalled that we have sorted genres column into a list in the metadata df\n",
    "\n",
    "#load keywords data\n",
    "keywords = pd.read_csv(\"../Data/keywords_clean.csv\")\n",
    "\n",
    "#load credts data\n",
    "credits = pd.read_csv(\"../Data/credits_clean.csv\")"
   ]
  },
  {
   "cell_type": "code",
   "execution_count": 19,
   "id": "92997927",
   "metadata": {},
   "outputs": [
    {
     "data": {
      "text/plain": [
       "50.0"
      ]
     },
     "execution_count": 19,
     "metadata": {},
     "output_type": "execute_result"
    }
   ],
   "source": [
    "#finding 80th percentile of votes to be 50\n",
    "\n",
    "metadata['vote_count'].quantile(0.80)"
   ]
  },
  {
   "cell_type": "code",
   "execution_count": 20,
   "id": "61d1c37a",
   "metadata": {},
   "outputs": [],
   "source": [
    "#we will select movies with at least 50 votes (subset of full dataset)\n",
    "\n",
    "metadata_cb = metadata[metadata['vote_count']>=50]"
   ]
  },
  {
   "cell_type": "markdown",
   "id": "030b2f1a",
   "metadata": {},
   "source": [
    "For the metadata dataset, we will be using title, overview, tagline and genres columns."
   ]
  },
  {
   "cell_type": "code",
   "execution_count": 21,
   "id": "7c5f0e1a",
   "metadata": {},
   "outputs": [],
   "source": [
    "metadata_cb = metadata_cb[['id','title','overview','tagline', 'genres']]"
   ]
  },
  {
   "cell_type": "code",
   "execution_count": 22,
   "id": "50ff4f62",
   "metadata": {},
   "outputs": [
    {
     "data": {
      "text/html": [
       "<div>\n",
       "<style scoped>\n",
       "    .dataframe tbody tr th:only-of-type {\n",
       "        vertical-align: middle;\n",
       "    }\n",
       "\n",
       "    .dataframe tbody tr th {\n",
       "        vertical-align: top;\n",
       "    }\n",
       "\n",
       "    .dataframe thead th {\n",
       "        text-align: right;\n",
       "    }\n",
       "</style>\n",
       "<table border=\"1\" class=\"dataframe\">\n",
       "  <thead>\n",
       "    <tr style=\"text-align: right;\">\n",
       "      <th></th>\n",
       "      <th>id</th>\n",
       "      <th>title</th>\n",
       "      <th>overview</th>\n",
       "      <th>tagline</th>\n",
       "      <th>genres</th>\n",
       "    </tr>\n",
       "  </thead>\n",
       "  <tbody>\n",
       "    <tr>\n",
       "      <th>0</th>\n",
       "      <td>862</td>\n",
       "      <td>Toy Story</td>\n",
       "      <td>Led by Woody, Andy's toys live happily in his ...</td>\n",
       "      <td>NaN</td>\n",
       "      <td>[Animation, Comedy, Family]</td>\n",
       "    </tr>\n",
       "    <tr>\n",
       "      <th>1</th>\n",
       "      <td>8844</td>\n",
       "      <td>Jumanji</td>\n",
       "      <td>When siblings Judy and Peter discover an encha...</td>\n",
       "      <td>Roll the dice and unleash the excitement!</td>\n",
       "      <td>[Adventure, Fantasy, Family]</td>\n",
       "    </tr>\n",
       "    <tr>\n",
       "      <th>2</th>\n",
       "      <td>15602</td>\n",
       "      <td>Grumpier Old Men</td>\n",
       "      <td>A family wedding reignites the ancient feud be...</td>\n",
       "      <td>Still Yelling. Still Fighting. Still Ready for...</td>\n",
       "      <td>[Romance, Comedy]</td>\n",
       "    </tr>\n",
       "    <tr>\n",
       "      <th>4</th>\n",
       "      <td>11862</td>\n",
       "      <td>Father of the Bride Part II</td>\n",
       "      <td>Just when George Banks has recovered from his ...</td>\n",
       "      <td>Just When His World Is Back To Normal... He's ...</td>\n",
       "      <td>[Comedy]</td>\n",
       "    </tr>\n",
       "    <tr>\n",
       "      <th>5</th>\n",
       "      <td>949</td>\n",
       "      <td>Heat</td>\n",
       "      <td>Obsessive master thief, Neil McCauley leads a ...</td>\n",
       "      <td>A Los Angeles Crime Saga</td>\n",
       "      <td>[Action, Crime, Drama, Thriller]</td>\n",
       "    </tr>\n",
       "    <tr>\n",
       "      <th>...</th>\n",
       "      <td>...</td>\n",
       "      <td>...</td>\n",
       "      <td>...</td>\n",
       "      <td>...</td>\n",
       "      <td>...</td>\n",
       "    </tr>\n",
       "    <tr>\n",
       "      <th>45323</th>\n",
       "      <td>430365</td>\n",
       "      <td>With Open Arms</td>\n",
       "      <td>Jean-Étienne Fougerole is an intellectual bohe...</td>\n",
       "      <td>Thanks for the invitation!</td>\n",
       "      <td>[Comedy]</td>\n",
       "    </tr>\n",
       "    <tr>\n",
       "      <th>45327</th>\n",
       "      <td>248705</td>\n",
       "      <td>The Visitors: Bastille Day</td>\n",
       "      <td>Stuck in the corridors of time, Godefroy de Mo...</td>\n",
       "      <td>NaN</td>\n",
       "      <td>[Comedy]</td>\n",
       "    </tr>\n",
       "    <tr>\n",
       "      <th>45332</th>\n",
       "      <td>44918</td>\n",
       "      <td>Titanic 2</td>\n",
       "      <td>On the 100th anniversary of the original voyag...</td>\n",
       "      <td>100 years later, lightning strikes twice</td>\n",
       "      <td>[Action, Adventure, Thriller]</td>\n",
       "    </tr>\n",
       "    <tr>\n",
       "      <th>45421</th>\n",
       "      <td>455661</td>\n",
       "      <td>In a Heartbeat</td>\n",
       "      <td>A closeted boy runs the risk of being outed by...</td>\n",
       "      <td>The Heart Wants What The Heart Wants</td>\n",
       "      <td>[Family, Animation, Romance, Comedy]</td>\n",
       "    </tr>\n",
       "    <tr>\n",
       "      <th>45425</th>\n",
       "      <td>14008</td>\n",
       "      <td>Cadet Kelly</td>\n",
       "      <td>Hyperactive teenager Kelly is enrolled into a ...</td>\n",
       "      <td>Too Cool For The Rules!</td>\n",
       "      <td>[Comedy]</td>\n",
       "    </tr>\n",
       "  </tbody>\n",
       "</table>\n",
       "<p>9148 rows × 5 columns</p>\n",
       "</div>"
      ],
      "text/plain": [
       "           id                        title  \\\n",
       "0         862                    Toy Story   \n",
       "1        8844                      Jumanji   \n",
       "2       15602             Grumpier Old Men   \n",
       "4       11862  Father of the Bride Part II   \n",
       "5         949                         Heat   \n",
       "...       ...                          ...   \n",
       "45323  430365               With Open Arms   \n",
       "45327  248705   The Visitors: Bastille Day   \n",
       "45332   44918                    Titanic 2   \n",
       "45421  455661               In a Heartbeat   \n",
       "45425   14008                  Cadet Kelly   \n",
       "\n",
       "                                                overview  \\\n",
       "0      Led by Woody, Andy's toys live happily in his ...   \n",
       "1      When siblings Judy and Peter discover an encha...   \n",
       "2      A family wedding reignites the ancient feud be...   \n",
       "4      Just when George Banks has recovered from his ...   \n",
       "5      Obsessive master thief, Neil McCauley leads a ...   \n",
       "...                                                  ...   \n",
       "45323  Jean-Étienne Fougerole is an intellectual bohe...   \n",
       "45327  Stuck in the corridors of time, Godefroy de Mo...   \n",
       "45332  On the 100th anniversary of the original voyag...   \n",
       "45421  A closeted boy runs the risk of being outed by...   \n",
       "45425  Hyperactive teenager Kelly is enrolled into a ...   \n",
       "\n",
       "                                                 tagline  \\\n",
       "0                                                    NaN   \n",
       "1              Roll the dice and unleash the excitement!   \n",
       "2      Still Yelling. Still Fighting. Still Ready for...   \n",
       "4      Just When His World Is Back To Normal... He's ...   \n",
       "5                               A Los Angeles Crime Saga   \n",
       "...                                                  ...   \n",
       "45323                         Thanks for the invitation!   \n",
       "45327                                                NaN   \n",
       "45332           100 years later, lightning strikes twice   \n",
       "45421               The Heart Wants What The Heart Wants   \n",
       "45425                            Too Cool For The Rules!   \n",
       "\n",
       "                                     genres  \n",
       "0               [Animation, Comedy, Family]  \n",
       "1              [Adventure, Fantasy, Family]  \n",
       "2                         [Romance, Comedy]  \n",
       "4                                  [Comedy]  \n",
       "5          [Action, Crime, Drama, Thriller]  \n",
       "...                                     ...  \n",
       "45323                              [Comedy]  \n",
       "45327                              [Comedy]  \n",
       "45332         [Action, Adventure, Thriller]  \n",
       "45421  [Family, Animation, Romance, Comedy]  \n",
       "45425                              [Comedy]  \n",
       "\n",
       "[9148 rows x 5 columns]"
      ]
     },
     "execution_count": 22,
     "metadata": {},
     "output_type": "execute_result"
    }
   ],
   "source": [
    "metadata_cb"
   ]
  },
  {
   "cell_type": "code",
   "execution_count": 23,
   "id": "a4bf463f",
   "metadata": {},
   "outputs": [],
   "source": [
    "#create a duplicate title column as we will need it later \n",
    "metadata_cb['title_copy'] = metadata_cb['title'].copy()"
   ]
  },
  {
   "cell_type": "code",
   "execution_count": 24,
   "id": "3d2acbf0",
   "metadata": {},
   "outputs": [
    {
     "data": {
      "text/html": [
       "<div>\n",
       "<style scoped>\n",
       "    .dataframe tbody tr th:only-of-type {\n",
       "        vertical-align: middle;\n",
       "    }\n",
       "\n",
       "    .dataframe tbody tr th {\n",
       "        vertical-align: top;\n",
       "    }\n",
       "\n",
       "    .dataframe thead th {\n",
       "        text-align: right;\n",
       "    }\n",
       "</style>\n",
       "<table border=\"1\" class=\"dataframe\">\n",
       "  <thead>\n",
       "    <tr style=\"text-align: right;\">\n",
       "      <th></th>\n",
       "      <th>id</th>\n",
       "      <th>keywords</th>\n",
       "    </tr>\n",
       "  </thead>\n",
       "  <tbody>\n",
       "    <tr>\n",
       "      <th>0</th>\n",
       "      <td>862</td>\n",
       "      <td>[{'id': 931, 'name': 'jealousy'}, {'id': 4290,...</td>\n",
       "    </tr>\n",
       "    <tr>\n",
       "      <th>1</th>\n",
       "      <td>8844</td>\n",
       "      <td>[{'id': 10090, 'name': 'board game'}, {'id': 1...</td>\n",
       "    </tr>\n",
       "    <tr>\n",
       "      <th>2</th>\n",
       "      <td>15602</td>\n",
       "      <td>[{'id': 1495, 'name': 'fishing'}, {'id': 12392...</td>\n",
       "    </tr>\n",
       "    <tr>\n",
       "      <th>3</th>\n",
       "      <td>31357</td>\n",
       "      <td>[{'id': 818, 'name': 'based on novel'}, {'id':...</td>\n",
       "    </tr>\n",
       "    <tr>\n",
       "      <th>4</th>\n",
       "      <td>11862</td>\n",
       "      <td>[{'id': 1009, 'name': 'baby'}, {'id': 1599, 'n...</td>\n",
       "    </tr>\n",
       "  </tbody>\n",
       "</table>\n",
       "</div>"
      ],
      "text/plain": [
       "      id                                           keywords\n",
       "0    862  [{'id': 931, 'name': 'jealousy'}, {'id': 4290,...\n",
       "1   8844  [{'id': 10090, 'name': 'board game'}, {'id': 1...\n",
       "2  15602  [{'id': 1495, 'name': 'fishing'}, {'id': 12392...\n",
       "3  31357  [{'id': 818, 'name': 'based on novel'}, {'id':...\n",
       "4  11862  [{'id': 1009, 'name': 'baby'}, {'id': 1599, 'n..."
      ]
     },
     "execution_count": 24,
     "metadata": {},
     "output_type": "execute_result"
    }
   ],
   "source": [
    "#will be using both columns in our recommender for the keywords dataset\n",
    "keywords.head()"
   ]
  },
  {
   "cell_type": "code",
   "execution_count": 25,
   "id": "9ce490bd",
   "metadata": {},
   "outputs": [
    {
     "data": {
      "text/html": [
       "<div>\n",
       "<style scoped>\n",
       "    .dataframe tbody tr th:only-of-type {\n",
       "        vertical-align: middle;\n",
       "    }\n",
       "\n",
       "    .dataframe tbody tr th {\n",
       "        vertical-align: top;\n",
       "    }\n",
       "\n",
       "    .dataframe thead th {\n",
       "        text-align: right;\n",
       "    }\n",
       "</style>\n",
       "<table border=\"1\" class=\"dataframe\">\n",
       "  <thead>\n",
       "    <tr style=\"text-align: right;\">\n",
       "      <th></th>\n",
       "      <th>id</th>\n",
       "      <th>cast</th>\n",
       "    </tr>\n",
       "  </thead>\n",
       "  <tbody>\n",
       "    <tr>\n",
       "      <th>0</th>\n",
       "      <td>862</td>\n",
       "      <td>[{'cast_id': 14, 'character': 'Woody (voice)',...</td>\n",
       "    </tr>\n",
       "    <tr>\n",
       "      <th>1</th>\n",
       "      <td>8844</td>\n",
       "      <td>[{'cast_id': 1, 'character': 'Alan Parrish', '...</td>\n",
       "    </tr>\n",
       "    <tr>\n",
       "      <th>2</th>\n",
       "      <td>15602</td>\n",
       "      <td>[{'cast_id': 2, 'character': 'Max Goldman', 'c...</td>\n",
       "    </tr>\n",
       "    <tr>\n",
       "      <th>3</th>\n",
       "      <td>31357</td>\n",
       "      <td>[{'cast_id': 1, 'character': \"Savannah 'Vannah...</td>\n",
       "    </tr>\n",
       "    <tr>\n",
       "      <th>4</th>\n",
       "      <td>11862</td>\n",
       "      <td>[{'cast_id': 1, 'character': 'George Banks', '...</td>\n",
       "    </tr>\n",
       "  </tbody>\n",
       "</table>\n",
       "</div>"
      ],
      "text/plain": [
       "      id                                               cast\n",
       "0    862  [{'cast_id': 14, 'character': 'Woody (voice)',...\n",
       "1   8844  [{'cast_id': 1, 'character': 'Alan Parrish', '...\n",
       "2  15602  [{'cast_id': 2, 'character': 'Max Goldman', 'c...\n",
       "3  31357  [{'cast_id': 1, 'character': \"Savannah 'Vannah...\n",
       "4  11862  [{'cast_id': 1, 'character': 'George Banks', '..."
      ]
     },
     "execution_count": 25,
     "metadata": {},
     "output_type": "execute_result"
    }
   ],
   "source": [
    "#will be using the id and cast column for the credits dataset\n",
    "credits = credits[['id','cast']]\n",
    "credits.head()"
   ]
  },
  {
   "cell_type": "markdown",
   "id": "41cd011a",
   "metadata": {},
   "source": [
    "To combine all 3 dfs into one df via the id."
   ]
  },
  {
   "cell_type": "code",
   "execution_count": 26,
   "id": "de26eac3",
   "metadata": {},
   "outputs": [
    {
     "data": {
      "text/plain": [
       "dtype('int64')"
      ]
     },
     "execution_count": 26,
     "metadata": {},
     "output_type": "execute_result"
    }
   ],
   "source": [
    "#check dtype of id\n",
    "keywords['id'].dtypes"
   ]
  },
  {
   "cell_type": "code",
   "execution_count": 27,
   "id": "76e14d75",
   "metadata": {},
   "outputs": [
    {
     "data": {
      "text/plain": [
       "dtype('int64')"
      ]
     },
     "execution_count": 27,
     "metadata": {},
     "output_type": "execute_result"
    }
   ],
   "source": [
    "#check dtype of id\n",
    "credits['id'].dtypes"
   ]
  },
  {
   "cell_type": "code",
   "execution_count": 28,
   "id": "b680a444",
   "metadata": {},
   "outputs": [
    {
     "data": {
      "text/plain": [
       "dtype('int64')"
      ]
     },
     "execution_count": 28,
     "metadata": {},
     "output_type": "execute_result"
    }
   ],
   "source": [
    "#check dtype of id\n",
    "metadata_cb['id'].dtypes"
   ]
  },
  {
   "cell_type": "code",
   "execution_count": 29,
   "id": "03863ddd",
   "metadata": {},
   "outputs": [],
   "source": [
    "# Merge medata and keywords df\n",
    "df = pd.merge(metadata_cb, keywords, on='id', how='left')\n",
    "\n",
    "# Reset the index\n",
    "df.reset_index(inplace=True, drop=True)"
   ]
  },
  {
   "cell_type": "code",
   "execution_count": 30,
   "id": "c09b132b",
   "metadata": {},
   "outputs": [],
   "source": [
    "# Merge with credits df\n",
    "df = pd.merge(df, credits, on='id', how='left')\n",
    "\n",
    "# Reset the index\n",
    "df.reset_index(inplace=True, drop=True)"
   ]
  },
  {
   "cell_type": "code",
   "execution_count": 31,
   "id": "0810c682",
   "metadata": {},
   "outputs": [
    {
     "data": {
      "text/html": [
       "<div>\n",
       "<style scoped>\n",
       "    .dataframe tbody tr th:only-of-type {\n",
       "        vertical-align: middle;\n",
       "    }\n",
       "\n",
       "    .dataframe tbody tr th {\n",
       "        vertical-align: top;\n",
       "    }\n",
       "\n",
       "    .dataframe thead th {\n",
       "        text-align: right;\n",
       "    }\n",
       "</style>\n",
       "<table border=\"1\" class=\"dataframe\">\n",
       "  <thead>\n",
       "    <tr style=\"text-align: right;\">\n",
       "      <th></th>\n",
       "      <th>id</th>\n",
       "      <th>title</th>\n",
       "      <th>overview</th>\n",
       "      <th>tagline</th>\n",
       "      <th>genres</th>\n",
       "      <th>title_copy</th>\n",
       "      <th>keywords</th>\n",
       "      <th>cast</th>\n",
       "    </tr>\n",
       "  </thead>\n",
       "  <tbody>\n",
       "    <tr>\n",
       "      <th>0</th>\n",
       "      <td>862</td>\n",
       "      <td>Toy Story</td>\n",
       "      <td>Led by Woody, Andy's toys live happily in his ...</td>\n",
       "      <td>NaN</td>\n",
       "      <td>[Animation, Comedy, Family]</td>\n",
       "      <td>Toy Story</td>\n",
       "      <td>[{'id': 931, 'name': 'jealousy'}, {'id': 4290,...</td>\n",
       "      <td>[{'cast_id': 14, 'character': 'Woody (voice)',...</td>\n",
       "    </tr>\n",
       "    <tr>\n",
       "      <th>1</th>\n",
       "      <td>8844</td>\n",
       "      <td>Jumanji</td>\n",
       "      <td>When siblings Judy and Peter discover an encha...</td>\n",
       "      <td>Roll the dice and unleash the excitement!</td>\n",
       "      <td>[Adventure, Fantasy, Family]</td>\n",
       "      <td>Jumanji</td>\n",
       "      <td>[{'id': 10090, 'name': 'board game'}, {'id': 1...</td>\n",
       "      <td>[{'cast_id': 1, 'character': 'Alan Parrish', '...</td>\n",
       "    </tr>\n",
       "    <tr>\n",
       "      <th>2</th>\n",
       "      <td>15602</td>\n",
       "      <td>Grumpier Old Men</td>\n",
       "      <td>A family wedding reignites the ancient feud be...</td>\n",
       "      <td>Still Yelling. Still Fighting. Still Ready for...</td>\n",
       "      <td>[Romance, Comedy]</td>\n",
       "      <td>Grumpier Old Men</td>\n",
       "      <td>[{'id': 1495, 'name': 'fishing'}, {'id': 12392...</td>\n",
       "      <td>[{'cast_id': 2, 'character': 'Max Goldman', 'c...</td>\n",
       "    </tr>\n",
       "    <tr>\n",
       "      <th>3</th>\n",
       "      <td>11862</td>\n",
       "      <td>Father of the Bride Part II</td>\n",
       "      <td>Just when George Banks has recovered from his ...</td>\n",
       "      <td>Just When His World Is Back To Normal... He's ...</td>\n",
       "      <td>[Comedy]</td>\n",
       "      <td>Father of the Bride Part II</td>\n",
       "      <td>[{'id': 1009, 'name': 'baby'}, {'id': 1599, 'n...</td>\n",
       "      <td>[{'cast_id': 1, 'character': 'George Banks', '...</td>\n",
       "    </tr>\n",
       "    <tr>\n",
       "      <th>4</th>\n",
       "      <td>949</td>\n",
       "      <td>Heat</td>\n",
       "      <td>Obsessive master thief, Neil McCauley leads a ...</td>\n",
       "      <td>A Los Angeles Crime Saga</td>\n",
       "      <td>[Action, Crime, Drama, Thriller]</td>\n",
       "      <td>Heat</td>\n",
       "      <td>[{'id': 642, 'name': 'robbery'}, {'id': 703, '...</td>\n",
       "      <td>[{'cast_id': 25, 'character': 'Lt. Vincent Han...</td>\n",
       "    </tr>\n",
       "  </tbody>\n",
       "</table>\n",
       "</div>"
      ],
      "text/plain": [
       "      id                        title  \\\n",
       "0    862                    Toy Story   \n",
       "1   8844                      Jumanji   \n",
       "2  15602             Grumpier Old Men   \n",
       "3  11862  Father of the Bride Part II   \n",
       "4    949                         Heat   \n",
       "\n",
       "                                            overview  \\\n",
       "0  Led by Woody, Andy's toys live happily in his ...   \n",
       "1  When siblings Judy and Peter discover an encha...   \n",
       "2  A family wedding reignites the ancient feud be...   \n",
       "3  Just when George Banks has recovered from his ...   \n",
       "4  Obsessive master thief, Neil McCauley leads a ...   \n",
       "\n",
       "                                             tagline  \\\n",
       "0                                                NaN   \n",
       "1          Roll the dice and unleash the excitement!   \n",
       "2  Still Yelling. Still Fighting. Still Ready for...   \n",
       "3  Just When His World Is Back To Normal... He's ...   \n",
       "4                           A Los Angeles Crime Saga   \n",
       "\n",
       "                             genres                   title_copy  \\\n",
       "0       [Animation, Comedy, Family]                    Toy Story   \n",
       "1      [Adventure, Fantasy, Family]                      Jumanji   \n",
       "2                 [Romance, Comedy]             Grumpier Old Men   \n",
       "3                          [Comedy]  Father of the Bride Part II   \n",
       "4  [Action, Crime, Drama, Thriller]                         Heat   \n",
       "\n",
       "                                            keywords  \\\n",
       "0  [{'id': 931, 'name': 'jealousy'}, {'id': 4290,...   \n",
       "1  [{'id': 10090, 'name': 'board game'}, {'id': 1...   \n",
       "2  [{'id': 1495, 'name': 'fishing'}, {'id': 12392...   \n",
       "3  [{'id': 1009, 'name': 'baby'}, {'id': 1599, 'n...   \n",
       "4  [{'id': 642, 'name': 'robbery'}, {'id': 703, '...   \n",
       "\n",
       "                                                cast  \n",
       "0  [{'cast_id': 14, 'character': 'Woody (voice)',...  \n",
       "1  [{'cast_id': 1, 'character': 'Alan Parrish', '...  \n",
       "2  [{'cast_id': 2, 'character': 'Max Goldman', 'c...  \n",
       "3  [{'cast_id': 1, 'character': 'George Banks', '...  \n",
       "4  [{'cast_id': 25, 'character': 'Lt. Vincent Han...  "
      ]
     },
     "execution_count": 31,
     "metadata": {},
     "output_type": "execute_result"
    }
   ],
   "source": [
    "df.head()"
   ]
  },
  {
   "cell_type": "code",
   "execution_count": 32,
   "id": "faeb6433",
   "metadata": {},
   "outputs": [
    {
     "data": {
      "text/plain": [
       "0               Animation Comedy Family\n",
       "1              Adventure Fantasy Family\n",
       "2                        Romance Comedy\n",
       "3                                Comedy\n",
       "4           Action Crime Drama Thriller\n",
       "                     ...               \n",
       "9146                             Comedy\n",
       "9147                             Comedy\n",
       "9148          Action Adventure Thriller\n",
       "9149    Family Animation Romance Comedy\n",
       "9150                             Comedy\n",
       "Name: genres, Length: 9151, dtype: object"
      ]
     },
     "execution_count": 32,
     "metadata": {},
     "output_type": "execute_result"
    }
   ],
   "source": [
    "#genres is already in a list\n",
    "#to remove spaces in between genre types(eg: sci fi to scifi) and make it a string\n",
    "df['genres'] = df['genres'].apply(lambda x: ' '.join([i.replace(\" \",\"\") for i in x]))\n",
    "\n",
    "df['genres']"
   ]
  },
  {
   "cell_type": "code",
   "execution_count": 33,
   "id": "21718f23",
   "metadata": {},
   "outputs": [],
   "source": [
    "#convert keywords from list of dictionary to a list of strings\n",
    "df['keywords'] = df['keywords'].fillna('[]').apply(ast.literal_eval).apply(lambda x: [i['name'] for i in x] if isinstance(x, list) else [])"
   ]
  },
  {
   "cell_type": "code",
   "execution_count": 34,
   "id": "c50df9bf",
   "metadata": {},
   "outputs": [],
   "source": [
    "#remove empty spaces and remove spaces in each keyword\n",
    "df['keywords'] = df['keywords'].apply(lambda x: ' '.join([i.replace(\" \",'') for i in x]))"
   ]
  },
  {
   "cell_type": "code",
   "execution_count": 35,
   "id": "0899e240",
   "metadata": {},
   "outputs": [
    {
     "data": {
      "text/plain": [
       "0       jealousy toy boy friendship friends rivalry bo...\n",
       "1       boardgame disappearance basedonchildren'sbook ...\n",
       "2          fishing bestfriend duringcreditsstinger oldmen\n",
       "3       baby midlifecrisis confidence aging daughter m...\n",
       "4       robbery detective bank obsession chase shootin...\n",
       "                              ...                        \n",
       "9146                                                     \n",
       "9147                  nazis castle timetravel robespierre\n",
       "9148                                             suspense\n",
       "9149                             love teenager lgbt short\n",
       "9150                                       militaryschool\n",
       "Name: keywords, Length: 9151, dtype: object"
      ]
     },
     "execution_count": 35,
     "metadata": {},
     "output_type": "execute_result"
    }
   ],
   "source": [
    "df['keywords']"
   ]
  },
  {
   "cell_type": "code",
   "execution_count": 36,
   "id": "9280e2a6",
   "metadata": {},
   "outputs": [],
   "source": [
    "#convert cast from list of dictionary to a list of strings\n",
    "df['cast'] = df['cast'].fillna('[]').apply(ast.literal_eval).apply(lambda x: [i['name'] for i in x] if isinstance(x, list) else [])"
   ]
  },
  {
   "cell_type": "code",
   "execution_count": 37,
   "id": "20b727ba",
   "metadata": {},
   "outputs": [],
   "source": [
    "#remove the expty spaces and remove spaces in each cast\n",
    "df['cast'] = df['cast'].apply(lambda x: ' '.join([i.replace(\" \",'') for i in x]))"
   ]
  },
  {
   "cell_type": "code",
   "execution_count": 38,
   "id": "5f0f842e",
   "metadata": {},
   "outputs": [
    {
     "data": {
      "text/plain": [
       "0       TomHanks TimAllen DonRickles JimVarney Wallace...\n",
       "1       RobinWilliams JonathanHyde KirstenDunst Bradle...\n",
       "2       WalterMatthau JackLemmon Ann-Margret SophiaLor...\n",
       "3       SteveMartin DianeKeaton MartinShort KimberlyWi...\n",
       "4       AlPacino RobertDeNiro ValKilmer JonVoight TomS...\n",
       "                              ...                        \n",
       "9146    ChristianClavier AryAbittan ElsaZylberstein Cy...\n",
       "9147    JeanReno ChristianClavier FranckDubosc KarinVi...\n",
       "9148    ShaneVanDyke MarieWestbrook BruceDavison Brook...\n",
       "9149                                                     \n",
       "9150    HilaryDuff ChristyCarlsonRomano GaryCole Shawn...\n",
       "Name: cast, Length: 9151, dtype: object"
      ]
     },
     "execution_count": 38,
     "metadata": {},
     "output_type": "execute_result"
    }
   ],
   "source": [
    "df['cast']"
   ]
  },
  {
   "cell_type": "code",
   "execution_count": 39,
   "id": "93e21cc2",
   "metadata": {},
   "outputs": [],
   "source": [
    "#fill null with ' '\n",
    "df['tagline'] = df['tagline'].fillna(' ')"
   ]
  },
  {
   "cell_type": "code",
   "execution_count": 40,
   "id": "6766d9df",
   "metadata": {},
   "outputs": [
    {
     "data": {
      "text/plain": [
       "0"
      ]
     },
     "execution_count": 40,
     "metadata": {},
     "output_type": "execute_result"
    }
   ],
   "source": [
    "#no more null values\n",
    "df['tagline'].isnull().sum()"
   ]
  },
  {
   "cell_type": "code",
   "execution_count": 41,
   "id": "a7665f62",
   "metadata": {},
   "outputs": [
    {
     "data": {
      "text/html": [
       "<div>\n",
       "<style scoped>\n",
       "    .dataframe tbody tr th:only-of-type {\n",
       "        vertical-align: middle;\n",
       "    }\n",
       "\n",
       "    .dataframe tbody tr th {\n",
       "        vertical-align: top;\n",
       "    }\n",
       "\n",
       "    .dataframe thead th {\n",
       "        text-align: right;\n",
       "    }\n",
       "</style>\n",
       "<table border=\"1\" class=\"dataframe\">\n",
       "  <thead>\n",
       "    <tr style=\"text-align: right;\">\n",
       "      <th></th>\n",
       "      <th>id</th>\n",
       "      <th>title</th>\n",
       "      <th>overview</th>\n",
       "      <th>tagline</th>\n",
       "      <th>genres</th>\n",
       "      <th>title_copy</th>\n",
       "      <th>keywords</th>\n",
       "      <th>cast</th>\n",
       "    </tr>\n",
       "  </thead>\n",
       "  <tbody>\n",
       "    <tr>\n",
       "      <th>0</th>\n",
       "      <td>862</td>\n",
       "      <td>Toy Story</td>\n",
       "      <td>Led by Woody, Andy's toys live happily in his ...</td>\n",
       "      <td></td>\n",
       "      <td>Animation Comedy Family</td>\n",
       "      <td>Toy Story</td>\n",
       "      <td>jealousy toy boy friendship friends rivalry bo...</td>\n",
       "      <td>TomHanks TimAllen DonRickles JimVarney Wallace...</td>\n",
       "    </tr>\n",
       "    <tr>\n",
       "      <th>1</th>\n",
       "      <td>8844</td>\n",
       "      <td>Jumanji</td>\n",
       "      <td>When siblings Judy and Peter discover an encha...</td>\n",
       "      <td>Roll the dice and unleash the excitement!</td>\n",
       "      <td>Adventure Fantasy Family</td>\n",
       "      <td>Jumanji</td>\n",
       "      <td>boardgame disappearance basedonchildren'sbook ...</td>\n",
       "      <td>RobinWilliams JonathanHyde KirstenDunst Bradle...</td>\n",
       "    </tr>\n",
       "    <tr>\n",
       "      <th>2</th>\n",
       "      <td>15602</td>\n",
       "      <td>Grumpier Old Men</td>\n",
       "      <td>A family wedding reignites the ancient feud be...</td>\n",
       "      <td>Still Yelling. Still Fighting. Still Ready for...</td>\n",
       "      <td>Romance Comedy</td>\n",
       "      <td>Grumpier Old Men</td>\n",
       "      <td>fishing bestfriend duringcreditsstinger oldmen</td>\n",
       "      <td>WalterMatthau JackLemmon Ann-Margret SophiaLor...</td>\n",
       "    </tr>\n",
       "    <tr>\n",
       "      <th>3</th>\n",
       "      <td>11862</td>\n",
       "      <td>Father of the Bride Part II</td>\n",
       "      <td>Just when George Banks has recovered from his ...</td>\n",
       "      <td>Just When His World Is Back To Normal... He's ...</td>\n",
       "      <td>Comedy</td>\n",
       "      <td>Father of the Bride Part II</td>\n",
       "      <td>baby midlifecrisis confidence aging daughter m...</td>\n",
       "      <td>SteveMartin DianeKeaton MartinShort KimberlyWi...</td>\n",
       "    </tr>\n",
       "    <tr>\n",
       "      <th>4</th>\n",
       "      <td>949</td>\n",
       "      <td>Heat</td>\n",
       "      <td>Obsessive master thief, Neil McCauley leads a ...</td>\n",
       "      <td>A Los Angeles Crime Saga</td>\n",
       "      <td>Action Crime Drama Thriller</td>\n",
       "      <td>Heat</td>\n",
       "      <td>robbery detective bank obsession chase shootin...</td>\n",
       "      <td>AlPacino RobertDeNiro ValKilmer JonVoight TomS...</td>\n",
       "    </tr>\n",
       "    <tr>\n",
       "      <th>...</th>\n",
       "      <td>...</td>\n",
       "      <td>...</td>\n",
       "      <td>...</td>\n",
       "      <td>...</td>\n",
       "      <td>...</td>\n",
       "      <td>...</td>\n",
       "      <td>...</td>\n",
       "      <td>...</td>\n",
       "    </tr>\n",
       "    <tr>\n",
       "      <th>9146</th>\n",
       "      <td>430365</td>\n",
       "      <td>With Open Arms</td>\n",
       "      <td>Jean-Étienne Fougerole is an intellectual bohe...</td>\n",
       "      <td>Thanks for the invitation!</td>\n",
       "      <td>Comedy</td>\n",
       "      <td>With Open Arms</td>\n",
       "      <td></td>\n",
       "      <td>ChristianClavier AryAbittan ElsaZylberstein Cy...</td>\n",
       "    </tr>\n",
       "    <tr>\n",
       "      <th>9147</th>\n",
       "      <td>248705</td>\n",
       "      <td>The Visitors: Bastille Day</td>\n",
       "      <td>Stuck in the corridors of time, Godefroy de Mo...</td>\n",
       "      <td></td>\n",
       "      <td>Comedy</td>\n",
       "      <td>The Visitors: Bastille Day</td>\n",
       "      <td>nazis castle timetravel robespierre</td>\n",
       "      <td>JeanReno ChristianClavier FranckDubosc KarinVi...</td>\n",
       "    </tr>\n",
       "    <tr>\n",
       "      <th>9148</th>\n",
       "      <td>44918</td>\n",
       "      <td>Titanic 2</td>\n",
       "      <td>On the 100th anniversary of the original voyag...</td>\n",
       "      <td>100 years later, lightning strikes twice</td>\n",
       "      <td>Action Adventure Thriller</td>\n",
       "      <td>Titanic 2</td>\n",
       "      <td>suspense</td>\n",
       "      <td>ShaneVanDyke MarieWestbrook BruceDavison Brook...</td>\n",
       "    </tr>\n",
       "    <tr>\n",
       "      <th>9149</th>\n",
       "      <td>455661</td>\n",
       "      <td>In a Heartbeat</td>\n",
       "      <td>A closeted boy runs the risk of being outed by...</td>\n",
       "      <td>The Heart Wants What The Heart Wants</td>\n",
       "      <td>Family Animation Romance Comedy</td>\n",
       "      <td>In a Heartbeat</td>\n",
       "      <td>love teenager lgbt short</td>\n",
       "      <td></td>\n",
       "    </tr>\n",
       "    <tr>\n",
       "      <th>9150</th>\n",
       "      <td>14008</td>\n",
       "      <td>Cadet Kelly</td>\n",
       "      <td>Hyperactive teenager Kelly is enrolled into a ...</td>\n",
       "      <td>Too Cool For The Rules!</td>\n",
       "      <td>Comedy</td>\n",
       "      <td>Cadet Kelly</td>\n",
       "      <td>militaryschool</td>\n",
       "      <td>HilaryDuff ChristyCarlsonRomano GaryCole Shawn...</td>\n",
       "    </tr>\n",
       "  </tbody>\n",
       "</table>\n",
       "<p>9151 rows × 8 columns</p>\n",
       "</div>"
      ],
      "text/plain": [
       "          id                        title  \\\n",
       "0        862                    Toy Story   \n",
       "1       8844                      Jumanji   \n",
       "2      15602             Grumpier Old Men   \n",
       "3      11862  Father of the Bride Part II   \n",
       "4        949                         Heat   \n",
       "...      ...                          ...   \n",
       "9146  430365               With Open Arms   \n",
       "9147  248705   The Visitors: Bastille Day   \n",
       "9148   44918                    Titanic 2   \n",
       "9149  455661               In a Heartbeat   \n",
       "9150   14008                  Cadet Kelly   \n",
       "\n",
       "                                               overview  \\\n",
       "0     Led by Woody, Andy's toys live happily in his ...   \n",
       "1     When siblings Judy and Peter discover an encha...   \n",
       "2     A family wedding reignites the ancient feud be...   \n",
       "3     Just when George Banks has recovered from his ...   \n",
       "4     Obsessive master thief, Neil McCauley leads a ...   \n",
       "...                                                 ...   \n",
       "9146  Jean-Étienne Fougerole is an intellectual bohe...   \n",
       "9147  Stuck in the corridors of time, Godefroy de Mo...   \n",
       "9148  On the 100th anniversary of the original voyag...   \n",
       "9149  A closeted boy runs the risk of being outed by...   \n",
       "9150  Hyperactive teenager Kelly is enrolled into a ...   \n",
       "\n",
       "                                                tagline  \\\n",
       "0                                                         \n",
       "1             Roll the dice and unleash the excitement!   \n",
       "2     Still Yelling. Still Fighting. Still Ready for...   \n",
       "3     Just When His World Is Back To Normal... He's ...   \n",
       "4                              A Los Angeles Crime Saga   \n",
       "...                                                 ...   \n",
       "9146                         Thanks for the invitation!   \n",
       "9147                                                      \n",
       "9148           100 years later, lightning strikes twice   \n",
       "9149               The Heart Wants What The Heart Wants   \n",
       "9150                            Too Cool For The Rules!   \n",
       "\n",
       "                               genres                   title_copy  \\\n",
       "0             Animation Comedy Family                    Toy Story   \n",
       "1            Adventure Fantasy Family                      Jumanji   \n",
       "2                      Romance Comedy             Grumpier Old Men   \n",
       "3                              Comedy  Father of the Bride Part II   \n",
       "4         Action Crime Drama Thriller                         Heat   \n",
       "...                               ...                          ...   \n",
       "9146                           Comedy               With Open Arms   \n",
       "9147                           Comedy   The Visitors: Bastille Day   \n",
       "9148        Action Adventure Thriller                    Titanic 2   \n",
       "9149  Family Animation Romance Comedy               In a Heartbeat   \n",
       "9150                           Comedy                  Cadet Kelly   \n",
       "\n",
       "                                               keywords  \\\n",
       "0     jealousy toy boy friendship friends rivalry bo...   \n",
       "1     boardgame disappearance basedonchildren'sbook ...   \n",
       "2        fishing bestfriend duringcreditsstinger oldmen   \n",
       "3     baby midlifecrisis confidence aging daughter m...   \n",
       "4     robbery detective bank obsession chase shootin...   \n",
       "...                                                 ...   \n",
       "9146                                                      \n",
       "9147                nazis castle timetravel robespierre   \n",
       "9148                                           suspense   \n",
       "9149                           love teenager lgbt short   \n",
       "9150                                     militaryschool   \n",
       "\n",
       "                                                   cast  \n",
       "0     TomHanks TimAllen DonRickles JimVarney Wallace...  \n",
       "1     RobinWilliams JonathanHyde KirstenDunst Bradle...  \n",
       "2     WalterMatthau JackLemmon Ann-Margret SophiaLor...  \n",
       "3     SteveMartin DianeKeaton MartinShort KimberlyWi...  \n",
       "4     AlPacino RobertDeNiro ValKilmer JonVoight TomS...  \n",
       "...                                                 ...  \n",
       "9146  ChristianClavier AryAbittan ElsaZylberstein Cy...  \n",
       "9147  JeanReno ChristianClavier FranckDubosc KarinVi...  \n",
       "9148  ShaneVanDyke MarieWestbrook BruceDavison Brook...  \n",
       "9149                                                     \n",
       "9150  HilaryDuff ChristyCarlsonRomano GaryCole Shawn...  \n",
       "\n",
       "[9151 rows x 8 columns]"
      ]
     },
     "execution_count": 41,
     "metadata": {},
     "output_type": "execute_result"
    }
   ],
   "source": [
    "#all columns are now ready to be merged\n",
    "df"
   ]
  },
  {
   "cell_type": "code",
   "execution_count": 42,
   "id": "2b395874",
   "metadata": {},
   "outputs": [],
   "source": [
    "#we shall now merge all columns tgt into one column called 'tags'\n",
    "df['tags'] = df['overview'] + ' ' + df['tagline'] +  ' ' + df['genres'] +  ' ' + df['title_copy'] + ' ' + df['keywords'] + ' ' + df['cast']"
   ]
  },
  {
   "cell_type": "code",
   "execution_count": 43,
   "id": "82c0f40e",
   "metadata": {},
   "outputs": [],
   "source": [
    "#remove all other columns\n",
    "df.drop(columns=['overview','tagline','genres','title_copy','keywords','cast'], inplace=True)"
   ]
  },
  {
   "cell_type": "code",
   "execution_count": 44,
   "id": "23636e2e",
   "metadata": {},
   "outputs": [
    {
     "data": {
      "text/plain": [
       "id        0\n",
       "title     0\n",
       "tags     36\n",
       "dtype: int64"
      ]
     },
     "execution_count": 44,
     "metadata": {},
     "output_type": "execute_result"
    }
   ],
   "source": [
    "#to remove these null rows since tags column is empty\n",
    "\n",
    "df.isnull().sum()"
   ]
  },
  {
   "cell_type": "code",
   "execution_count": 45,
   "id": "6af88ac7",
   "metadata": {},
   "outputs": [],
   "source": [
    "df.drop(df[df['tags'].isnull()].index, inplace=True)"
   ]
  },
  {
   "cell_type": "code",
   "execution_count": 46,
   "id": "b5a3b0fb",
   "metadata": {},
   "outputs": [
    {
     "data": {
      "text/plain": [
       "9"
      ]
     },
     "execution_count": 46,
     "metadata": {},
     "output_type": "execute_result"
    }
   ],
   "source": [
    "#to remove duplicate rows as well\n",
    "\n",
    "df.duplicated().sum()"
   ]
  },
  {
   "cell_type": "code",
   "execution_count": 47,
   "id": "2e827c28",
   "metadata": {},
   "outputs": [],
   "source": [
    "df.drop_duplicates(inplace=True)"
   ]
  },
  {
   "cell_type": "code",
   "execution_count": 48,
   "id": "9f5e331c",
   "metadata": {},
   "outputs": [],
   "source": [
    "#reset index after all the dropping of null/duplicate rows\n",
    "df.reset_index(inplace=True, drop=True)"
   ]
  },
  {
   "cell_type": "code",
   "execution_count": 49,
   "id": "be35d21f",
   "metadata": {},
   "outputs": [
    {
     "data": {
      "text/html": [
       "<div>\n",
       "<style scoped>\n",
       "    .dataframe tbody tr th:only-of-type {\n",
       "        vertical-align: middle;\n",
       "    }\n",
       "\n",
       "    .dataframe tbody tr th {\n",
       "        vertical-align: top;\n",
       "    }\n",
       "\n",
       "    .dataframe thead th {\n",
       "        text-align: right;\n",
       "    }\n",
       "</style>\n",
       "<table border=\"1\" class=\"dataframe\">\n",
       "  <thead>\n",
       "    <tr style=\"text-align: right;\">\n",
       "      <th></th>\n",
       "      <th>id</th>\n",
       "      <th>title</th>\n",
       "      <th>tags</th>\n",
       "    </tr>\n",
       "  </thead>\n",
       "  <tbody>\n",
       "    <tr>\n",
       "      <th>0</th>\n",
       "      <td>862</td>\n",
       "      <td>Toy Story</td>\n",
       "      <td>Led by Woody, Andy's toys live happily in his ...</td>\n",
       "    </tr>\n",
       "    <tr>\n",
       "      <th>1</th>\n",
       "      <td>8844</td>\n",
       "      <td>Jumanji</td>\n",
       "      <td>When siblings Judy and Peter discover an encha...</td>\n",
       "    </tr>\n",
       "    <tr>\n",
       "      <th>2</th>\n",
       "      <td>15602</td>\n",
       "      <td>Grumpier Old Men</td>\n",
       "      <td>A family wedding reignites the ancient feud be...</td>\n",
       "    </tr>\n",
       "    <tr>\n",
       "      <th>3</th>\n",
       "      <td>11862</td>\n",
       "      <td>Father of the Bride Part II</td>\n",
       "      <td>Just when George Banks has recovered from his ...</td>\n",
       "    </tr>\n",
       "    <tr>\n",
       "      <th>4</th>\n",
       "      <td>949</td>\n",
       "      <td>Heat</td>\n",
       "      <td>Obsessive master thief, Neil McCauley leads a ...</td>\n",
       "    </tr>\n",
       "    <tr>\n",
       "      <th>...</th>\n",
       "      <td>...</td>\n",
       "      <td>...</td>\n",
       "      <td>...</td>\n",
       "    </tr>\n",
       "    <tr>\n",
       "      <th>9101</th>\n",
       "      <td>430365</td>\n",
       "      <td>With Open Arms</td>\n",
       "      <td>Jean-Étienne Fougerole is an intellectual bohe...</td>\n",
       "    </tr>\n",
       "    <tr>\n",
       "      <th>9102</th>\n",
       "      <td>248705</td>\n",
       "      <td>The Visitors: Bastille Day</td>\n",
       "      <td>Stuck in the corridors of time, Godefroy de Mo...</td>\n",
       "    </tr>\n",
       "    <tr>\n",
       "      <th>9103</th>\n",
       "      <td>44918</td>\n",
       "      <td>Titanic 2</td>\n",
       "      <td>On the 100th anniversary of the original voyag...</td>\n",
       "    </tr>\n",
       "    <tr>\n",
       "      <th>9104</th>\n",
       "      <td>455661</td>\n",
       "      <td>In a Heartbeat</td>\n",
       "      <td>A closeted boy runs the risk of being outed by...</td>\n",
       "    </tr>\n",
       "    <tr>\n",
       "      <th>9105</th>\n",
       "      <td>14008</td>\n",
       "      <td>Cadet Kelly</td>\n",
       "      <td>Hyperactive teenager Kelly is enrolled into a ...</td>\n",
       "    </tr>\n",
       "  </tbody>\n",
       "</table>\n",
       "<p>9106 rows × 3 columns</p>\n",
       "</div>"
      ],
      "text/plain": [
       "          id                        title  \\\n",
       "0        862                    Toy Story   \n",
       "1       8844                      Jumanji   \n",
       "2      15602             Grumpier Old Men   \n",
       "3      11862  Father of the Bride Part II   \n",
       "4        949                         Heat   \n",
       "...      ...                          ...   \n",
       "9101  430365               With Open Arms   \n",
       "9102  248705   The Visitors: Bastille Day   \n",
       "9103   44918                    Titanic 2   \n",
       "9104  455661               In a Heartbeat   \n",
       "9105   14008                  Cadet Kelly   \n",
       "\n",
       "                                                   tags  \n",
       "0     Led by Woody, Andy's toys live happily in his ...  \n",
       "1     When siblings Judy and Peter discover an encha...  \n",
       "2     A family wedding reignites the ancient feud be...  \n",
       "3     Just when George Banks has recovered from his ...  \n",
       "4     Obsessive master thief, Neil McCauley leads a ...  \n",
       "...                                                 ...  \n",
       "9101  Jean-Étienne Fougerole is an intellectual bohe...  \n",
       "9102  Stuck in the corridors of time, Godefroy de Mo...  \n",
       "9103  On the 100th anniversary of the original voyag...  \n",
       "9104  A closeted boy runs the risk of being outed by...  \n",
       "9105  Hyperactive teenager Kelly is enrolled into a ...  \n",
       "\n",
       "[9106 rows x 3 columns]"
      ]
     },
     "execution_count": 49,
     "metadata": {},
     "output_type": "execute_result"
    }
   ],
   "source": [
    "df"
   ]
  },
  {
   "cell_type": "markdown",
   "id": "132dcfc3",
   "metadata": {},
   "source": [
    "We will now do some cleaning on the words in the tags column."
   ]
  },
  {
   "cell_type": "code",
   "execution_count": 50,
   "id": "4cfefd5e",
   "metadata": {},
   "outputs": [],
   "source": [
    "#drop spaces if there is two consecutive spaces \n",
    "#since empty list or null values were replaced with ' '\n",
    "\n",
    "df['tags']= df['tags'].apply(lambda x: \" \".join(x.split()))"
   ]
  },
  {
   "cell_type": "code",
   "execution_count": 51,
   "id": "6573782f",
   "metadata": {},
   "outputs": [],
   "source": [
    "#store character only if it is not a punctuation\n",
    "def remove_punctuations(text):\n",
    "    for punctuation in string.punctuation:\n",
    "        text = text.replace(punctuation, '')\n",
    "    return text\n",
    "\n",
    "df['tags']= df['tags'].apply(remove_punctuations)"
   ]
  },
  {
   "cell_type": "code",
   "execution_count": 52,
   "id": "b2ef768d",
   "metadata": {},
   "outputs": [],
   "source": [
    "#lowercase the letters in the words\n",
    "\n",
    "df['tags']= df['tags'].apply(lambda x: x.lower())"
   ]
  },
  {
   "cell_type": "code",
   "execution_count": 53,
   "id": "5dccda4a",
   "metadata": {},
   "outputs": [],
   "source": [
    "#create function to store character only if it is not a stopword and do lemmatizing\n",
    "#remove numbers with words, numbers, and words which are not in english\n",
    "\n",
    "def clean_text(text):\n",
    "    #define wn and stopword\n",
    "    wn = nltk.WordNetLemmatizer()\n",
    "    stopword = nltk.corpus.stopwords.words('english')\n",
    "\n",
    "    # \\W matches any non-word character (equivalent to [^a-zA-Z0-9_]). This does not include spaces i.e. \\s\n",
    "    # Add a + just in case there are 2 or more spaces between certain words\n",
    "    tokens = re.split('\\W+', text)\n",
    "    \n",
    "    # apply lemmatization and stopwords exclusion within the same step\n",
    "    text = \" \".join([wn.lemmatize(word) for word in tokens if word not in stopword])\n",
    "    \n",
    "    #remove numbers and word with numbers\n",
    "    text = \"\".join([re.sub('\\d+', \"\", word) for word in text])\n",
    "    \n",
    "    #remove words which are not in english\n",
    "    text = \"\".join([word for word in text if word.isascii() == True])\n",
    "    \n",
    "    return text\n",
    "\n",
    "#apply function to tags column\n",
    "df['tags']= df['tags'].apply(clean_text)"
   ]
  },
  {
   "cell_type": "code",
   "execution_count": 54,
   "id": "12c74a10",
   "metadata": {},
   "outputs": [
    {
     "data": {
      "text/html": [
       "<div>\n",
       "<style scoped>\n",
       "    .dataframe tbody tr th:only-of-type {\n",
       "        vertical-align: middle;\n",
       "    }\n",
       "\n",
       "    .dataframe tbody tr th {\n",
       "        vertical-align: top;\n",
       "    }\n",
       "\n",
       "    .dataframe thead th {\n",
       "        text-align: right;\n",
       "    }\n",
       "</style>\n",
       "<table border=\"1\" class=\"dataframe\">\n",
       "  <thead>\n",
       "    <tr style=\"text-align: right;\">\n",
       "      <th></th>\n",
       "      <th>id</th>\n",
       "      <th>title</th>\n",
       "      <th>tags</th>\n",
       "    </tr>\n",
       "  </thead>\n",
       "  <tbody>\n",
       "    <tr>\n",
       "      <th>0</th>\n",
       "      <td>862</td>\n",
       "      <td>Toy Story</td>\n",
       "      <td>led woody andys toy live happily room andys bi...</td>\n",
       "    </tr>\n",
       "    <tr>\n",
       "      <th>1</th>\n",
       "      <td>8844</td>\n",
       "      <td>Jumanji</td>\n",
       "      <td>sibling judy peter discover enchanted board ga...</td>\n",
       "    </tr>\n",
       "    <tr>\n",
       "      <th>2</th>\n",
       "      <td>15602</td>\n",
       "      <td>Grumpier Old Men</td>\n",
       "      <td>family wedding reignites ancient feud nextdoor...</td>\n",
       "    </tr>\n",
       "    <tr>\n",
       "      <th>3</th>\n",
       "      <td>11862</td>\n",
       "      <td>Father of the Bride Part II</td>\n",
       "      <td>george bank recovered daughter wedding receive...</td>\n",
       "    </tr>\n",
       "    <tr>\n",
       "      <th>4</th>\n",
       "      <td>949</td>\n",
       "      <td>Heat</td>\n",
       "      <td>obsessive master thief neil mccauley lead topn...</td>\n",
       "    </tr>\n",
       "    <tr>\n",
       "      <th>...</th>\n",
       "      <td>...</td>\n",
       "      <td>...</td>\n",
       "      <td>...</td>\n",
       "    </tr>\n",
       "    <tr>\n",
       "      <th>9101</th>\n",
       "      <td>430365</td>\n",
       "      <td>With Open Arms</td>\n",
       "      <td>jeantienne fougerole intellectual bohemian rel...</td>\n",
       "    </tr>\n",
       "    <tr>\n",
       "      <th>9102</th>\n",
       "      <td>248705</td>\n",
       "      <td>The Visitors: Bastille Day</td>\n",
       "      <td>stuck corridor time godefroy de montmirail fai...</td>\n",
       "    </tr>\n",
       "    <tr>\n",
       "      <th>9103</th>\n",
       "      <td>44918</td>\n",
       "      <td>Titanic 2</td>\n",
       "      <td>th anniversary original voyage modern luxury l...</td>\n",
       "    </tr>\n",
       "    <tr>\n",
       "      <th>9104</th>\n",
       "      <td>455661</td>\n",
       "      <td>In a Heartbeat</td>\n",
       "      <td>closeted boy run risk outed heart pop chest ch...</td>\n",
       "    </tr>\n",
       "    <tr>\n",
       "      <th>9105</th>\n",
       "      <td>14008</td>\n",
       "      <td>Cadet Kelly</td>\n",
       "      <td>hyperactive teenager kelly enrolled military s...</td>\n",
       "    </tr>\n",
       "  </tbody>\n",
       "</table>\n",
       "<p>9106 rows × 3 columns</p>\n",
       "</div>"
      ],
      "text/plain": [
       "          id                        title  \\\n",
       "0        862                    Toy Story   \n",
       "1       8844                      Jumanji   \n",
       "2      15602             Grumpier Old Men   \n",
       "3      11862  Father of the Bride Part II   \n",
       "4        949                         Heat   \n",
       "...      ...                          ...   \n",
       "9101  430365               With Open Arms   \n",
       "9102  248705   The Visitors: Bastille Day   \n",
       "9103   44918                    Titanic 2   \n",
       "9104  455661               In a Heartbeat   \n",
       "9105   14008                  Cadet Kelly   \n",
       "\n",
       "                                                   tags  \n",
       "0     led woody andys toy live happily room andys bi...  \n",
       "1     sibling judy peter discover enchanted board ga...  \n",
       "2     family wedding reignites ancient feud nextdoor...  \n",
       "3     george bank recovered daughter wedding receive...  \n",
       "4     obsessive master thief neil mccauley lead topn...  \n",
       "...                                                 ...  \n",
       "9101  jeantienne fougerole intellectual bohemian rel...  \n",
       "9102  stuck corridor time godefroy de montmirail fai...  \n",
       "9103  th anniversary original voyage modern luxury l...  \n",
       "9104  closeted boy run risk outed heart pop chest ch...  \n",
       "9105  hyperactive teenager kelly enrolled military s...  \n",
       "\n",
       "[9106 rows x 3 columns]"
      ]
     },
     "execution_count": 54,
     "metadata": {},
     "output_type": "execute_result"
    }
   ],
   "source": [
    "df"
   ]
  },
  {
   "cell_type": "code",
   "execution_count": 55,
   "id": "9c056760",
   "metadata": {},
   "outputs": [
    {
     "data": {
      "text/plain": [
       "(9106, 3)"
      ]
     },
     "execution_count": 55,
     "metadata": {},
     "output_type": "execute_result"
    }
   ],
   "source": [
    "#9106 rows in total\n",
    "df.shape"
   ]
  },
  {
   "cell_type": "markdown",
   "id": "d22653ed",
   "metadata": {},
   "source": [
    "We will now convert the words into vectors via TF-IDF so that the machine can understand the text inputs."
   ]
  },
  {
   "cell_type": "code",
   "execution_count": 56,
   "id": "d5024f24",
   "metadata": {},
   "outputs": [
    {
     "name": "stdout",
     "output_type": "stream",
     "text": [
      "(9106, 13000)\n"
     ]
    },
    {
     "data": {
      "text/html": [
       "<div>\n",
       "<style scoped>\n",
       "    .dataframe tbody tr th:only-of-type {\n",
       "        vertical-align: middle;\n",
       "    }\n",
       "\n",
       "    .dataframe tbody tr th {\n",
       "        vertical-align: top;\n",
       "    }\n",
       "\n",
       "    .dataframe thead th {\n",
       "        text-align: right;\n",
       "    }\n",
       "</style>\n",
       "<table border=\"1\" class=\"dataframe\">\n",
       "  <thead>\n",
       "    <tr style=\"text-align: right;\">\n",
       "      <th></th>\n",
       "      <th>aamirkhan</th>\n",
       "      <th>aaron</th>\n",
       "      <th>aaronabrams</th>\n",
       "      <th>aarondouglas</th>\n",
       "      <th>aaroneckhart</th>\n",
       "      <th>aaronhimelstein</th>\n",
       "      <th>aaronlustig</th>\n",
       "      <th>aaronpaul</th>\n",
       "      <th>aaronstanford</th>\n",
       "      <th>aarontaylorjohnson</th>\n",
       "      <th>...</th>\n",
       "      <th>zoekazan</th>\n",
       "      <th>zoesaldana</th>\n",
       "      <th>zoeydeutch</th>\n",
       "      <th>zokravitz</th>\n",
       "      <th>zombie</th>\n",
       "      <th>zombieapocalypse</th>\n",
       "      <th>zone</th>\n",
       "      <th>zoo</th>\n",
       "      <th>zooeydeschanel</th>\n",
       "      <th>zulayhenao</th>\n",
       "    </tr>\n",
       "  </thead>\n",
       "  <tbody>\n",
       "    <tr>\n",
       "      <th>0</th>\n",
       "      <td>0.0</td>\n",
       "      <td>0.0</td>\n",
       "      <td>0.0</td>\n",
       "      <td>0.0</td>\n",
       "      <td>0.0</td>\n",
       "      <td>0.0</td>\n",
       "      <td>0.0</td>\n",
       "      <td>0.0</td>\n",
       "      <td>0.0</td>\n",
       "      <td>0.0</td>\n",
       "      <td>...</td>\n",
       "      <td>0.0</td>\n",
       "      <td>0.0</td>\n",
       "      <td>0.0</td>\n",
       "      <td>0.0</td>\n",
       "      <td>0.0</td>\n",
       "      <td>0.0</td>\n",
       "      <td>0.0</td>\n",
       "      <td>0.0</td>\n",
       "      <td>0.0</td>\n",
       "      <td>0.0</td>\n",
       "    </tr>\n",
       "    <tr>\n",
       "      <th>1</th>\n",
       "      <td>0.0</td>\n",
       "      <td>0.0</td>\n",
       "      <td>0.0</td>\n",
       "      <td>0.0</td>\n",
       "      <td>0.0</td>\n",
       "      <td>0.0</td>\n",
       "      <td>0.0</td>\n",
       "      <td>0.0</td>\n",
       "      <td>0.0</td>\n",
       "      <td>0.0</td>\n",
       "      <td>...</td>\n",
       "      <td>0.0</td>\n",
       "      <td>0.0</td>\n",
       "      <td>0.0</td>\n",
       "      <td>0.0</td>\n",
       "      <td>0.0</td>\n",
       "      <td>0.0</td>\n",
       "      <td>0.0</td>\n",
       "      <td>0.0</td>\n",
       "      <td>0.0</td>\n",
       "      <td>0.0</td>\n",
       "    </tr>\n",
       "    <tr>\n",
       "      <th>2</th>\n",
       "      <td>0.0</td>\n",
       "      <td>0.0</td>\n",
       "      <td>0.0</td>\n",
       "      <td>0.0</td>\n",
       "      <td>0.0</td>\n",
       "      <td>0.0</td>\n",
       "      <td>0.0</td>\n",
       "      <td>0.0</td>\n",
       "      <td>0.0</td>\n",
       "      <td>0.0</td>\n",
       "      <td>...</td>\n",
       "      <td>0.0</td>\n",
       "      <td>0.0</td>\n",
       "      <td>0.0</td>\n",
       "      <td>0.0</td>\n",
       "      <td>0.0</td>\n",
       "      <td>0.0</td>\n",
       "      <td>0.0</td>\n",
       "      <td>0.0</td>\n",
       "      <td>0.0</td>\n",
       "      <td>0.0</td>\n",
       "    </tr>\n",
       "    <tr>\n",
       "      <th>3</th>\n",
       "      <td>0.0</td>\n",
       "      <td>0.0</td>\n",
       "      <td>0.0</td>\n",
       "      <td>0.0</td>\n",
       "      <td>0.0</td>\n",
       "      <td>0.0</td>\n",
       "      <td>0.0</td>\n",
       "      <td>0.0</td>\n",
       "      <td>0.0</td>\n",
       "      <td>0.0</td>\n",
       "      <td>...</td>\n",
       "      <td>0.0</td>\n",
       "      <td>0.0</td>\n",
       "      <td>0.0</td>\n",
       "      <td>0.0</td>\n",
       "      <td>0.0</td>\n",
       "      <td>0.0</td>\n",
       "      <td>0.0</td>\n",
       "      <td>0.0</td>\n",
       "      <td>0.0</td>\n",
       "      <td>0.0</td>\n",
       "    </tr>\n",
       "    <tr>\n",
       "      <th>4</th>\n",
       "      <td>0.0</td>\n",
       "      <td>0.0</td>\n",
       "      <td>0.0</td>\n",
       "      <td>0.0</td>\n",
       "      <td>0.0</td>\n",
       "      <td>0.0</td>\n",
       "      <td>0.0</td>\n",
       "      <td>0.0</td>\n",
       "      <td>0.0</td>\n",
       "      <td>0.0</td>\n",
       "      <td>...</td>\n",
       "      <td>0.0</td>\n",
       "      <td>0.0</td>\n",
       "      <td>0.0</td>\n",
       "      <td>0.0</td>\n",
       "      <td>0.0</td>\n",
       "      <td>0.0</td>\n",
       "      <td>0.0</td>\n",
       "      <td>0.0</td>\n",
       "      <td>0.0</td>\n",
       "      <td>0.0</td>\n",
       "    </tr>\n",
       "    <tr>\n",
       "      <th>...</th>\n",
       "      <td>...</td>\n",
       "      <td>...</td>\n",
       "      <td>...</td>\n",
       "      <td>...</td>\n",
       "      <td>...</td>\n",
       "      <td>...</td>\n",
       "      <td>...</td>\n",
       "      <td>...</td>\n",
       "      <td>...</td>\n",
       "      <td>...</td>\n",
       "      <td>...</td>\n",
       "      <td>...</td>\n",
       "      <td>...</td>\n",
       "      <td>...</td>\n",
       "      <td>...</td>\n",
       "      <td>...</td>\n",
       "      <td>...</td>\n",
       "      <td>...</td>\n",
       "      <td>...</td>\n",
       "      <td>...</td>\n",
       "      <td>...</td>\n",
       "    </tr>\n",
       "    <tr>\n",
       "      <th>9101</th>\n",
       "      <td>0.0</td>\n",
       "      <td>0.0</td>\n",
       "      <td>0.0</td>\n",
       "      <td>0.0</td>\n",
       "      <td>0.0</td>\n",
       "      <td>0.0</td>\n",
       "      <td>0.0</td>\n",
       "      <td>0.0</td>\n",
       "      <td>0.0</td>\n",
       "      <td>0.0</td>\n",
       "      <td>...</td>\n",
       "      <td>0.0</td>\n",
       "      <td>0.0</td>\n",
       "      <td>0.0</td>\n",
       "      <td>0.0</td>\n",
       "      <td>0.0</td>\n",
       "      <td>0.0</td>\n",
       "      <td>0.0</td>\n",
       "      <td>0.0</td>\n",
       "      <td>0.0</td>\n",
       "      <td>0.0</td>\n",
       "    </tr>\n",
       "    <tr>\n",
       "      <th>9102</th>\n",
       "      <td>0.0</td>\n",
       "      <td>0.0</td>\n",
       "      <td>0.0</td>\n",
       "      <td>0.0</td>\n",
       "      <td>0.0</td>\n",
       "      <td>0.0</td>\n",
       "      <td>0.0</td>\n",
       "      <td>0.0</td>\n",
       "      <td>0.0</td>\n",
       "      <td>0.0</td>\n",
       "      <td>...</td>\n",
       "      <td>0.0</td>\n",
       "      <td>0.0</td>\n",
       "      <td>0.0</td>\n",
       "      <td>0.0</td>\n",
       "      <td>0.0</td>\n",
       "      <td>0.0</td>\n",
       "      <td>0.0</td>\n",
       "      <td>0.0</td>\n",
       "      <td>0.0</td>\n",
       "      <td>0.0</td>\n",
       "    </tr>\n",
       "    <tr>\n",
       "      <th>9103</th>\n",
       "      <td>0.0</td>\n",
       "      <td>0.0</td>\n",
       "      <td>0.0</td>\n",
       "      <td>0.0</td>\n",
       "      <td>0.0</td>\n",
       "      <td>0.0</td>\n",
       "      <td>0.0</td>\n",
       "      <td>0.0</td>\n",
       "      <td>0.0</td>\n",
       "      <td>0.0</td>\n",
       "      <td>...</td>\n",
       "      <td>0.0</td>\n",
       "      <td>0.0</td>\n",
       "      <td>0.0</td>\n",
       "      <td>0.0</td>\n",
       "      <td>0.0</td>\n",
       "      <td>0.0</td>\n",
       "      <td>0.0</td>\n",
       "      <td>0.0</td>\n",
       "      <td>0.0</td>\n",
       "      <td>0.0</td>\n",
       "    </tr>\n",
       "    <tr>\n",
       "      <th>9104</th>\n",
       "      <td>0.0</td>\n",
       "      <td>0.0</td>\n",
       "      <td>0.0</td>\n",
       "      <td>0.0</td>\n",
       "      <td>0.0</td>\n",
       "      <td>0.0</td>\n",
       "      <td>0.0</td>\n",
       "      <td>0.0</td>\n",
       "      <td>0.0</td>\n",
       "      <td>0.0</td>\n",
       "      <td>...</td>\n",
       "      <td>0.0</td>\n",
       "      <td>0.0</td>\n",
       "      <td>0.0</td>\n",
       "      <td>0.0</td>\n",
       "      <td>0.0</td>\n",
       "      <td>0.0</td>\n",
       "      <td>0.0</td>\n",
       "      <td>0.0</td>\n",
       "      <td>0.0</td>\n",
       "      <td>0.0</td>\n",
       "    </tr>\n",
       "    <tr>\n",
       "      <th>9105</th>\n",
       "      <td>0.0</td>\n",
       "      <td>0.0</td>\n",
       "      <td>0.0</td>\n",
       "      <td>0.0</td>\n",
       "      <td>0.0</td>\n",
       "      <td>0.0</td>\n",
       "      <td>0.0</td>\n",
       "      <td>0.0</td>\n",
       "      <td>0.0</td>\n",
       "      <td>0.0</td>\n",
       "      <td>...</td>\n",
       "      <td>0.0</td>\n",
       "      <td>0.0</td>\n",
       "      <td>0.0</td>\n",
       "      <td>0.0</td>\n",
       "      <td>0.0</td>\n",
       "      <td>0.0</td>\n",
       "      <td>0.0</td>\n",
       "      <td>0.0</td>\n",
       "      <td>0.0</td>\n",
       "      <td>0.0</td>\n",
       "    </tr>\n",
       "  </tbody>\n",
       "</table>\n",
       "<p>9106 rows × 13000 columns</p>\n",
       "</div>"
      ],
      "text/plain": [
       "      aamirkhan  aaron  aaronabrams  aarondouglas  aaroneckhart  \\\n",
       "0           0.0    0.0          0.0           0.0           0.0   \n",
       "1           0.0    0.0          0.0           0.0           0.0   \n",
       "2           0.0    0.0          0.0           0.0           0.0   \n",
       "3           0.0    0.0          0.0           0.0           0.0   \n",
       "4           0.0    0.0          0.0           0.0           0.0   \n",
       "...         ...    ...          ...           ...           ...   \n",
       "9101        0.0    0.0          0.0           0.0           0.0   \n",
       "9102        0.0    0.0          0.0           0.0           0.0   \n",
       "9103        0.0    0.0          0.0           0.0           0.0   \n",
       "9104        0.0    0.0          0.0           0.0           0.0   \n",
       "9105        0.0    0.0          0.0           0.0           0.0   \n",
       "\n",
       "      aaronhimelstein  aaronlustig  aaronpaul  aaronstanford  \\\n",
       "0                 0.0          0.0        0.0            0.0   \n",
       "1                 0.0          0.0        0.0            0.0   \n",
       "2                 0.0          0.0        0.0            0.0   \n",
       "3                 0.0          0.0        0.0            0.0   \n",
       "4                 0.0          0.0        0.0            0.0   \n",
       "...               ...          ...        ...            ...   \n",
       "9101              0.0          0.0        0.0            0.0   \n",
       "9102              0.0          0.0        0.0            0.0   \n",
       "9103              0.0          0.0        0.0            0.0   \n",
       "9104              0.0          0.0        0.0            0.0   \n",
       "9105              0.0          0.0        0.0            0.0   \n",
       "\n",
       "      aarontaylorjohnson  ...  zoekazan  zoesaldana  zoeydeutch  zokravitz  \\\n",
       "0                    0.0  ...       0.0         0.0         0.0        0.0   \n",
       "1                    0.0  ...       0.0         0.0         0.0        0.0   \n",
       "2                    0.0  ...       0.0         0.0         0.0        0.0   \n",
       "3                    0.0  ...       0.0         0.0         0.0        0.0   \n",
       "4                    0.0  ...       0.0         0.0         0.0        0.0   \n",
       "...                  ...  ...       ...         ...         ...        ...   \n",
       "9101                 0.0  ...       0.0         0.0         0.0        0.0   \n",
       "9102                 0.0  ...       0.0         0.0         0.0        0.0   \n",
       "9103                 0.0  ...       0.0         0.0         0.0        0.0   \n",
       "9104                 0.0  ...       0.0         0.0         0.0        0.0   \n",
       "9105                 0.0  ...       0.0         0.0         0.0        0.0   \n",
       "\n",
       "      zombie  zombieapocalypse  zone  zoo  zooeydeschanel  zulayhenao  \n",
       "0        0.0               0.0   0.0  0.0             0.0         0.0  \n",
       "1        0.0               0.0   0.0  0.0             0.0         0.0  \n",
       "2        0.0               0.0   0.0  0.0             0.0         0.0  \n",
       "3        0.0               0.0   0.0  0.0             0.0         0.0  \n",
       "4        0.0               0.0   0.0  0.0             0.0         0.0  \n",
       "...      ...               ...   ...  ...             ...         ...  \n",
       "9101     0.0               0.0   0.0  0.0             0.0         0.0  \n",
       "9102     0.0               0.0   0.0  0.0             0.0         0.0  \n",
       "9103     0.0               0.0   0.0  0.0             0.0         0.0  \n",
       "9104     0.0               0.0   0.0  0.0             0.0         0.0  \n",
       "9105     0.0               0.0   0.0  0.0             0.0         0.0  \n",
       "\n",
       "[9106 rows x 13000 columns]"
      ]
     },
     "execution_count": 56,
     "metadata": {},
     "output_type": "execute_result"
    }
   ],
   "source": [
    "# Initialize a tfidf object\n",
    "#select top 10% more frequent words = 13000\n",
    "tfidf_vect = TfidfVectorizer(max_features=13000)\n",
    "\n",
    "# Transform the data\n",
    "tfidf = tfidf_vect.fit_transform(df['tags'].values)\n",
    "\n",
    "#print shape\n",
    "print(tfidf.shape)\n",
    "\n",
    "#save to df\n",
    "tfidf = pd.DataFrame(tfidf.toarray())\n",
    "tfidf.columns = tfidf_vect.get_feature_names()\n",
    "tfidf"
   ]
  },
  {
   "cell_type": "markdown",
   "id": "68a2a429",
   "metadata": {},
   "source": [
    "We will use consine similarity to make recommendations"
   ]
  },
  {
   "cell_type": "code",
   "execution_count": 57,
   "id": "83005e49",
   "metadata": {},
   "outputs": [],
   "source": [
    "similarity = cosine_similarity(tfidf)\n",
    "\n",
    "#create function to recommend movie based on consine similarity\n",
    "\n",
    "def recommendation(movie_title):\n",
    "    id_of_movie = df[df['title']==movie_title].index[0]\n",
    "    distances = similarity[id_of_movie]\n",
    "    movie_list = sorted(list(enumerate(distances)), reverse=True, key=lambda x:x[1])[1:10]\n",
    "    \n",
    "    for i in movie_list:\n",
    "        print(df.iloc[i[0]].title, i[1])"
   ]
  },
  {
   "cell_type": "markdown",
   "id": "961ab5e4",
   "metadata": {},
   "source": [
    "During EDA, we noted that drama, comedy and thriller are the top 3 genres of movies. We will take a look at the recommendations for two movies: Minion (Comedy) and The Dark Knight (Thriller and Drama)."
   ]
  },
  {
   "cell_type": "code",
   "execution_count": 58,
   "id": "dc97840a",
   "metadata": {},
   "outputs": [
    {
     "name": "stdout",
     "output_type": "stream",
     "text": [
      "Mower Minions 0.4132663656955075\n",
      "Minions: Orientation Day 0.3619024153480107\n",
      "Banana 0.2726926284720872\n",
      "Despicable Me 2 0.25126831109042813\n",
      "Despicable Me 0.21450225603596204\n",
      "Despicable Me 3 0.20373447635405717\n",
      "Stuart Little 3: Call of the Wild 0.12831003995272408\n",
      "One Hundred and One Dalmatians 0.1177490070710192\n",
      "Stuart Little 2 0.11528787750371525\n"
     ]
    }
   ],
   "source": [
    "recommendation('Minions')"
   ]
  },
  {
   "cell_type": "code",
   "execution_count": 59,
   "id": "db191a45",
   "metadata": {},
   "outputs": [
    {
     "name": "stdout",
     "output_type": "stream",
     "text": [
      "The Dark Knight Rises 0.30656164913885514\n",
      "Batman Begins 0.2734739349154689\n",
      "Batman Returns 0.2696719706306492\n",
      "Batman Forever 0.25746940494643594\n",
      "Batman: Under the Red Hood 0.2294065040485468\n",
      "Batman: The Killing Joke 0.22844990347536065\n",
      "Batman Beyond: Return of the Joker 0.2203864803427848\n",
      "Batman: The Dark Knight Returns, Part 2 0.21794405127810568\n",
      "Batman 0.2167996215908805\n"
     ]
    }
   ],
   "source": [
    "recommendation('The Dark Knight')"
   ]
  },
  {
   "cell_type": "markdown",
   "id": "97cac5b2",
   "metadata": {},
   "source": [
    "We see in the recommendations that other minions or batman movies will be suggested to the user. For content-based filtering, we are only using the features of the movies and finding their consine similarities. However, users may want to watch other movies which are not in the minions or batman series. We will next see how collaborative filtering can help to make better recommendations."
   ]
  },
  {
   "cell_type": "markdown",
   "id": "2c00e36b",
   "metadata": {},
   "source": [
    "# Collaborative Filtering"
   ]
  },
  {
   "cell_type": "markdown",
   "id": "4667a904",
   "metadata": {},
   "source": [
    "Collaborative filtering can be further divided into model-based and memory based. Model based is the use of a model for user-item interaction where user and item representations have to be learnt from interaction matrix. Memory based will be purely based on similarities between users or items in terms of observed interactions."
   ]
  },
  {
   "cell_type": "markdown",
   "id": "4317e4cc",
   "metadata": {},
   "source": [
    "## Memory-Based"
   ]
  },
  {
   "cell_type": "markdown",
   "id": "fc342f80",
   "metadata": {},
   "source": [
    "### User-Based"
   ]
  },
  {
   "cell_type": "markdown",
   "id": "3f3a9215",
   "metadata": {},
   "source": [
    "In user based recommendation method, we will be computing similarities between users and will fetch the most similar users using the KNN algorithm and will recommend movies which one user likes to another user and vice versa."
   ]
  },
  {
   "cell_type": "code",
   "execution_count": 60,
   "id": "0a72ac60",
   "metadata": {},
   "outputs": [],
   "source": [
    "#load ratings_small dataset\n",
    "ratings = pd.read_csv(\"../Data/ratings_small.csv\")"
   ]
  },
  {
   "cell_type": "code",
   "execution_count": 61,
   "id": "35851f90",
   "metadata": {},
   "outputs": [
    {
     "data": {
      "text/html": [
       "<div>\n",
       "<style scoped>\n",
       "    .dataframe tbody tr th:only-of-type {\n",
       "        vertical-align: middle;\n",
       "    }\n",
       "\n",
       "    .dataframe tbody tr th {\n",
       "        vertical-align: top;\n",
       "    }\n",
       "\n",
       "    .dataframe thead th {\n",
       "        text-align: right;\n",
       "    }\n",
       "</style>\n",
       "<table border=\"1\" class=\"dataframe\">\n",
       "  <thead>\n",
       "    <tr style=\"text-align: right;\">\n",
       "      <th></th>\n",
       "      <th>userId</th>\n",
       "      <th>movieId</th>\n",
       "      <th>rating</th>\n",
       "      <th>timestamp</th>\n",
       "    </tr>\n",
       "  </thead>\n",
       "  <tbody>\n",
       "    <tr>\n",
       "      <th>0</th>\n",
       "      <td>1</td>\n",
       "      <td>31</td>\n",
       "      <td>2.5</td>\n",
       "      <td>1260759144</td>\n",
       "    </tr>\n",
       "    <tr>\n",
       "      <th>1</th>\n",
       "      <td>1</td>\n",
       "      <td>1029</td>\n",
       "      <td>3.0</td>\n",
       "      <td>1260759179</td>\n",
       "    </tr>\n",
       "    <tr>\n",
       "      <th>2</th>\n",
       "      <td>1</td>\n",
       "      <td>1061</td>\n",
       "      <td>3.0</td>\n",
       "      <td>1260759182</td>\n",
       "    </tr>\n",
       "    <tr>\n",
       "      <th>3</th>\n",
       "      <td>1</td>\n",
       "      <td>1129</td>\n",
       "      <td>2.0</td>\n",
       "      <td>1260759185</td>\n",
       "    </tr>\n",
       "    <tr>\n",
       "      <th>4</th>\n",
       "      <td>1</td>\n",
       "      <td>1172</td>\n",
       "      <td>4.0</td>\n",
       "      <td>1260759205</td>\n",
       "    </tr>\n",
       "  </tbody>\n",
       "</table>\n",
       "</div>"
      ],
      "text/plain": [
       "   userId  movieId  rating   timestamp\n",
       "0       1       31     2.5  1260759144\n",
       "1       1     1029     3.0  1260759179\n",
       "2       1     1061     3.0  1260759182\n",
       "3       1     1129     2.0  1260759185\n",
       "4       1     1172     4.0  1260759205"
      ]
     },
     "execution_count": 61,
     "metadata": {},
     "output_type": "execute_result"
    }
   ],
   "source": [
    "#take a look at the df\n",
    "ratings.head()"
   ]
  },
  {
   "cell_type": "code",
   "execution_count": 62,
   "id": "48641e14",
   "metadata": {},
   "outputs": [
    {
     "data": {
      "text/html": [
       "<div>\n",
       "<style scoped>\n",
       "    .dataframe tbody tr th:only-of-type {\n",
       "        vertical-align: middle;\n",
       "    }\n",
       "\n",
       "    .dataframe tbody tr th {\n",
       "        vertical-align: top;\n",
       "    }\n",
       "\n",
       "    .dataframe thead th {\n",
       "        text-align: right;\n",
       "    }\n",
       "</style>\n",
       "<table border=\"1\" class=\"dataframe\">\n",
       "  <thead>\n",
       "    <tr style=\"text-align: right;\">\n",
       "      <th></th>\n",
       "      <th>userId</th>\n",
       "      <th>movieId</th>\n",
       "      <th>rating</th>\n",
       "      <th>timestamp</th>\n",
       "    </tr>\n",
       "  </thead>\n",
       "  <tbody>\n",
       "    <tr>\n",
       "      <th>0</th>\n",
       "      <td>1</td>\n",
       "      <td>1371</td>\n",
       "      <td>2.5</td>\n",
       "      <td>1260759135</td>\n",
       "    </tr>\n",
       "    <tr>\n",
       "      <th>1</th>\n",
       "      <td>1</td>\n",
       "      <td>2105</td>\n",
       "      <td>4.0</td>\n",
       "      <td>1260759139</td>\n",
       "    </tr>\n",
       "    <tr>\n",
       "      <th>2</th>\n",
       "      <td>1</td>\n",
       "      <td>2294</td>\n",
       "      <td>2.0</td>\n",
       "      <td>1260759108</td>\n",
       "    </tr>\n",
       "    <tr>\n",
       "      <th>3</th>\n",
       "      <td>2</td>\n",
       "      <td>17</td>\n",
       "      <td>5.0</td>\n",
       "      <td>835355681</td>\n",
       "    </tr>\n",
       "    <tr>\n",
       "      <th>4</th>\n",
       "      <td>2</td>\n",
       "      <td>62</td>\n",
       "      <td>3.0</td>\n",
       "      <td>835355749</td>\n",
       "    </tr>\n",
       "  </tbody>\n",
       "</table>\n",
       "</div>"
      ],
      "text/plain": [
       "   userId  movieId  rating   timestamp\n",
       "0       1     1371     2.5  1260759135\n",
       "1       1     2105     4.0  1260759139\n",
       "2       1     2294     2.0  1260759108\n",
       "3       2       17     5.0   835355681\n",
       "4       2       62     3.0   835355749"
      ]
     },
     "execution_count": 62,
     "metadata": {},
     "output_type": "execute_result"
    }
   ],
   "source": [
    "#we will select movies with at least 50 votes, 80th percentile of votes\n",
    "metadata_cf = metadata[metadata['vote_count']>=50][['id','title']]\n",
    "\n",
    "#to select IDs of movies with vote count more than 50 in metadata_cf\n",
    "movie_ids = [int(x) for x in metadata_cf['id'].values]\n",
    "\n",
    "#select ratings of movies with more than 50 vote counts\n",
    "ratings = ratings[ratings['movieId'].isin(movie_ids)]\n",
    "\n",
    "#to reset index\n",
    "ratings.reset_index(inplace=True, drop=True)\n",
    "\n",
    "#view first 5 rows\n",
    "ratings.head()"
   ]
  },
  {
   "cell_type": "code",
   "execution_count": 63,
   "id": "63b15180",
   "metadata": {},
   "outputs": [
    {
     "data": {
      "text/plain": [
       "(30581, 4)"
      ]
     },
     "execution_count": 63,
     "metadata": {},
     "output_type": "execute_result"
    }
   ],
   "source": [
    "#30581 records selected\n",
    "ratings.shape"
   ]
  },
  {
   "cell_type": "code",
   "execution_count": 64,
   "id": "18069cde",
   "metadata": {},
   "outputs": [
    {
     "data": {
      "text/plain": [
       "<surprise.prediction_algorithms.knns.KNNBasic at 0x7fc31204dee0>"
      ]
     },
     "execution_count": 64,
     "metadata": {},
     "output_type": "execute_result"
    }
   ],
   "source": [
    "#Declaring the similarity options.\n",
    "sim_options = {'name': 'cosine',\n",
    "               'user_based': True}\n",
    "\n",
    "#initialize a surprise reader object\n",
    "reader = Reader(line_format='user item rating', sep=',', rating_scale=(0,5), skip_lines=1)\n",
    "\n",
    "#load the data\n",
    "data = Dataset.load_from_df(ratings[['userId','movieId','rating']], reader=reader)\n",
    "\n",
    "#Retrieve the trainset.\n",
    "trainset = data.build_full_trainset()\n",
    "\n",
    "# Build a KNN algorithm, and train it to find similar users\n",
    "sim_user = KNNBasic(sim_options=sim_options, verbose=False, random_state=42)\n",
    "sim_user.fit(trainset)"
   ]
  },
  {
   "cell_type": "code",
   "execution_count": 65,
   "id": "86a9c462",
   "metadata": {},
   "outputs": [],
   "source": [
    "#create function to get recommendations by specifying user_id, top n movies and algo\n",
    "#based on what the user has not watch\n",
    "#to use algo to estimate user's rating on the movie\n",
    "\n",
    "def get_recommendations(user_id, top_n, algo):\n",
    "    \n",
    "    # creating an empty list to store the recommended product ids\n",
    "    recommendations = []\n",
    "    \n",
    "    # creating an user item interactions matrix \n",
    "    user_movie_interactions_matrix = ratings.pivot(index='userId', columns='movieId', values='rating')\n",
    "    \n",
    "    # extracting those product ids which the user_id has not interacted yet\n",
    "    non_interacted_movies = user_movie_interactions_matrix.loc[user_id][user_movie_interactions_matrix.loc[user_id].isnull()].index.tolist()\n",
    "    \n",
    "    # looping through each of the product ids which user_id has not interacted yet\n",
    "    for item_id in non_interacted_movies:\n",
    "        \n",
    "        # predicting the ratings for those non interacted product ids by this user\n",
    "        est = algo.predict(user_id, item_id).est\n",
    "        \n",
    "        # appending the predicted ratings\n",
    "        movie_name = metadata_cf[metadata_cf['id']==item_id]['title'].values[0]\n",
    "        recommendations.append((movie_name, est))\n",
    "\n",
    "    # sorting the predicted ratings in descending order\n",
    "    recommendations.sort(key=lambda x: x[1], reverse=True)\n",
    "\n",
    "    return recommendations[:top_n]"
   ]
  },
  {
   "cell_type": "code",
   "execution_count": 66,
   "id": "03022265",
   "metadata": {},
   "outputs": [
    {
     "data": {
      "text/plain": [
       "[('The Wizard', 5),\n",
       " ('Rio Bravo', 5),\n",
       " ('The Celebration', 5),\n",
       " ('Spider-Man 3', 5),\n",
       " ('A Streetcar Named Desire', 5),\n",
       " ('Gentlemen Prefer Blondes', 5),\n",
       " ('The Evil Dead', 5),\n",
       " ('JFK', 5),\n",
       " (\"Singin' in the Rain\", 5),\n",
       " (\"Frank Herbert's Dune\", 5)]"
      ]
     },
     "execution_count": 66,
     "metadata": {},
     "output_type": "execute_result"
    }
   ],
   "source": [
    "get_recommendations(671,10,sim_user)"
   ]
  },
  {
   "cell_type": "markdown",
   "id": "4664e2bd",
   "metadata": {},
   "source": [
    "### Item-Based"
   ]
  },
  {
   "cell_type": "markdown",
   "id": "5496b19f",
   "metadata": {},
   "source": [
    "In item based recommendation method, we will be computing similarities between items(movies) and will fetch the most similar items(movies) using the KNN algorithm and will recommend items(movies) which one user likes to another user who likes similar kind of item(movie) and vice versa."
   ]
  },
  {
   "cell_type": "code",
   "execution_count": 67,
   "id": "4e404e53",
   "metadata": {},
   "outputs": [
    {
     "data": {
      "text/plain": [
       "<surprise.prediction_algorithms.knns.KNNBasic at 0x7fc2fd436970>"
      ]
     },
     "execution_count": 67,
     "metadata": {},
     "output_type": "execute_result"
    }
   ],
   "source": [
    "#Declaring the similarity options.\n",
    "#set user_based as false\n",
    "sim_options = {'name': 'cosine',\n",
    "               'user_based': False}\n",
    "\n",
    "# Build a KNN algorithm, and train it to find similar items\n",
    "sim_item = KNNBasic(sim_options=sim_options, verbose=False, random_state=42)\n",
    "sim_item.fit(trainset)"
   ]
  },
  {
   "cell_type": "code",
   "execution_count": 68,
   "id": "e87da9fc",
   "metadata": {},
   "outputs": [
    {
     "data": {
      "text/plain": [
       "[('Hard Candy', 5),\n",
       " ('Visitor Q', 5),\n",
       " ('The Protector', 4.666666666666667),\n",
       " ('Shaun of the Dead', 4.571428571428571),\n",
       " ('The Silence of the Lambs', 4.503228000162119),\n",
       " (\"Singin' in the Rain\", 4.5),\n",
       " (\"Hearts of Darkness: A Filmmaker's Apocalypse\", 4.5),\n",
       " ('Sense and Sensibility', 4.5),\n",
       " (\"The Hitchhiker's Guide to the Galaxy\", 4.5),\n",
       " ('Daisies', 4.4375)]"
      ]
     },
     "execution_count": 68,
     "metadata": {},
     "output_type": "execute_result"
    }
   ],
   "source": [
    "get_recommendations(671,10,sim_item)"
   ]
  },
  {
   "cell_type": "markdown",
   "id": "6e5ff1dd",
   "metadata": {},
   "source": [
    "We see here that memory-based collaborative filtering method can determine what movies the user will like based on the knn algorithm using consine similarities. In this case, the ratings are estimated for the user (based on the movie they have not yet watch), and recommended to user if the estimated ratings for the movie for the user is high. However, the RMSE scores are quite high. We can take a look at the model-based approach to see if we can find other models with lower RMSE values."
   ]
  },
  {
   "cell_type": "markdown",
   "id": "50003b83",
   "metadata": {},
   "source": [
    "## Model-Based"
   ]
  },
  {
   "cell_type": "markdown",
   "id": "6bcafd4d",
   "metadata": {},
   "source": [
    "For the model based recommender system, we will use a library called Surprise use SVD and NMF (Non -ve Matrix Factorisation) as a matrix factorization method."
   ]
  },
  {
   "cell_type": "markdown",
   "id": "df900318",
   "metadata": {},
   "source": [
    "### SVD"
   ]
  },
  {
   "cell_type": "code",
   "execution_count": 69,
   "id": "eab311e6",
   "metadata": {},
   "outputs": [
    {
     "name": "stdout",
     "output_type": "stream",
     "text": [
      "RMSE: 0.8979\n"
     ]
    },
    {
     "data": {
      "text/plain": [
       "0.8978931665639476"
      ]
     },
     "execution_count": 69,
     "metadata": {},
     "output_type": "execute_result"
    }
   ],
   "source": [
    "#build trainset and testset object using train_test_split\n",
    "trainset, testset = train_test_split(data, test_size=0.25, random_state=42)\n",
    "\n",
    "# Initialize model for svd\n",
    "svd = SVD(random_state=42)\n",
    "\n",
    "# Train the algorithm on the trainset, and predict ratings for the testset\n",
    "svd.fit(trainset)\n",
    "predictions = svd.test(testset)\n",
    "\n",
    "# Then compute RMSE\n",
    "accuracy.rmse(predictions)"
   ]
  },
  {
   "cell_type": "markdown",
   "id": "257b1ab1",
   "metadata": {},
   "source": [
    "While doing kfold, we see fairly similar RMSE scores across the folds."
   ]
  },
  {
   "cell_type": "code",
   "execution_count": 70,
   "id": "79943244",
   "metadata": {},
   "outputs": [
    {
     "name": "stdout",
     "output_type": "stream",
     "text": [
      "RMSE: 0.8961\n",
      "RMSE: 0.8882\n",
      "RMSE: 0.8994\n",
      "RMSE: 0.8910\n",
      "RMSE: 0.9004\n"
     ]
    }
   ],
   "source": [
    "# define a cross-validation iterator\n",
    "kf = KFold(n_splits=5, random_state=42)\n",
    "\n",
    "for trainset, testset in kf.split(data):\n",
    "\n",
    "    # train and test algorithm.\n",
    "    svd.fit(trainset)\n",
    "    predictions = svd.test(testset)\n",
    "\n",
    "    # Compute and print Root Mean Squared Error\n",
    "    accuracy.rmse(predictions)"
   ]
  },
  {
   "cell_type": "markdown",
   "id": "4602b4c2",
   "metadata": {},
   "source": [
    "Use gridsearch CV improves RMSE by 0.02."
   ]
  },
  {
   "cell_type": "code",
   "execution_count": 71,
   "id": "b9a46c42",
   "metadata": {},
   "outputs": [
    {
     "name": "stdout",
     "output_type": "stream",
     "text": [
      "0.8760241357445813\n",
      "{'n_epochs': 80, 'lr_all': 0.012, 'reg_all': 0.12}\n"
     ]
    }
   ],
   "source": [
    "param_grid = {\"n_epochs\": [50, 80], \"lr_all\": [0.010, 0.012], \"reg_all\": [0.12, 0.14]}\n",
    "gs = GridSearchCV(SVD, param_grid, measures=[\"rmse\", \"mae\"], cv=5)\n",
    "\n",
    "gs.fit(data)\n",
    "\n",
    "# best RMSE score\n",
    "print(gs.best_score[\"rmse\"])\n",
    "\n",
    "# combination of parameters that gave the best RMSE score\n",
    "print(gs.best_params[\"rmse\"])"
   ]
  },
  {
   "cell_type": "markdown",
   "id": "2397fb79",
   "metadata": {},
   "source": [
    "### NMF"
   ]
  },
  {
   "cell_type": "code",
   "execution_count": 72,
   "id": "a2bb06be",
   "metadata": {},
   "outputs": [
    {
     "name": "stdout",
     "output_type": "stream",
     "text": [
      "RMSE: 0.9574\n"
     ]
    },
    {
     "data": {
      "text/plain": [
       "0.9573906031530087"
      ]
     },
     "execution_count": 72,
     "metadata": {},
     "output_type": "execute_result"
    }
   ],
   "source": [
    "# Initialize model for nmf\n",
    "nmf = NMF(random_state=42)\n",
    "\n",
    "# Train the algorithm on the trainset, and predict ratings for the testset\n",
    "nmf.fit(trainset)\n",
    "predictions = nmf.test(testset)\n",
    "\n",
    "# Then compute RMSE\n",
    "accuracy.rmse(predictions)"
   ]
  },
  {
   "cell_type": "markdown",
   "id": "01bb514e",
   "metadata": {},
   "source": [
    "While doing kfold, we see fairly similar RMSE scores across the folds."
   ]
  },
  {
   "cell_type": "code",
   "execution_count": 73,
   "id": "8874e056",
   "metadata": {},
   "outputs": [
    {
     "name": "stdout",
     "output_type": "stream",
     "text": [
      "RMSE: 0.9449\n",
      "RMSE: 0.9413\n",
      "RMSE: 0.9459\n",
      "RMSE: 0.9381\n",
      "RMSE: 0.9574\n"
     ]
    }
   ],
   "source": [
    "# define a cross-validation iterator\n",
    "kf = KFold(n_splits=5, random_state=42)\n",
    "\n",
    "for trainset, testset in kf.split(data):\n",
    "\n",
    "    # train and test algorithm.\n",
    "    nmf.fit(trainset)\n",
    "    predictions = nmf.test(testset)\n",
    "\n",
    "    # Compute and print Root Mean Squared Error\n",
    "    accuracy.rmse(predictions)"
   ]
  },
  {
   "cell_type": "markdown",
   "id": "4cc54fa7",
   "metadata": {},
   "source": [
    "When comparing SVD and NMF, we see here that SVD has lower RMSE score than NMF. We will use SVD to come out with our recommendations."
   ]
  },
  {
   "cell_type": "code",
   "execution_count": 74,
   "id": "b6b4ecab",
   "metadata": {},
   "outputs": [
    {
     "data": {
      "text/plain": [
       "[('Nell', 4.561367353331784),\n",
       " ('Flags of Our Fathers', 4.505289018375288),\n",
       " ('Fools Rush In', 4.485137634498578),\n",
       " ('Shriek If You Know What I Did Last Friday the Thirteenth',\n",
       "  4.480267721603876),\n",
       " ('Sleepless in Seattle', 4.470329127881765),\n",
       " ('Galaxy Quest', 4.462592937627489),\n",
       " ('Cool Hand Luke', 4.461669090179023),\n",
       " ('Birdman of Alcatraz', 4.412927255554211),\n",
       " ('Edward Scissorhands', 4.408618345245424),\n",
       " ('The Thomas Crown Affair', 4.4085953121641435)]"
      ]
     },
     "execution_count": 74,
     "metadata": {},
     "output_type": "execute_result"
    }
   ],
   "source": [
    "get_recommendations(671,10,svd)"
   ]
  },
  {
   "cell_type": "markdown",
   "id": "1d77d087",
   "metadata": {},
   "source": [
    "### Deep Neural Network"
   ]
  },
  {
   "cell_type": "markdown",
   "id": "177e2fa5",
   "metadata": {},
   "source": [
    "We will use the fastai library to build our Deep Neural Network model.\n",
    "\n",
    "*To refer to the Deep Neural Network.ipynb file for codes as google colab was used to run the codes.\n",
    "\n",
    "Based on the best RMSE scores for DNN of 0.87, it is actually same as the RMSE score for SVD of 0.87. DNN and SVD model shows the best RMSE score to make predictions for our recommender system."
   ]
  },
  {
   "cell_type": "markdown",
   "id": "c5e483d3",
   "metadata": {},
   "source": [
    "# Conclusion"
   ]
  },
  {
   "cell_type": "markdown",
   "id": "95ab678f",
   "metadata": {},
   "source": [
    "In our project, we analyse basic, content-based and collaborative filtering movie recommendater systems. Basic movie recommender systems uses a weighted rating formula to come up with top movies chart or top movies in each genre list. However, this type of recommender system is not unique to user preference. Content-based filtering considers the movie attributes of the movie which the user is fond of to come up with recommendations for user. In our project, we utilise the title, overview, tagline, genre, keywords of plot and movie cast and apply TF-IDF and consine similarities to determine which movies users will like. However, there is the issue of cold-start, it does not takes into account other users' preference and determining what characteristics of the item the user dislikes or likes is not usually obvious. In collaborative filtering, all the users are taken into consideration and people with similar tastes and preferences are used to suggest new and specific products to the primary user. In our project, we utilised memory and model based method. Model-based method SVD and DNN proved to perform the best based on the lowest RMSE score of 0.87. However, collaborative filtering has issues with data sparsity if there is no sufficient historical data and scalability when a decrease in performance is inevitable with increase amount of data. Recommendations would be to come up with a hybrid recommender system combining both content-based and collaborative filtering."
   ]
  }
 ],
 "metadata": {
  "kernelspec": {
   "display_name": "Python 3 (ipykernel)",
   "language": "python",
   "name": "python3"
  },
  "language_info": {
   "codemirror_mode": {
    "name": "ipython",
    "version": 3
   },
   "file_extension": ".py",
   "mimetype": "text/x-python",
   "name": "python",
   "nbconvert_exporter": "python",
   "pygments_lexer": "ipython3",
   "version": "3.9.12"
  }
 },
 "nbformat": 4,
 "nbformat_minor": 5
}
